{
 "cells": [
  {
   "cell_type": "markdown",
   "id": "94e5bc68",
   "metadata": {},
   "source": [
    "Import Data:"
   ]
  },
  {
   "cell_type": "code",
   "execution_count": 81,
   "id": "8885f528",
   "metadata": {},
   "outputs": [
    {
     "name": "stderr",
     "output_type": "stream",
     "text": [
      "[nltk_data] Downloading package punkt to /Users/kobo/nltk_data...\n",
      "[nltk_data]   Package punkt is already up-to-date!\n"
     ]
    }
   ],
   "source": [
    "import pandas as pd\n",
    "import numpy as np\n",
    "import datetime\n",
    "pd.set_option('display.max_columns', 999)\n",
    "import pandas.io.sql as psql\n",
    "# plot a figure directly on Notebook\n",
    "import matplotlib.pyplot as plt\n",
    "import nltk\n",
    "nltk.download('punkt')\n",
    "from sklearn.feature_extraction.text import CountVectorizer\n",
    "from scipy.sparse import hstack"
   ]
  },
  {
   "cell_type": "code",
   "execution_count": 82,
   "id": "ad23aea5",
   "metadata": {},
   "outputs": [],
   "source": [
    "from os.path import exists\n",
    "data_dir = '/Users/kobo/Documents/aiforhealth/AIForHealth_V-A/data/mimic-iii-clinical-database-1.4'"
   ]
  },
  {
   "cell_type": "code",
   "execution_count": 83,
   "id": "de052ea2",
   "metadata": {},
   "outputs": [
    {
     "name": "stderr",
     "output_type": "stream",
     "text": [
      "/var/folders/8g/mc6q7d1x28n5v1v_c5nv73cw0000gn/T/ipykernel_97006/151477038.py:2: DtypeWarning: Columns (4,5) have mixed types. Specify dtype option on import or set low_memory=False.\n",
      "  note_events = pd.read_csv(f'{data_dir}/NOTEEVENTS.csv')\n"
     ]
    },
    {
     "name": "stdout",
     "output_type": "stream",
     "text": [
      "Admissions Table\t(58976, 19)\n",
      "Index(['ROW_ID', 'SUBJECT_ID', 'HADM_ID', 'ADMITTIME', 'DISCHTIME',\n",
      "       'DEATHTIME', 'ADMISSION_TYPE', 'ADMISSION_LOCATION',\n",
      "       'DISCHARGE_LOCATION', 'INSURANCE', 'LANGUAGE', 'RELIGION',\n",
      "       'MARITAL_STATUS', 'ETHNICITY', 'EDREGTIME', 'EDOUTTIME', 'DIAGNOSIS',\n",
      "       'HOSPITAL_EXPIRE_FLAG', 'HAS_CHARTEVENTS_DATA'],\n",
      "      dtype='object')\n",
      "\n",
      "Patients Table\t\t(46520, 8)\n",
      "Index(['ROW_ID', 'SUBJECT_ID', 'GENDER', 'DOB', 'DOD', 'DOD_HOSP', 'DOD_SSN',\n",
      "       'EXPIRE_FLAG'],\n",
      "      dtype='object')\n",
      "\n",
      "Note Events Table\t\t(2083180, 11)\n",
      "Index(['ROW_ID', 'SUBJECT_ID', 'HADM_ID', 'CHARTDATE', 'CHARTTIME',\n",
      "       'STORETIME', 'CATEGORY', 'DESCRIPTION', 'CGID', 'ISERROR', 'TEXT'],\n",
      "      dtype='object')\n"
     ]
    }
   ],
   "source": [
    "admissions = pd.read_csv(f'{data_dir}/ADMISSIONS.csv.gz', compression='gzip', low_memory=False)\n",
    "note_events = pd.read_csv(f'{data_dir}/NOTEEVENTS.csv')\n",
    "patients = pd.read_csv(f'{data_dir}/PATIENTS.csv')\n",
    "\n",
    "# admissions = pd.read_csv(\"demo-data/ADMISSIONS.csv\")\n",
    "# diagnoses = pd.read_csv(\"demo-data/DIAGNOSES_ICD.csv\")\n",
    "# patients = pd.read_csv(\"demo-data/PATIENTS.csv\")\n",
    "\n",
    "print(\"Admissions Table\\t\" + str(admissions.shape))\n",
    "print(admissions.columns)\n",
    "# print(\"\\nDiagnoses Table\\t\\t\" + str(diagnoses.shape))\n",
    "# print(diagnoses.columns)\n",
    "print(\"\\nPatients Table\\t\\t\" + str(patients.shape))\n",
    "print(patients.columns)\n",
    "print(\"\\nNote Events Table\\t\\t\" + str(note_events.shape))\n",
    "print(note_events.columns)"
   ]
  },
  {
   "cell_type": "code",
   "execution_count": 106,
   "id": "e43bc76d",
   "metadata": {},
   "outputs": [],
   "source": [
    "# Merge Tables\n",
    "# merged = admissions.merge(patients, on=\"SUBJECT_ID\").merge(diagnoses, \n",
    "#             left_on=[\"SUBJECT_ID\",\"HADM_ID\"], right_on=[\"SUBJECT_ID\",\"HADM_ID\"])\n",
    "merged = admissions\n",
    "\n",
    "#\n",
    "# PROBLEM: there are multiple entries now for one admission time, each entry represents a different diagnoses\n",
    "    # Counts for diagnoses for one admittime range from 1 to 57\n",
    "        # print(merged['ADMITTIME'].value_counts())\n",
    "# Possible Fixes: merge them all together and make a new column that holds each diagnoses in an array\n",
    "\n",
    "# Convert time to objects\n",
    "merged[\"ADMITTIME\"] = pd.to_datetime(merged[\"ADMITTIME\"], format = '%Y-%m-%d %H:%M:%S', errors = 'coerce')\n",
    "merged[\"DISCHTIME\"] = pd.to_datetime(merged[\"DISCHTIME\"], format = '%Y-%m-%d %H:%M:%S', errors = 'coerce')\n",
    "merged[\"DEATHTIME\"] = pd.to_datetime(merged[\"DISCHTIME\"], format = '%Y-%m-%d %H:%M:%S', errors = 'coerce')\n",
    "\n",
    "merged = merged.sort_values(['SUBJECT_ID','ADMITTIME'])\n",
    "merged = merged.reset_index(drop = True)\n",
    "\n",
    "merged['NEXT_ADMITTIME'] = merged.groupby('SUBJECT_ID').ADMITTIME.shift(-1)\n",
    "# get the next admission type\n",
    "merged['NEXT_ADMISSION_TYPE'] = merged.groupby('SUBJECT_ID').ADMISSION_TYPE.shift(-1)"
   ]
  },
  {
   "cell_type": "code",
   "execution_count": 107,
   "id": "54dda505",
   "metadata": {},
   "outputs": [
    {
     "data": {
      "text/plain": [
       "12451"
      ]
     },
     "execution_count": 107,
     "metadata": {},
     "output_type": "execute_result"
    }
   ],
   "source": [
    "len(merged['NEXT_ADMITTIME'].unique())"
   ]
  },
  {
   "cell_type": "code",
   "execution_count": 108,
   "id": "186722e4",
   "metadata": {},
   "outputs": [
    {
     "data": {
      "text/plain": [
       "11048"
      ]
     },
     "execution_count": 108,
     "metadata": {},
     "output_type": "execute_result"
    }
   ],
   "source": [
    "rows = merged.NEXT_ADMISSION_TYPE == 'ELECTIVE'\n",
    "merged.loc[rows,'NEXT_ADMITTIME'] = pd.NaT\n",
    "merged.loc[rows,'NEXT_ADMISSION_TYPE'] = np.NaN\n",
    "len(merged['NEXT_ADMITTIME'].unique())"
   ]
  },
  {
   "cell_type": "code",
   "execution_count": 109,
   "id": "c1e48c17",
   "metadata": {},
   "outputs": [],
   "source": [
    "merged = merged.sort_values(['SUBJECT_ID','ADMITTIME'])\n",
    "merged[['NEXT_ADMITTIME','NEXT_ADMISSION_TYPE']] = merged.groupby(['SUBJECT_ID'])[['NEXT_ADMITTIME','NEXT_ADMISSION_TYPE']].fillna(method = 'bfill')"
   ]
  },
  {
   "cell_type": "code",
   "execution_count": 110,
   "id": "caa512e3",
   "metadata": {
    "scrolled": true
   },
   "outputs": [
    {
     "data": {
      "text/plain": [
       "<DatetimeArray>\n",
       "[                'NaT', '2135-05-09 14:11:00', '2135-01-30 20:50:00',\n",
       " '2157-10-18 19:34:00', '2191-02-23 05:23:00', '2131-05-12 19:49:00',\n",
       " '2119-01-04 18:12:00', '2157-12-02 00:45:00', '2174-01-04 22:21:00',\n",
       " '2196-04-14 04:02:00',\n",
       " ...\n",
       " '2191-08-03 19:11:00', '2191-12-23 01:03:00', '2133-08-01 19:20:00',\n",
       " '2125-11-01 00:00:00', '2197-06-16 03:01:00', '2197-07-03 02:24:00',\n",
       " '2182-07-03 19:50:00', '2201-05-15 13:12:00', '2157-01-05 17:27:00',\n",
       " '2157-02-16 17:31:00']\n",
       "Length: 11048, dtype: datetime64[ns]"
      ]
     },
     "execution_count": 110,
     "metadata": {},
     "output_type": "execute_result"
    }
   ],
   "source": [
    "merged['NEXT_ADMITTIME'].unique()"
   ]
  },
  {
   "cell_type": "code",
   "execution_count": 111,
   "id": "d6f5190b",
   "metadata": {
    "scrolled": false
   },
   "outputs": [
    {
     "data": {
      "text/html": [
       "<div>\n",
       "<style scoped>\n",
       "    .dataframe tbody tr th:only-of-type {\n",
       "        vertical-align: middle;\n",
       "    }\n",
       "\n",
       "    .dataframe tbody tr th {\n",
       "        vertical-align: top;\n",
       "    }\n",
       "\n",
       "    .dataframe thead th {\n",
       "        text-align: right;\n",
       "    }\n",
       "</style>\n",
       "<table border=\"1\" class=\"dataframe\">\n",
       "  <thead>\n",
       "    <tr style=\"text-align: right;\">\n",
       "      <th></th>\n",
       "      <th>ROW_ID</th>\n",
       "      <th>SUBJECT_ID</th>\n",
       "      <th>HADM_ID</th>\n",
       "      <th>ADMITTIME</th>\n",
       "      <th>DISCHTIME</th>\n",
       "      <th>DEATHTIME</th>\n",
       "      <th>ADMISSION_TYPE</th>\n",
       "      <th>ADMISSION_LOCATION</th>\n",
       "      <th>DISCHARGE_LOCATION</th>\n",
       "      <th>INSURANCE</th>\n",
       "      <th>LANGUAGE</th>\n",
       "      <th>RELIGION</th>\n",
       "      <th>MARITAL_STATUS</th>\n",
       "      <th>ETHNICITY</th>\n",
       "      <th>EDREGTIME</th>\n",
       "      <th>EDOUTTIME</th>\n",
       "      <th>DIAGNOSIS</th>\n",
       "      <th>HOSPITAL_EXPIRE_FLAG</th>\n",
       "      <th>HAS_CHARTEVENTS_DATA</th>\n",
       "      <th>NEXT_ADMITTIME</th>\n",
       "      <th>NEXT_ADMISSION_TYPE</th>\n",
       "      <th>DAYS_NEXT_ADMIT</th>\n",
       "      <th>DAYS_STAY</th>\n",
       "    </tr>\n",
       "  </thead>\n",
       "  <tbody>\n",
       "    <tr>\n",
       "      <th>0</th>\n",
       "      <td>1</td>\n",
       "      <td>2</td>\n",
       "      <td>163353</td>\n",
       "      <td>2138-07-17 19:04:00</td>\n",
       "      <td>2138-07-21 15:48:00</td>\n",
       "      <td>2138-07-21 15:48:00</td>\n",
       "      <td>NEWBORN</td>\n",
       "      <td>PHYS REFERRAL/NORMAL DELI</td>\n",
       "      <td>HOME</td>\n",
       "      <td>Private</td>\n",
       "      <td>NaN</td>\n",
       "      <td>NOT SPECIFIED</td>\n",
       "      <td>NaN</td>\n",
       "      <td>ASIAN</td>\n",
       "      <td>NaN</td>\n",
       "      <td>NaN</td>\n",
       "      <td>NEWBORN</td>\n",
       "      <td>0</td>\n",
       "      <td>1</td>\n",
       "      <td>NaT</td>\n",
       "      <td>NaN</td>\n",
       "      <td>NaN</td>\n",
       "      <td>3.863889</td>\n",
       "    </tr>\n",
       "    <tr>\n",
       "      <th>1</th>\n",
       "      <td>2</td>\n",
       "      <td>3</td>\n",
       "      <td>145834</td>\n",
       "      <td>2101-10-20 19:08:00</td>\n",
       "      <td>2101-10-31 13:58:00</td>\n",
       "      <td>2101-10-31 13:58:00</td>\n",
       "      <td>EMERGENCY</td>\n",
       "      <td>EMERGENCY ROOM ADMIT</td>\n",
       "      <td>SNF</td>\n",
       "      <td>Medicare</td>\n",
       "      <td>NaN</td>\n",
       "      <td>CATHOLIC</td>\n",
       "      <td>MARRIED</td>\n",
       "      <td>WHITE</td>\n",
       "      <td>2101-10-20 17:09:00</td>\n",
       "      <td>2101-10-20 19:24:00</td>\n",
       "      <td>HYPOTENSION</td>\n",
       "      <td>0</td>\n",
       "      <td>1</td>\n",
       "      <td>NaT</td>\n",
       "      <td>NaN</td>\n",
       "      <td>NaN</td>\n",
       "      <td>10.784722</td>\n",
       "    </tr>\n",
       "    <tr>\n",
       "      <th>2</th>\n",
       "      <td>3</td>\n",
       "      <td>4</td>\n",
       "      <td>185777</td>\n",
       "      <td>2191-03-16 00:28:00</td>\n",
       "      <td>2191-03-23 18:41:00</td>\n",
       "      <td>2191-03-23 18:41:00</td>\n",
       "      <td>EMERGENCY</td>\n",
       "      <td>EMERGENCY ROOM ADMIT</td>\n",
       "      <td>HOME WITH HOME IV PROVIDR</td>\n",
       "      <td>Private</td>\n",
       "      <td>NaN</td>\n",
       "      <td>PROTESTANT QUAKER</td>\n",
       "      <td>SINGLE</td>\n",
       "      <td>WHITE</td>\n",
       "      <td>2191-03-15 13:10:00</td>\n",
       "      <td>2191-03-16 01:10:00</td>\n",
       "      <td>FEVER,DEHYDRATION,FAILURE TO THRIVE</td>\n",
       "      <td>0</td>\n",
       "      <td>1</td>\n",
       "      <td>NaT</td>\n",
       "      <td>NaN</td>\n",
       "      <td>NaN</td>\n",
       "      <td>7.759028</td>\n",
       "    </tr>\n",
       "    <tr>\n",
       "      <th>3</th>\n",
       "      <td>4</td>\n",
       "      <td>5</td>\n",
       "      <td>178980</td>\n",
       "      <td>2103-02-02 04:31:00</td>\n",
       "      <td>2103-02-04 12:15:00</td>\n",
       "      <td>2103-02-04 12:15:00</td>\n",
       "      <td>NEWBORN</td>\n",
       "      <td>PHYS REFERRAL/NORMAL DELI</td>\n",
       "      <td>HOME</td>\n",
       "      <td>Private</td>\n",
       "      <td>NaN</td>\n",
       "      <td>BUDDHIST</td>\n",
       "      <td>NaN</td>\n",
       "      <td>ASIAN</td>\n",
       "      <td>NaN</td>\n",
       "      <td>NaN</td>\n",
       "      <td>NEWBORN</td>\n",
       "      <td>0</td>\n",
       "      <td>1</td>\n",
       "      <td>NaT</td>\n",
       "      <td>NaN</td>\n",
       "      <td>NaN</td>\n",
       "      <td>2.322222</td>\n",
       "    </tr>\n",
       "    <tr>\n",
       "      <th>4</th>\n",
       "      <td>5</td>\n",
       "      <td>6</td>\n",
       "      <td>107064</td>\n",
       "      <td>2175-05-30 07:15:00</td>\n",
       "      <td>2175-06-15 16:00:00</td>\n",
       "      <td>2175-06-15 16:00:00</td>\n",
       "      <td>ELECTIVE</td>\n",
       "      <td>PHYS REFERRAL/NORMAL DELI</td>\n",
       "      <td>HOME HEALTH CARE</td>\n",
       "      <td>Medicare</td>\n",
       "      <td>ENGL</td>\n",
       "      <td>NOT SPECIFIED</td>\n",
       "      <td>MARRIED</td>\n",
       "      <td>WHITE</td>\n",
       "      <td>NaN</td>\n",
       "      <td>NaN</td>\n",
       "      <td>CHRONIC RENAL FAILURE/SDA</td>\n",
       "      <td>0</td>\n",
       "      <td>1</td>\n",
       "      <td>NaT</td>\n",
       "      <td>NaN</td>\n",
       "      <td>NaN</td>\n",
       "      <td>16.364583</td>\n",
       "    </tr>\n",
       "    <tr>\n",
       "      <th>...</th>\n",
       "      <td>...</td>\n",
       "      <td>...</td>\n",
       "      <td>...</td>\n",
       "      <td>...</td>\n",
       "      <td>...</td>\n",
       "      <td>...</td>\n",
       "      <td>...</td>\n",
       "      <td>...</td>\n",
       "      <td>...</td>\n",
       "      <td>...</td>\n",
       "      <td>...</td>\n",
       "      <td>...</td>\n",
       "      <td>...</td>\n",
       "      <td>...</td>\n",
       "      <td>...</td>\n",
       "      <td>...</td>\n",
       "      <td>...</td>\n",
       "      <td>...</td>\n",
       "      <td>...</td>\n",
       "      <td>...</td>\n",
       "      <td>...</td>\n",
       "      <td>...</td>\n",
       "      <td>...</td>\n",
       "    </tr>\n",
       "    <tr>\n",
       "      <th>58971</th>\n",
       "      <td>58972</td>\n",
       "      <td>99985</td>\n",
       "      <td>176670</td>\n",
       "      <td>2181-01-27 02:47:00</td>\n",
       "      <td>2181-02-12 17:05:00</td>\n",
       "      <td>2181-02-12 17:05:00</td>\n",
       "      <td>EMERGENCY</td>\n",
       "      <td>EMERGENCY ROOM ADMIT</td>\n",
       "      <td>HOME HEALTH CARE</td>\n",
       "      <td>Private</td>\n",
       "      <td>ENGL</td>\n",
       "      <td>JEWISH</td>\n",
       "      <td>MARRIED</td>\n",
       "      <td>WHITE</td>\n",
       "      <td>2181-01-26 23:35:00</td>\n",
       "      <td>2181-01-27 04:18:00</td>\n",
       "      <td>FEVER</td>\n",
       "      <td>0</td>\n",
       "      <td>1</td>\n",
       "      <td>NaT</td>\n",
       "      <td>NaN</td>\n",
       "      <td>NaN</td>\n",
       "      <td>16.595833</td>\n",
       "    </tr>\n",
       "    <tr>\n",
       "      <th>58972</th>\n",
       "      <td>58973</td>\n",
       "      <td>99991</td>\n",
       "      <td>151118</td>\n",
       "      <td>2184-12-24 08:30:00</td>\n",
       "      <td>2185-01-05 12:15:00</td>\n",
       "      <td>2185-01-05 12:15:00</td>\n",
       "      <td>ELECTIVE</td>\n",
       "      <td>PHYS REFERRAL/NORMAL DELI</td>\n",
       "      <td>HOME</td>\n",
       "      <td>Private</td>\n",
       "      <td>ENGL</td>\n",
       "      <td>NOT SPECIFIED</td>\n",
       "      <td>MARRIED</td>\n",
       "      <td>WHITE</td>\n",
       "      <td>NaN</td>\n",
       "      <td>NaN</td>\n",
       "      <td>DIVERTICULITIS/SDA</td>\n",
       "      <td>0</td>\n",
       "      <td>1</td>\n",
       "      <td>NaT</td>\n",
       "      <td>NaN</td>\n",
       "      <td>NaN</td>\n",
       "      <td>12.156250</td>\n",
       "    </tr>\n",
       "    <tr>\n",
       "      <th>58973</th>\n",
       "      <td>58974</td>\n",
       "      <td>99992</td>\n",
       "      <td>197084</td>\n",
       "      <td>2144-07-25 18:03:00</td>\n",
       "      <td>2144-07-28 17:56:00</td>\n",
       "      <td>2144-07-28 17:56:00</td>\n",
       "      <td>EMERGENCY</td>\n",
       "      <td>CLINIC REFERRAL/PREMATURE</td>\n",
       "      <td>SNF</td>\n",
       "      <td>Medicare</td>\n",
       "      <td>ENGL</td>\n",
       "      <td>CATHOLIC</td>\n",
       "      <td>WIDOWED</td>\n",
       "      <td>WHITE</td>\n",
       "      <td>2144-07-25 13:40:00</td>\n",
       "      <td>2144-07-25 18:50:00</td>\n",
       "      <td>RETROPERITONEAL HEMORRHAGE</td>\n",
       "      <td>0</td>\n",
       "      <td>1</td>\n",
       "      <td>NaT</td>\n",
       "      <td>NaN</td>\n",
       "      <td>NaN</td>\n",
       "      <td>2.995139</td>\n",
       "    </tr>\n",
       "    <tr>\n",
       "      <th>58974</th>\n",
       "      <td>58975</td>\n",
       "      <td>99995</td>\n",
       "      <td>137810</td>\n",
       "      <td>2147-02-08 08:00:00</td>\n",
       "      <td>2147-02-11 13:15:00</td>\n",
       "      <td>2147-02-11 13:15:00</td>\n",
       "      <td>ELECTIVE</td>\n",
       "      <td>PHYS REFERRAL/NORMAL DELI</td>\n",
       "      <td>HOME</td>\n",
       "      <td>Medicare</td>\n",
       "      <td>ENGL</td>\n",
       "      <td>NOT SPECIFIED</td>\n",
       "      <td>MARRIED</td>\n",
       "      <td>WHITE</td>\n",
       "      <td>NaN</td>\n",
       "      <td>NaN</td>\n",
       "      <td>ABDOMINAL AORTIC ANEURYSM/SDA</td>\n",
       "      <td>0</td>\n",
       "      <td>1</td>\n",
       "      <td>NaT</td>\n",
       "      <td>NaN</td>\n",
       "      <td>NaN</td>\n",
       "      <td>3.218750</td>\n",
       "    </tr>\n",
       "    <tr>\n",
       "      <th>58975</th>\n",
       "      <td>58976</td>\n",
       "      <td>99999</td>\n",
       "      <td>113369</td>\n",
       "      <td>2117-12-30 07:15:00</td>\n",
       "      <td>2118-01-04 16:30:00</td>\n",
       "      <td>2118-01-04 16:30:00</td>\n",
       "      <td>ELECTIVE</td>\n",
       "      <td>PHYS REFERRAL/NORMAL DELI</td>\n",
       "      <td>SNF</td>\n",
       "      <td>Medicare</td>\n",
       "      <td>SPAN</td>\n",
       "      <td>JEHOVAH'S WITNESS</td>\n",
       "      <td>SEPARATED</td>\n",
       "      <td>HISPANIC OR LATINO</td>\n",
       "      <td>NaN</td>\n",
       "      <td>NaN</td>\n",
       "      <td>SPONDYLOLISTHESIS/SDA</td>\n",
       "      <td>0</td>\n",
       "      <td>1</td>\n",
       "      <td>NaT</td>\n",
       "      <td>NaN</td>\n",
       "      <td>NaN</td>\n",
       "      <td>5.385417</td>\n",
       "    </tr>\n",
       "  </tbody>\n",
       "</table>\n",
       "<p>58976 rows × 23 columns</p>\n",
       "</div>"
      ],
      "text/plain": [
       "       ROW_ID  SUBJECT_ID  HADM_ID           ADMITTIME           DISCHTIME  \\\n",
       "0           1           2   163353 2138-07-17 19:04:00 2138-07-21 15:48:00   \n",
       "1           2           3   145834 2101-10-20 19:08:00 2101-10-31 13:58:00   \n",
       "2           3           4   185777 2191-03-16 00:28:00 2191-03-23 18:41:00   \n",
       "3           4           5   178980 2103-02-02 04:31:00 2103-02-04 12:15:00   \n",
       "4           5           6   107064 2175-05-30 07:15:00 2175-06-15 16:00:00   \n",
       "...       ...         ...      ...                 ...                 ...   \n",
       "58971   58972       99985   176670 2181-01-27 02:47:00 2181-02-12 17:05:00   \n",
       "58972   58973       99991   151118 2184-12-24 08:30:00 2185-01-05 12:15:00   \n",
       "58973   58974       99992   197084 2144-07-25 18:03:00 2144-07-28 17:56:00   \n",
       "58974   58975       99995   137810 2147-02-08 08:00:00 2147-02-11 13:15:00   \n",
       "58975   58976       99999   113369 2117-12-30 07:15:00 2118-01-04 16:30:00   \n",
       "\n",
       "                DEATHTIME ADMISSION_TYPE         ADMISSION_LOCATION  \\\n",
       "0     2138-07-21 15:48:00        NEWBORN  PHYS REFERRAL/NORMAL DELI   \n",
       "1     2101-10-31 13:58:00      EMERGENCY       EMERGENCY ROOM ADMIT   \n",
       "2     2191-03-23 18:41:00      EMERGENCY       EMERGENCY ROOM ADMIT   \n",
       "3     2103-02-04 12:15:00        NEWBORN  PHYS REFERRAL/NORMAL DELI   \n",
       "4     2175-06-15 16:00:00       ELECTIVE  PHYS REFERRAL/NORMAL DELI   \n",
       "...                   ...            ...                        ...   \n",
       "58971 2181-02-12 17:05:00      EMERGENCY       EMERGENCY ROOM ADMIT   \n",
       "58972 2185-01-05 12:15:00       ELECTIVE  PHYS REFERRAL/NORMAL DELI   \n",
       "58973 2144-07-28 17:56:00      EMERGENCY  CLINIC REFERRAL/PREMATURE   \n",
       "58974 2147-02-11 13:15:00       ELECTIVE  PHYS REFERRAL/NORMAL DELI   \n",
       "58975 2118-01-04 16:30:00       ELECTIVE  PHYS REFERRAL/NORMAL DELI   \n",
       "\n",
       "              DISCHARGE_LOCATION INSURANCE LANGUAGE           RELIGION  \\\n",
       "0                           HOME   Private      NaN      NOT SPECIFIED   \n",
       "1                            SNF  Medicare      NaN           CATHOLIC   \n",
       "2      HOME WITH HOME IV PROVIDR   Private      NaN  PROTESTANT QUAKER   \n",
       "3                           HOME   Private      NaN           BUDDHIST   \n",
       "4               HOME HEALTH CARE  Medicare     ENGL      NOT SPECIFIED   \n",
       "...                          ...       ...      ...                ...   \n",
       "58971           HOME HEALTH CARE   Private     ENGL             JEWISH   \n",
       "58972                       HOME   Private     ENGL      NOT SPECIFIED   \n",
       "58973                        SNF  Medicare     ENGL           CATHOLIC   \n",
       "58974                       HOME  Medicare     ENGL      NOT SPECIFIED   \n",
       "58975                        SNF  Medicare     SPAN  JEHOVAH'S WITNESS   \n",
       "\n",
       "      MARITAL_STATUS           ETHNICITY            EDREGTIME  \\\n",
       "0                NaN               ASIAN                  NaN   \n",
       "1            MARRIED               WHITE  2101-10-20 17:09:00   \n",
       "2             SINGLE               WHITE  2191-03-15 13:10:00   \n",
       "3                NaN               ASIAN                  NaN   \n",
       "4            MARRIED               WHITE                  NaN   \n",
       "...              ...                 ...                  ...   \n",
       "58971        MARRIED               WHITE  2181-01-26 23:35:00   \n",
       "58972        MARRIED               WHITE                  NaN   \n",
       "58973        WIDOWED               WHITE  2144-07-25 13:40:00   \n",
       "58974        MARRIED               WHITE                  NaN   \n",
       "58975      SEPARATED  HISPANIC OR LATINO                  NaN   \n",
       "\n",
       "                 EDOUTTIME                            DIAGNOSIS  \\\n",
       "0                      NaN                              NEWBORN   \n",
       "1      2101-10-20 19:24:00                          HYPOTENSION   \n",
       "2      2191-03-16 01:10:00  FEVER,DEHYDRATION,FAILURE TO THRIVE   \n",
       "3                      NaN                              NEWBORN   \n",
       "4                      NaN            CHRONIC RENAL FAILURE/SDA   \n",
       "...                    ...                                  ...   \n",
       "58971  2181-01-27 04:18:00                                FEVER   \n",
       "58972                  NaN                   DIVERTICULITIS/SDA   \n",
       "58973  2144-07-25 18:50:00           RETROPERITONEAL HEMORRHAGE   \n",
       "58974                  NaN        ABDOMINAL AORTIC ANEURYSM/SDA   \n",
       "58975                  NaN                SPONDYLOLISTHESIS/SDA   \n",
       "\n",
       "       HOSPITAL_EXPIRE_FLAG  HAS_CHARTEVENTS_DATA NEXT_ADMITTIME  \\\n",
       "0                         0                     1            NaT   \n",
       "1                         0                     1            NaT   \n",
       "2                         0                     1            NaT   \n",
       "3                         0                     1            NaT   \n",
       "4                         0                     1            NaT   \n",
       "...                     ...                   ...            ...   \n",
       "58971                     0                     1            NaT   \n",
       "58972                     0                     1            NaT   \n",
       "58973                     0                     1            NaT   \n",
       "58974                     0                     1            NaT   \n",
       "58975                     0                     1            NaT   \n",
       "\n",
       "      NEXT_ADMISSION_TYPE  DAYS_NEXT_ADMIT  DAYS_STAY  \n",
       "0                     NaN              NaN   3.863889  \n",
       "1                     NaN              NaN  10.784722  \n",
       "2                     NaN              NaN   7.759028  \n",
       "3                     NaN              NaN   2.322222  \n",
       "4                     NaN              NaN  16.364583  \n",
       "...                   ...              ...        ...  \n",
       "58971                 NaN              NaN  16.595833  \n",
       "58972                 NaN              NaN  12.156250  \n",
       "58973                 NaN              NaN   2.995139  \n",
       "58974                 NaN              NaN   3.218750  \n",
       "58975                 NaN              NaN   5.385417  \n",
       "\n",
       "[58976 rows x 23 columns]"
      ]
     },
     "execution_count": 111,
     "metadata": {},
     "output_type": "execute_result"
    }
   ],
   "source": [
    "merged['DAYS_NEXT_ADMIT']=(merged.NEXT_ADMITTIME - merged.DISCHTIME).dt.total_seconds()/(24*60*60)\n",
    "merged['DAYS_STAY'] = (merged.DISCHTIME - merged.ADMITTIME).dt.total_seconds()/(24*60*60)\n",
    "merged"
   ]
  },
  {
   "cell_type": "code",
   "execution_count": 112,
   "id": "4e75b9ed",
   "metadata": {},
   "outputs": [
    {
     "data": {
      "image/png": "[encoded data removed]",
      "text/plain": [
       "<Figure size 1500x2000 with 1 Axes>"
      ]
     },
     "metadata": {},
     "output_type": "display_data"
    }
   ],
   "source": [
    "plt.hist(merged.loc[~merged.DAYS_NEXT_ADMIT.isnull(),'DAYS_NEXT_ADMIT'], bins =range(0,365,30))\n",
    "plt.xlim([0,365])\n",
    "plt.xlabel('Days between admissions')\n",
    "plt.ylabel('Counts')\n",
    "plt.show()"
   ]
  },
  {
   "cell_type": "code",
   "execution_count": 113,
   "id": "3c2d8ef5",
   "metadata": {
    "scrolled": false
   },
   "outputs": [
    {
     "data": {
      "text/plain": [
       "True"
      ]
     },
     "execution_count": 113,
     "metadata": {},
     "output_type": "execute_result"
    }
   ],
   "source": [
    "# For all 'CATEGORY' = 'Discharge summary':\n",
    "    #'DESCRIPTION': ['Addendum', 'Report']        *Do we care if Addendum vs. Report? Addendum seems to have more information than initial Report but also some different info like Service:\"\" \n",
    "    #'CGID': NaN\n",
    "    #'ISERROR': NaN\n",
    "    \n",
    "# could use all categories of notes by concatenating them if we wanted.\n",
    "\n",
    "discharge_notes = note_events[note_events['CATEGORY']=='Discharge summary']\n",
    "unique_discharge_notes = discharge_notes.groupby(['SUBJECT_ID','HADM_ID']).nth(-1).reset_index()\n",
    "unique_discharge_notes.duplicated(['HADM_ID']).sum() == 0"
   ]
  },
  {
   "cell_type": "code",
   "execution_count": 114,
   "id": "bb0dd28e",
   "metadata": {
    "scrolled": false
   },
   "outputs": [],
   "source": [
    "merged = merged.merge(unique_discharge_notes[['SUBJECT_ID', 'HADM_ID', 'TEXT']], on=['SUBJECT_ID', 'HADM_ID'], how='left')"
   ]
  },
  {
   "cell_type": "code",
   "execution_count": 115,
   "id": "d507fcad",
   "metadata": {},
   "outputs": [],
   "source": [
    "merged = merged.merge(patients[['SUBJECT_ID', 'DOB', 'GENDER']], on=['SUBJECT_ID'], how='left')"
   ]
  },
  {
   "cell_type": "code",
   "execution_count": 116,
   "id": "08490510",
   "metadata": {},
   "outputs": [],
   "source": [
    "#Calculate age\n",
    "\n",
    "merged['DOB'] = pd.to_datetime(merged[\"DOB\"], format = '%Y-%m-%d %H:%M:%S', errors = 'coerce')\n",
    "merged['ADMITTIME'] = pd.to_datetime(merged['ADMITTIME'])\n",
    "merged['DOB']\n",
    "merged['AGE'] = ((merged['ADMITTIME'].values  - merged['DOB'].values).astype(int)/8.64e13//365).astype(int)\n"
   ]
  },
  {
   "cell_type": "code",
   "execution_count": 117,
   "id": "a3b32fe7",
   "metadata": {
    "scrolled": true
   },
   "outputs": [
    {
     "data": {
      "text/html": [
       "<div>\n",
       "<style scoped>\n",
       "    .dataframe tbody tr th:only-of-type {\n",
       "        vertical-align: middle;\n",
       "    }\n",
       "\n",
       "    .dataframe tbody tr th {\n",
       "        vertical-align: top;\n",
       "    }\n",
       "\n",
       "    .dataframe thead th {\n",
       "        text-align: right;\n",
       "    }\n",
       "</style>\n",
       "<table border=\"1\" class=\"dataframe\">\n",
       "  <thead>\n",
       "    <tr style=\"text-align: right;\">\n",
       "      <th></th>\n",
       "      <th>ROW_ID</th>\n",
       "      <th>SUBJECT_ID</th>\n",
       "      <th>HADM_ID</th>\n",
       "      <th>ADMITTIME</th>\n",
       "      <th>DISCHTIME</th>\n",
       "      <th>DEATHTIME</th>\n",
       "      <th>ADMISSION_TYPE</th>\n",
       "      <th>ADMISSION_LOCATION</th>\n",
       "      <th>DISCHARGE_LOCATION</th>\n",
       "      <th>INSURANCE</th>\n",
       "      <th>LANGUAGE</th>\n",
       "      <th>RELIGION</th>\n",
       "      <th>MARITAL_STATUS</th>\n",
       "      <th>ETHNICITY</th>\n",
       "      <th>EDREGTIME</th>\n",
       "      <th>EDOUTTIME</th>\n",
       "      <th>DIAGNOSIS</th>\n",
       "      <th>HOSPITAL_EXPIRE_FLAG</th>\n",
       "      <th>HAS_CHARTEVENTS_DATA</th>\n",
       "      <th>NEXT_ADMITTIME</th>\n",
       "      <th>NEXT_ADMISSION_TYPE</th>\n",
       "      <th>DAYS_NEXT_ADMIT</th>\n",
       "      <th>DAYS_STAY</th>\n",
       "      <th>TEXT</th>\n",
       "      <th>DOB</th>\n",
       "      <th>GENDER</th>\n",
       "      <th>AGE</th>\n",
       "    </tr>\n",
       "  </thead>\n",
       "  <tbody>\n",
       "    <tr>\n",
       "      <th>0</th>\n",
       "      <td>1</td>\n",
       "      <td>2</td>\n",
       "      <td>163353</td>\n",
       "      <td>2138-07-17 19:04:00</td>\n",
       "      <td>2138-07-21 15:48:00</td>\n",
       "      <td>2138-07-21 15:48:00</td>\n",
       "      <td>NEWBORN</td>\n",
       "      <td>PHYS REFERRAL/NORMAL DELI</td>\n",
       "      <td>HOME</td>\n",
       "      <td>Private</td>\n",
       "      <td>NaN</td>\n",
       "      <td>NOT SPECIFIED</td>\n",
       "      <td>NaN</td>\n",
       "      <td>ASIAN</td>\n",
       "      <td>NaN</td>\n",
       "      <td>NaN</td>\n",
       "      <td>NEWBORN</td>\n",
       "      <td>0</td>\n",
       "      <td>1</td>\n",
       "      <td>NaT</td>\n",
       "      <td>NaN</td>\n",
       "      <td>NaN</td>\n",
       "      <td>3.863889</td>\n",
       "      <td>NaN</td>\n",
       "      <td>2138-07-17</td>\n",
       "      <td>M</td>\n",
       "      <td>0</td>\n",
       "    </tr>\n",
       "    <tr>\n",
       "      <th>1</th>\n",
       "      <td>2</td>\n",
       "      <td>3</td>\n",
       "      <td>145834</td>\n",
       "      <td>2101-10-20 19:08:00</td>\n",
       "      <td>2101-10-31 13:58:00</td>\n",
       "      <td>2101-10-31 13:58:00</td>\n",
       "      <td>EMERGENCY</td>\n",
       "      <td>EMERGENCY ROOM ADMIT</td>\n",
       "      <td>SNF</td>\n",
       "      <td>Medicare</td>\n",
       "      <td>NaN</td>\n",
       "      <td>CATHOLIC</td>\n",
       "      <td>MARRIED</td>\n",
       "      <td>WHITE</td>\n",
       "      <td>2101-10-20 17:09:00</td>\n",
       "      <td>2101-10-20 19:24:00</td>\n",
       "      <td>HYPOTENSION</td>\n",
       "      <td>0</td>\n",
       "      <td>1</td>\n",
       "      <td>NaT</td>\n",
       "      <td>NaN</td>\n",
       "      <td>NaN</td>\n",
       "      <td>10.784722</td>\n",
       "      <td>Admission Date:  [**2101-10-20**]     Discharg...</td>\n",
       "      <td>2025-04-11</td>\n",
       "      <td>M</td>\n",
       "      <td>76</td>\n",
       "    </tr>\n",
       "    <tr>\n",
       "      <th>2</th>\n",
       "      <td>3</td>\n",
       "      <td>4</td>\n",
       "      <td>185777</td>\n",
       "      <td>2191-03-16 00:28:00</td>\n",
       "      <td>2191-03-23 18:41:00</td>\n",
       "      <td>2191-03-23 18:41:00</td>\n",
       "      <td>EMERGENCY</td>\n",
       "      <td>EMERGENCY ROOM ADMIT</td>\n",
       "      <td>HOME WITH HOME IV PROVIDR</td>\n",
       "      <td>Private</td>\n",
       "      <td>NaN</td>\n",
       "      <td>PROTESTANT QUAKER</td>\n",
       "      <td>SINGLE</td>\n",
       "      <td>WHITE</td>\n",
       "      <td>2191-03-15 13:10:00</td>\n",
       "      <td>2191-03-16 01:10:00</td>\n",
       "      <td>FEVER,DEHYDRATION,FAILURE TO THRIVE</td>\n",
       "      <td>0</td>\n",
       "      <td>1</td>\n",
       "      <td>NaT</td>\n",
       "      <td>NaN</td>\n",
       "      <td>NaN</td>\n",
       "      <td>7.759028</td>\n",
       "      <td>Admission Date:  [**2191-3-16**]     Discharge...</td>\n",
       "      <td>2143-05-12</td>\n",
       "      <td>F</td>\n",
       "      <td>47</td>\n",
       "    </tr>\n",
       "    <tr>\n",
       "      <th>3</th>\n",
       "      <td>4</td>\n",
       "      <td>5</td>\n",
       "      <td>178980</td>\n",
       "      <td>2103-02-02 04:31:00</td>\n",
       "      <td>2103-02-04 12:15:00</td>\n",
       "      <td>2103-02-04 12:15:00</td>\n",
       "      <td>NEWBORN</td>\n",
       "      <td>PHYS REFERRAL/NORMAL DELI</td>\n",
       "      <td>HOME</td>\n",
       "      <td>Private</td>\n",
       "      <td>NaN</td>\n",
       "      <td>BUDDHIST</td>\n",
       "      <td>NaN</td>\n",
       "      <td>ASIAN</td>\n",
       "      <td>NaN</td>\n",
       "      <td>NaN</td>\n",
       "      <td>NEWBORN</td>\n",
       "      <td>0</td>\n",
       "      <td>1</td>\n",
       "      <td>NaT</td>\n",
       "      <td>NaN</td>\n",
       "      <td>NaN</td>\n",
       "      <td>2.322222</td>\n",
       "      <td>NaN</td>\n",
       "      <td>2103-02-02</td>\n",
       "      <td>M</td>\n",
       "      <td>0</td>\n",
       "    </tr>\n",
       "    <tr>\n",
       "      <th>4</th>\n",
       "      <td>5</td>\n",
       "      <td>6</td>\n",
       "      <td>107064</td>\n",
       "      <td>2175-05-30 07:15:00</td>\n",
       "      <td>2175-06-15 16:00:00</td>\n",
       "      <td>2175-06-15 16:00:00</td>\n",
       "      <td>ELECTIVE</td>\n",
       "      <td>PHYS REFERRAL/NORMAL DELI</td>\n",
       "      <td>HOME HEALTH CARE</td>\n",
       "      <td>Medicare</td>\n",
       "      <td>ENGL</td>\n",
       "      <td>NOT SPECIFIED</td>\n",
       "      <td>MARRIED</td>\n",
       "      <td>WHITE</td>\n",
       "      <td>NaN</td>\n",
       "      <td>NaN</td>\n",
       "      <td>CHRONIC RENAL FAILURE/SDA</td>\n",
       "      <td>0</td>\n",
       "      <td>1</td>\n",
       "      <td>NaT</td>\n",
       "      <td>NaN</td>\n",
       "      <td>NaN</td>\n",
       "      <td>16.364583</td>\n",
       "      <td>Admission Date: [**2175-5-30**]        Dischar...</td>\n",
       "      <td>2109-06-21</td>\n",
       "      <td>F</td>\n",
       "      <td>65</td>\n",
       "    </tr>\n",
       "    <tr>\n",
       "      <th>...</th>\n",
       "      <td>...</td>\n",
       "      <td>...</td>\n",
       "      <td>...</td>\n",
       "      <td>...</td>\n",
       "      <td>...</td>\n",
       "      <td>...</td>\n",
       "      <td>...</td>\n",
       "      <td>...</td>\n",
       "      <td>...</td>\n",
       "      <td>...</td>\n",
       "      <td>...</td>\n",
       "      <td>...</td>\n",
       "      <td>...</td>\n",
       "      <td>...</td>\n",
       "      <td>...</td>\n",
       "      <td>...</td>\n",
       "      <td>...</td>\n",
       "      <td>...</td>\n",
       "      <td>...</td>\n",
       "      <td>...</td>\n",
       "      <td>...</td>\n",
       "      <td>...</td>\n",
       "      <td>...</td>\n",
       "      <td>...</td>\n",
       "      <td>...</td>\n",
       "      <td>...</td>\n",
       "      <td>...</td>\n",
       "    </tr>\n",
       "    <tr>\n",
       "      <th>58971</th>\n",
       "      <td>58972</td>\n",
       "      <td>99985</td>\n",
       "      <td>176670</td>\n",
       "      <td>2181-01-27 02:47:00</td>\n",
       "      <td>2181-02-12 17:05:00</td>\n",
       "      <td>2181-02-12 17:05:00</td>\n",
       "      <td>EMERGENCY</td>\n",
       "      <td>EMERGENCY ROOM ADMIT</td>\n",
       "      <td>HOME HEALTH CARE</td>\n",
       "      <td>Private</td>\n",
       "      <td>ENGL</td>\n",
       "      <td>JEWISH</td>\n",
       "      <td>MARRIED</td>\n",
       "      <td>WHITE</td>\n",
       "      <td>2181-01-26 23:35:00</td>\n",
       "      <td>2181-01-27 04:18:00</td>\n",
       "      <td>FEVER</td>\n",
       "      <td>0</td>\n",
       "      <td>1</td>\n",
       "      <td>NaT</td>\n",
       "      <td>NaN</td>\n",
       "      <td>NaN</td>\n",
       "      <td>16.595833</td>\n",
       "      <td>Admission Date:  [**2181-1-27**]              ...</td>\n",
       "      <td>2127-04-08</td>\n",
       "      <td>M</td>\n",
       "      <td>53</td>\n",
       "    </tr>\n",
       "    <tr>\n",
       "      <th>58972</th>\n",
       "      <td>58973</td>\n",
       "      <td>99991</td>\n",
       "      <td>151118</td>\n",
       "      <td>2184-12-24 08:30:00</td>\n",
       "      <td>2185-01-05 12:15:00</td>\n",
       "      <td>2185-01-05 12:15:00</td>\n",
       "      <td>ELECTIVE</td>\n",
       "      <td>PHYS REFERRAL/NORMAL DELI</td>\n",
       "      <td>HOME</td>\n",
       "      <td>Private</td>\n",
       "      <td>ENGL</td>\n",
       "      <td>NOT SPECIFIED</td>\n",
       "      <td>MARRIED</td>\n",
       "      <td>WHITE</td>\n",
       "      <td>NaN</td>\n",
       "      <td>NaN</td>\n",
       "      <td>DIVERTICULITIS/SDA</td>\n",
       "      <td>0</td>\n",
       "      <td>1</td>\n",
       "      <td>NaT</td>\n",
       "      <td>NaN</td>\n",
       "      <td>NaN</td>\n",
       "      <td>12.156250</td>\n",
       "      <td>Admission Date:  [**2184-12-24**]             ...</td>\n",
       "      <td>2137-04-07</td>\n",
       "      <td>M</td>\n",
       "      <td>47</td>\n",
       "    </tr>\n",
       "    <tr>\n",
       "      <th>58973</th>\n",
       "      <td>58974</td>\n",
       "      <td>99992</td>\n",
       "      <td>197084</td>\n",
       "      <td>2144-07-25 18:03:00</td>\n",
       "      <td>2144-07-28 17:56:00</td>\n",
       "      <td>2144-07-28 17:56:00</td>\n",
       "      <td>EMERGENCY</td>\n",
       "      <td>CLINIC REFERRAL/PREMATURE</td>\n",
       "      <td>SNF</td>\n",
       "      <td>Medicare</td>\n",
       "      <td>ENGL</td>\n",
       "      <td>CATHOLIC</td>\n",
       "      <td>WIDOWED</td>\n",
       "      <td>WHITE</td>\n",
       "      <td>2144-07-25 13:40:00</td>\n",
       "      <td>2144-07-25 18:50:00</td>\n",
       "      <td>RETROPERITONEAL HEMORRHAGE</td>\n",
       "      <td>0</td>\n",
       "      <td>1</td>\n",
       "      <td>NaT</td>\n",
       "      <td>NaN</td>\n",
       "      <td>NaN</td>\n",
       "      <td>2.995139</td>\n",
       "      <td>Admission Date:  [**2144-7-25**]              ...</td>\n",
       "      <td>2078-10-17</td>\n",
       "      <td>F</td>\n",
       "      <td>65</td>\n",
       "    </tr>\n",
       "    <tr>\n",
       "      <th>58974</th>\n",
       "      <td>58975</td>\n",
       "      <td>99995</td>\n",
       "      <td>137810</td>\n",
       "      <td>2147-02-08 08:00:00</td>\n",
       "      <td>2147-02-11 13:15:00</td>\n",
       "      <td>2147-02-11 13:15:00</td>\n",
       "      <td>ELECTIVE</td>\n",
       "      <td>PHYS REFERRAL/NORMAL DELI</td>\n",
       "      <td>HOME</td>\n",
       "      <td>Medicare</td>\n",
       "      <td>ENGL</td>\n",
       "      <td>NOT SPECIFIED</td>\n",
       "      <td>MARRIED</td>\n",
       "      <td>WHITE</td>\n",
       "      <td>NaN</td>\n",
       "      <td>NaN</td>\n",
       "      <td>ABDOMINAL AORTIC ANEURYSM/SDA</td>\n",
       "      <td>0</td>\n",
       "      <td>1</td>\n",
       "      <td>NaT</td>\n",
       "      <td>NaN</td>\n",
       "      <td>NaN</td>\n",
       "      <td>3.218750</td>\n",
       "      <td>Admission Date:  [**2147-2-8**]              D...</td>\n",
       "      <td>2058-05-29</td>\n",
       "      <td>F</td>\n",
       "      <td>88</td>\n",
       "    </tr>\n",
       "    <tr>\n",
       "      <th>58975</th>\n",
       "      <td>58976</td>\n",
       "      <td>99999</td>\n",
       "      <td>113369</td>\n",
       "      <td>2117-12-30 07:15:00</td>\n",
       "      <td>2118-01-04 16:30:00</td>\n",
       "      <td>2118-01-04 16:30:00</td>\n",
       "      <td>ELECTIVE</td>\n",
       "      <td>PHYS REFERRAL/NORMAL DELI</td>\n",
       "      <td>SNF</td>\n",
       "      <td>Medicare</td>\n",
       "      <td>SPAN</td>\n",
       "      <td>JEHOVAH'S WITNESS</td>\n",
       "      <td>SEPARATED</td>\n",
       "      <td>HISPANIC OR LATINO</td>\n",
       "      <td>NaN</td>\n",
       "      <td>NaN</td>\n",
       "      <td>SPONDYLOLISTHESIS/SDA</td>\n",
       "      <td>0</td>\n",
       "      <td>1</td>\n",
       "      <td>NaT</td>\n",
       "      <td>NaN</td>\n",
       "      <td>NaN</td>\n",
       "      <td>5.385417</td>\n",
       "      <td>Admission Date:  [**2117-12-30**]             ...</td>\n",
       "      <td>2054-01-06</td>\n",
       "      <td>F</td>\n",
       "      <td>64</td>\n",
       "    </tr>\n",
       "  </tbody>\n",
       "</table>\n",
       "<p>58976 rows × 27 columns</p>\n",
       "</div>"
      ],
      "text/plain": [
       "       ROW_ID  SUBJECT_ID  HADM_ID           ADMITTIME           DISCHTIME  \\\n",
       "0           1           2   163353 2138-07-17 19:04:00 2138-07-21 15:48:00   \n",
       "1           2           3   145834 2101-10-20 19:08:00 2101-10-31 13:58:00   \n",
       "2           3           4   185777 2191-03-16 00:28:00 2191-03-23 18:41:00   \n",
       "3           4           5   178980 2103-02-02 04:31:00 2103-02-04 12:15:00   \n",
       "4           5           6   107064 2175-05-30 07:15:00 2175-06-15 16:00:00   \n",
       "...       ...         ...      ...                 ...                 ...   \n",
       "58971   58972       99985   176670 2181-01-27 02:47:00 2181-02-12 17:05:00   \n",
       "58972   58973       99991   151118 2184-12-24 08:30:00 2185-01-05 12:15:00   \n",
       "58973   58974       99992   197084 2144-07-25 18:03:00 2144-07-28 17:56:00   \n",
       "58974   58975       99995   137810 2147-02-08 08:00:00 2147-02-11 13:15:00   \n",
       "58975   58976       99999   113369 2117-12-30 07:15:00 2118-01-04 16:30:00   \n",
       "\n",
       "                DEATHTIME ADMISSION_TYPE         ADMISSION_LOCATION  \\\n",
       "0     2138-07-21 15:48:00        NEWBORN  PHYS REFERRAL/NORMAL DELI   \n",
       "1     2101-10-31 13:58:00      EMERGENCY       EMERGENCY ROOM ADMIT   \n",
       "2     2191-03-23 18:41:00      EMERGENCY       EMERGENCY ROOM ADMIT   \n",
       "3     2103-02-04 12:15:00        NEWBORN  PHYS REFERRAL/NORMAL DELI   \n",
       "4     2175-06-15 16:00:00       ELECTIVE  PHYS REFERRAL/NORMAL DELI   \n",
       "...                   ...            ...                        ...   \n",
       "58971 2181-02-12 17:05:00      EMERGENCY       EMERGENCY ROOM ADMIT   \n",
       "58972 2185-01-05 12:15:00       ELECTIVE  PHYS REFERRAL/NORMAL DELI   \n",
       "58973 2144-07-28 17:56:00      EMERGENCY  CLINIC REFERRAL/PREMATURE   \n",
       "58974 2147-02-11 13:15:00       ELECTIVE  PHYS REFERRAL/NORMAL DELI   \n",
       "58975 2118-01-04 16:30:00       ELECTIVE  PHYS REFERRAL/NORMAL DELI   \n",
       "\n",
       "              DISCHARGE_LOCATION INSURANCE LANGUAGE           RELIGION  \\\n",
       "0                           HOME   Private      NaN      NOT SPECIFIED   \n",
       "1                            SNF  Medicare      NaN           CATHOLIC   \n",
       "2      HOME WITH HOME IV PROVIDR   Private      NaN  PROTESTANT QUAKER   \n",
       "3                           HOME   Private      NaN           BUDDHIST   \n",
       "4               HOME HEALTH CARE  Medicare     ENGL      NOT SPECIFIED   \n",
       "...                          ...       ...      ...                ...   \n",
       "58971           HOME HEALTH CARE   Private     ENGL             JEWISH   \n",
       "58972                       HOME   Private     ENGL      NOT SPECIFIED   \n",
       "58973                        SNF  Medicare     ENGL           CATHOLIC   \n",
       "58974                       HOME  Medicare     ENGL      NOT SPECIFIED   \n",
       "58975                        SNF  Medicare     SPAN  JEHOVAH'S WITNESS   \n",
       "\n",
       "      MARITAL_STATUS           ETHNICITY            EDREGTIME  \\\n",
       "0                NaN               ASIAN                  NaN   \n",
       "1            MARRIED               WHITE  2101-10-20 17:09:00   \n",
       "2             SINGLE               WHITE  2191-03-15 13:10:00   \n",
       "3                NaN               ASIAN                  NaN   \n",
       "4            MARRIED               WHITE                  NaN   \n",
       "...              ...                 ...                  ...   \n",
       "58971        MARRIED               WHITE  2181-01-26 23:35:00   \n",
       "58972        MARRIED               WHITE                  NaN   \n",
       "58973        WIDOWED               WHITE  2144-07-25 13:40:00   \n",
       "58974        MARRIED               WHITE                  NaN   \n",
       "58975      SEPARATED  HISPANIC OR LATINO                  NaN   \n",
       "\n",
       "                 EDOUTTIME                            DIAGNOSIS  \\\n",
       "0                      NaN                              NEWBORN   \n",
       "1      2101-10-20 19:24:00                          HYPOTENSION   \n",
       "2      2191-03-16 01:10:00  FEVER,DEHYDRATION,FAILURE TO THRIVE   \n",
       "3                      NaN                              NEWBORN   \n",
       "4                      NaN            CHRONIC RENAL FAILURE/SDA   \n",
       "...                    ...                                  ...   \n",
       "58971  2181-01-27 04:18:00                                FEVER   \n",
       "58972                  NaN                   DIVERTICULITIS/SDA   \n",
       "58973  2144-07-25 18:50:00           RETROPERITONEAL HEMORRHAGE   \n",
       "58974                  NaN        ABDOMINAL AORTIC ANEURYSM/SDA   \n",
       "58975                  NaN                SPONDYLOLISTHESIS/SDA   \n",
       "\n",
       "       HOSPITAL_EXPIRE_FLAG  HAS_CHARTEVENTS_DATA NEXT_ADMITTIME  \\\n",
       "0                         0                     1            NaT   \n",
       "1                         0                     1            NaT   \n",
       "2                         0                     1            NaT   \n",
       "3                         0                     1            NaT   \n",
       "4                         0                     1            NaT   \n",
       "...                     ...                   ...            ...   \n",
       "58971                     0                     1            NaT   \n",
       "58972                     0                     1            NaT   \n",
       "58973                     0                     1            NaT   \n",
       "58974                     0                     1            NaT   \n",
       "58975                     0                     1            NaT   \n",
       "\n",
       "      NEXT_ADMISSION_TYPE  DAYS_NEXT_ADMIT  DAYS_STAY  \\\n",
       "0                     NaN              NaN   3.863889   \n",
       "1                     NaN              NaN  10.784722   \n",
       "2                     NaN              NaN   7.759028   \n",
       "3                     NaN              NaN   2.322222   \n",
       "4                     NaN              NaN  16.364583   \n",
       "...                   ...              ...        ...   \n",
       "58971                 NaN              NaN  16.595833   \n",
       "58972                 NaN              NaN  12.156250   \n",
       "58973                 NaN              NaN   2.995139   \n",
       "58974                 NaN              NaN   3.218750   \n",
       "58975                 NaN              NaN   5.385417   \n",
       "\n",
       "                                                    TEXT        DOB GENDER  \\\n",
       "0                                                    NaN 2138-07-17      M   \n",
       "1      Admission Date:  [**2101-10-20**]     Discharg... 2025-04-11      M   \n",
       "2      Admission Date:  [**2191-3-16**]     Discharge... 2143-05-12      F   \n",
       "3                                                    NaN 2103-02-02      M   \n",
       "4      Admission Date: [**2175-5-30**]        Dischar... 2109-06-21      F   \n",
       "...                                                  ...        ...    ...   \n",
       "58971  Admission Date:  [**2181-1-27**]              ... 2127-04-08      M   \n",
       "58972  Admission Date:  [**2184-12-24**]             ... 2137-04-07      M   \n",
       "58973  Admission Date:  [**2144-7-25**]              ... 2078-10-17      F   \n",
       "58974  Admission Date:  [**2147-2-8**]              D... 2058-05-29      F   \n",
       "58975  Admission Date:  [**2117-12-30**]             ... 2054-01-06      F   \n",
       "\n",
       "       AGE  \n",
       "0        0  \n",
       "1       76  \n",
       "2       47  \n",
       "3        0  \n",
       "4       65  \n",
       "...    ...  \n",
       "58971   53  \n",
       "58972   47  \n",
       "58973   65  \n",
       "58974   88  \n",
       "58975   64  \n",
       "\n",
       "[58976 rows x 27 columns]"
      ]
     },
     "execution_count": 117,
     "metadata": {},
     "output_type": "execute_result"
    }
   ],
   "source": [
    "merged"
   ]
  },
  {
   "cell_type": "code",
   "execution_count": 118,
   "id": "108fb7eb",
   "metadata": {
    "scrolled": true
   },
   "outputs": [
    {
     "name": "stdout",
     "output_type": "stream",
     "text": [
      "ADMISSION_TYPE\n",
      "ELECTIVE     0.048663\n",
      "EMERGENCY    0.037983\n",
      "NEWBORN      0.536691\n",
      "URGENT       0.042665\n",
      "dtype: float64\n"
     ]
    },
    {
     "data": {
      "text/plain": [
       "ADMISSION_TYPE\n",
       "ELECTIVE     0.048663\n",
       "EMERGENCY    0.037983\n",
       "NEWBORN           NaN\n",
       "URGENT       0.042665\n",
       "dtype: float64"
      ]
     },
     "execution_count": 118,
     "metadata": {},
     "output_type": "execute_result"
    }
   ],
   "source": [
    "print(merged.groupby('ADMISSION_TYPE').apply(lambda g: g.TEXT.isnull().sum())/merged.groupby('ADMISSION_TYPE').size())\n",
    "merged[merged['ADMISSION_TYPE'] != 'NEWBORN'].groupby('ADMISSION_TYPE').apply(lambda g: g.TEXT.isnull().sum())/merged.groupby('ADMISSION_TYPE').size()"
   ]
  },
  {
   "cell_type": "code",
   "execution_count": 119,
   "id": "63fbd4b9",
   "metadata": {},
   "outputs": [],
   "source": [
    "merged = merged[merged['ADMISSION_TYPE'] != 'NEWBORN']"
   ]
  },
  {
   "cell_type": "code",
   "execution_count": 120,
   "id": "d51cdd34",
   "metadata": {},
   "outputs": [
    {
     "data": {
      "text/plain": [
       "Series([], Name: ROW_ID, dtype: int64)"
      ]
     },
     "execution_count": 120,
     "metadata": {},
     "output_type": "execute_result"
    }
   ],
   "source": [
    "pd.to_numeric(df['ROW_ID'], errors='coerce')\n",
    "df[pd.to_numeric(df['ROW_ID'], errors='coerce').isna()]['ROW_ID']"
   ]
  },
  {
   "cell_type": "code",
   "execution_count": 121,
   "id": "a8b501b7",
   "metadata": {},
   "outputs": [
    {
     "name": "stderr",
     "output_type": "stream",
     "text": [
      "/var/folders/8g/mc6q7d1x28n5v1v_c5nv73cw0000gn/T/ipykernel_97006/331978591.py:1: SettingWithCopyWarning: \n",
      "A value is trying to be set on a copy of a slice from a DataFrame.\n",
      "Try using .loc[row_indexer,col_indexer] = value instead\n",
      "\n",
      "See the caveats in the documentation: https://pandas.pydata.org/pandas-docs/stable/user_guide/indexing.html#returning-a-view-versus-a-copy\n",
      "  merged['READMISSION'] = (merged.DAYS_NEXT_ADMIT < 30).astype('int')\n"
     ]
    },
    {
     "data": {
      "text/plain": [
       "READMISSION\n",
       "0    48109\n",
       "1     3004\n",
       "Name: count, dtype: int64"
      ]
     },
     "execution_count": 121,
     "metadata": {},
     "output_type": "execute_result"
    }
   ],
   "source": [
    "merged['READMISSION'] = (merged.DAYS_NEXT_ADMIT < 30).astype('int')\n",
    "merged['READMISSION'].value_counts()"
   ]
  },
  {
   "cell_type": "code",
   "execution_count": 122,
   "id": "65069569",
   "metadata": {},
   "outputs": [
    {
     "ename": "KeyError",
     "evalue": "'[53583, 53469, 58611, 53749, 56860, 51728, 55207, 56347, 56648, 57524, 58474, 51553, 54260, 51593, 52844, 58392, 54073, 58080, 55410, 54309, 55294, 53654, 54212, 51931, 53549, 53503, 57500, 57266, 58817, 51946, 53538, 56102, 54395, 52139, 56889, 53609, 56566, 58262, 54630, 58038, 57849, 55400, 57070, 54833, 58911, 53001, 57242, 51285, 56061, 51499, 57087, 51564, 52112, 58140, 53658, 55744, 55348, 54418, 58709, 57918, 54263, 55043, 58542, 56697, 55214, 51496, 52843, 54573, 56819, 54108, 57032, 52352, 56307, 57218, 54288, 55972, 57733, 51184, 52948, 54369, 52657, 53063, 54230, 57762, 53572, 53178, 56759, 57750, 55572, 53334, 51583, 51557, 58195, 53460, 55504, 58060, 53416, 58427, 58692, 57868, 52227, 56691, 53809, 58311, 51551, 52782, 52519, 53345, 57125, 54221, 54801, 57387, 53822, 55964, 54332, 58122, 55345, 56804, 57927, 51169, 52581, 56785, 57048, 56573, 56642, 58178, 57190, 58480, 53642, 53040, 55287, 51795, 58958, 58872, 56508, 58943, 54092, 53593, 58320, 56521, 54002, 55743, 52910, 57981, 57165, 51940, 54107, 54185, 57628, 55203, 51582, 53456, 56323, 54456, 58089, 57503, 57737, 56676, 52966, 54938, 55227, 53246, 58596, 57061, 52916, 55769, 51479, 56755, 57187, 57124, 52306, 58131, 58317, 53627, 53704, 56164, 53084, 57384, 54435, 57902, 57423, 52181, 54657, 53055, 57409, 57059, 58833, 57072, 56750, 58618, 55772, 56189, 52206, 57978, 57758, 56089, 52050, 53602, 57840, 55016, 55946, 55553, 53594, 53217, 54346, 58291, 52414, 58175, 55623, 58913, 52552, 51546, 57578, 51308, 52798, 54517, 54506, 57131, 58331, 53971, 53578, 57931, 57759, 52348, 57103, 52461, 56130, 53307, 54341, 51882, 56312, 58776, 51532, 57359, 55584, 54451, 57237, 55298, 55859, 52642, 56451, 56612, 51721, 52922, 54993, 55271, 51302, 53512, 55852, 55452, 53703, 57372, 52562, 52626, 56315, 52877, 56140, 53957, 57933, 55288, 55349, 51852, 56597, 52433, 51986, 54832, 54616, 51805, 55910, 56324, 56775, 55261, 51592, 51600, 54955, 55818, 55495, 57147, 57249, 56306, 57851, 58457, 55860, 52170, 53335, 55632, 57000, 54730, 54810, 58211, 52797, 52559, 54536, 56522, 55041, 54357, 51713, 54117, 56069, 53091, 53579, 51178, 56082, 52064, 57255, 57601, 55790, 53015, 52849, 56337, 56435, 51590, 53808, 56732, 55879, 52747, 53497, 53073, 56735, 58277, 58273, 53354, 51467, 53187, 51248, 56025, 52708, 57285, 57572, 51397, 58411, 55796, 57855, 55038, 54906, 56238, 56518, 56221, 57812, 58800, 57290, 52478, 54067, 52395, 56411, 54132, 55912, 54763, 53968, 53711, 56408, 51201, 57356, 57881, 57332, 52471, 56023, 54061, 54472, 53476, 58710, 52532, 55079, 51510, 56039, 53496, 55070, 55011, 52158, 51796, 56665, 54041, 54200, 54315, 55034, 53441, 52715, 56686, 52653, 57582, 58888, 57661, 58437, 55821, 52817, 51190, 56760, 53846, 53719, 53070, 58697, 55311, 53435, 58601, 57465, 56727, 58506, 52378, 57436, 51176, 57053, 51866, 52949, 58655, 51330, 51732, 53671, 55326, 53491, 51921, 58610, 55990, 54393, 57329, 56329, 56357, 53331, 54558, 51519, 54958, 57507, 56525, 54206, 54849, 51639, 53294, 58124, 53781, 56582, 55131, 57796, 56920, 52885, 56225, 54545, 58719, 55792, 53665, 55458, 55817, 55891, 54853, 52079, 58851, 57618, 54663, 56746, 55175, 57361, 55018, 55269, 53674, 57718, 54593, 55276, 57664, 55027, 58029, 55661, 56024, 55608, 53830, 51937, 52785, 58221, 54538, 55388, 52116, 53844, 58266, 56049, 56186, 56534, 57183, 57782, 51920, 57907, 58138, 58220, 58553, 51128, 55123, 55977, 53890, 52472, 54612, 51466, 51608, 58652, 51888, 53858, 51574, 58043, 52848, 54478, 52570, 54510, 55460, 53127, 53887, 54156, 51701, 51856, 51399, 58472, 56628, 51125, 56910, 54116, 57767, 52036, 57071, 56567, 57565, 55068, 52165, 53320, 55407, 51822, 57740, 57944, 57693, 54028, 57272, 54916, 53194, 58458, 52931, 57555, 56694, 53397, 54006, 56806, 52874, 53524, 55549, 55805, 52419, 56892, 58821, 53529, 53917, 55497, 56198, 57010, 51440, 51780, 53619, 55210, 53853, 53854, 55181, 57690, 57815, 53067, 57300, 51585, 57107, 54594, 56928, 54996, 53551, 57480, 53949, 57496, 54709, 58018, 52655, 57984, 54208, 56784, 58319, 58014, 54525, 56368, 52193, 56258, 51945, 52054, 58415, 53257, 56414, 53147, 52010, 57282, 51563, 53237, 55774, 52393, 58812, 53108, 52137, 56527, 58590, 55685, 55130, 56681, 53477, 54158, 54531, 56127, 58900, 54925, 54826, 58278, 53504, 58394, 57553, 57146, 56432, 53337, 54656, 54988, 53630, 55021, 54190, 52338, 58653, 57302, 57363, 51954, 53945, 53366, 54100, 56068, 57889, 52066, 54684, 56639, 58731, 55036, 51316, 55548, 58836, 56867, 53792, 57862, 55693, 53432, 53253, 52073, 57977, 55062, 51200, 53556, 56362, 56455, 53082, 55513, 51304, 54516, 53333, 51886, 52714, 52488, 57354, 53207, 51770, 54328, 53883, 53229, 54880, 54016, 55521, 55667, 53226, 52824, 57410, 53768, 57901, 54499, 58215, 51845, 54986, 53998, 52244, 52105, 53979, 55867, 53660, 54808, 55105, 53462, 58674, 55463, 57051, 57527, 58700, 57430, 54014, 58513, 57321, 55536, 57331, 54222, 56219, 52436, 58101, 51230, 53615, 54574, 57516, 58842, 56442, 51868, 58693, 55740, 51320, 58146, 58698, 54375, 54670, 57913, 57489, 55631, 51826, 56468, 56758, 53323, 51350, 58754, 55121, 56232, 51766, 58932, 51938, 55148, 55662, 53248, 57066, 58694, 58082, 56922, 51818, 53982, 51339, 54586, 56671, 54205, 55883, 57872, 56305, 54373, 53479, 57600, 56403, 56529, 51142, 51774, 52327, 52019, 58945, 53598, 53942, 54497, 51934, 53856, 52171, 57586, 53759, 55870, 57492, 57882, 58235, 56870, 54046, 58778, 58339, 55273, 56541, 57543, 55441, 51542, 56711, 52342, 58464, 51984, 54441, 52160, 54641, 56627, 58518, 51644, 56349, 58238, 51317, 53507, 52068, 57169, 54674, 56325, 54964, 55090, 58895, 51409, 55392, 58703, 56688, 54454, 57358, 52353, 51146, 57433, 56054, 51502, 51289, 57114, 53169, 52697, 54469, 51414, 53358, 53452, 51905, 51405, 56783, 56747, 57761, 54123, 52475, 55084, 53638, 57328, 54308, 58446, 56387, 53006, 56550, 56678, 53031, 54813, 55378, 58293, 51417, 55325, 57917, 53393, 56169, 58189, 55943, 57366, 52008, 58496, 58310, 57504, 56914, 55132, 57662, 58762, 58200, 55431, 54438, 53498, 51897, 53896, 56645, 55581, 51261, 51726, 54514, 51629, 51413, 57343, 53415, 51981, 54636, 53588, 52713, 57858, 52351, 55983, 54340, 51333, 53152, 58665, 51555, 53659, 57225, 55014, 56636, 56888, 56220, 54809, 51513, 57235, 57983, 56667, 56792, 58269, 54003, 54953, 51520, 51319, 55232, 56194, 55485, 53385, 53629, 57085, 57230, 54191, 56663, 54173, 57704, 55384, 58877, 57956, 56419, 55165, 57132, 52056, 57728, 56019, 54831, 55362, 58252, 54114, 56887, 58162, 55938, 57566, 55135, 57166, 57342, 55028, 57935, 53400, 53951, 52003, 53218, 55600, 55301, 55231, 58055, 51452, 54788, 58797, 56523, 51915, 52669, 53695, 52135, 52831, 57102, 51543, 54791, 54830, 55137, 54283, 53148, 58201, 52313, 58368, 53661, 56424, 51221, 57509, 53386, 56304, 53342, 56830, 51651, 54941, 52294, 53463, 53739, 56933, 51506, 53772, 56909, 55822, 55172, 55081, 57888, 56533, 56826, 57883, 53183, 57813, 56918, 51570, 58870, 58396, 54269, 58917, 55707, 52540, 58767, 58042, 52989, 54786, 55981, 52245, 58648, 58436, 55554, 53737, 51523, 54910, 54317, 55678, 55902, 56929, 56555, 55815, 58887, 57238, 51896, 53247, 55327, 53457, 57515, 53192, 51837, 51621, 57703, 54272, 57520, 53189, 57592, 56351, 53774, 54692, 55924, 56196, 51665, 54225, 55138, 52277, 52988, 54759, 54318, 57162, 57705, 57042, 54884, 53874, 55861, 53835, 53210, 53042, 55541, 56139, 57123, 57960, 55030, 56298, 54726, 52205, 55057, 54668, 53364, 53744, 52813, 54868, 53552, 55878, 58573, 56657, 53077, 57408, 54952, 54119, 51794, 54372, 54236, 58270, 56689, 55616, 58914, 58650, 51526, 55941, 51229, 53699, 54783, 51652, 57990, 52268, 52878, 57695, 54376, 52005, 56741, 54837, 58865, 53562, 54457, 54827, 54609, 51465, 54411, 53807, 57617, 58884, 54627, 52654, 57756, 54429, 52808, 55128, 52977, 51139, 53060, 52367, 57015, 51783, 57276, 55078, 58126, 54182, 56285, 55607, 53418, 54896, 56767, 55391, 52322, 51827, 58647, 58686, 57481, 58466, 53923, 58623, 56156, 57303, 54698, 55729, 55589, 54537, 56436, 56465, 53451, 56982, 51816, 56009, 51540, 57942, 57843, 58658, 56105, 51203, 52730, 51456, 57136, 57809, 51778, 53081, 56297, 52923, 57390, 56109, 53700, 56263, 57138, 56763, 53585, 53145, 52812, 58775, 52260, 52565, 53083, 54814, 53371, 52583, 51206, 53209, 54128, 56631, 58807, 56940, 57216, 58771, 53561, 54507, 58424, 54058, 58597, 54842, 54474, 58047, 52928, 51581, 54518, 53094, 52990, 58547, 53039, 54851, 56374, 55887, 57831, 51515, 57181, 56437, 52080, 58964, 55617, 51677, 54725, 55519, 58878, 54027, 53112, 55343, 57885, 54589, 53184, 56595, 51985, 55897, 55180, 51603, 54216, 54552, 51966, 54500, 51311, 54412, 55531, 54509, 56488, 53518, 52886, 53837, 54527, 57163, 58004, 58614, 54189, 55507, 54729, 57608, 55676, 54064, 55601, 53405, 55726, 58670, 58602, 56955, 53988, 51338, 55533, 56902, 57988, 58584, 53478, 57678, 57094, 56210, 58239, 58052, 56613, 52736, 53789, 54037, 56951, 52585, 57611, 53567, 55855, 52610, 57712, 54384, 51741, 58897, 52709, 53142, 52897, 52133, 54184, 58107, 56203, 56096, 55178, 53720, 56291, 55088, 56664, 54210, 52991, 56768, 51167, 52408, 51643, 54883, 55188, 57769, 55876, 56659, 58526, 53550, 53417, 54502, 58591, 58282, 52147, 55047, 55627, 55688, 55677, 51786, 53494, 51231, 58015, 55339, 53973, 58031, 58578, 53287, 58340, 52446, 57940, 52918, 56770, 55341, 55761, 57824, 53289, 53805, 56861, 56353, 56714, 58783, 52241, 57186, 55113, 55124, 51773, 53114, 52404, 55074, 51692, 51618, 52729, 57098, 53729, 55907, 55510, 52732, 57787, 56832, 58751, 53632, 53347, 54836, 54982, 56696, 58236, 56655, 51237, 51454, 57895, 53166, 52336, 52140, 57219, 51951, 54219, 58449, 56081, 53766, 57203, 51914, 56844, 54104, 54648, 53065, 57024, 56530, 54402, 54620, 55606, 55176, 53329, 52982, 53803, 53915, 54921, 55515, 55816, 56276, 56108, 54970, 55565, 52247, 53673, 54138, 53859, 58504, 56029, 53453, 58044, 57604, 52842, 53433, 57751, 55474, 55900, 51933, 54171, 54013, 52319, 57886, 54166, 58546, 53100, 52070, 57665, 51734, 53817, 53062, 55417, 57339, 58438, 55285, 54137, 56021, 52424, 52997, 56621, 53296, 55051, 52065, 56334, 53262, 54428, 51129, 57214, 56956, 55249, 52391, 53850, 51488, 51391, 54473, 57864, 52872, 57822, 55001, 56886, 57346, 53650, 58373, 55401, 51501, 56085, 57325, 51431, 52120, 55193, 52195, 55413, 52337, 53085, 55694, 53775, 56022, 53356, 54295, 56492, 52675, 55375, 54743, 53545, 57196, 53361, 54338, 56145, 55848, 56078, 51992, 56316, 53873, 57172, 52810, 53245, 54673, 56072, 52107, 57727, 54847, 55372, 58292, 55409, 58288, 58509, 52167, 55732, 56884, 53048, 57406, 56431, 57313, 53750, 53905, 58746, 51306, 56293, 55155, 57544, 51137, 51245, 52207, 54524, 52111, 54106, 55742, 55049, 55922, 53241, 56168, 51116, 57108, 51624, 56328, 56890, 55563, 54963, 54894, 57341, 54053, 55657, 57585, 58108, 54240, 58962, 56355, 55268, 55222, 58678, 57120, 57985, 55146, 58664, 54070, 53232, 53871, 58184, 54994, 52589, 57778, 54202, 56167, 54105, 58143, 54264, 58254, 51539, 55720, 54581, 54679, 54443, 53607, 53726, 54776, 54000, 58150, 58803, 53595, 53249, 54300, 56410, 57580, 54943, 56923, 58934, 52426, 53675, 56993, 57223, 56874, 51250, 55610, 57247, 55806, 57869, 54199, 56356, 53840, 52664, 52014, 58683, 52185, 56977, 51119, 54501, 54187, 56302, 54055, 56927, 57243, 55646, 53862, 55765, 57405, 54352, 58428, 58433, 54268, 58660, 51313, 52537, 55363, 52529, 53664, 53689, 53742, 53367, 53434, 52382, 57634, 54047, 52919, 53037, 58903, 56502, 57233, 56420, 57866, 57936, 55628, 56038, 58566, 55557, 53897, 54228, 55899, 51157, 53931, 54233, 54550, 52238, 55470, 55015, 54564, 53373, 56028, 52541, 55297, 51833, 58247, 54582, 52031, 58192, 58604, 58374, 57842, 55360, 53769, 56485, 51722, 51791, 58563, 52362, 58017, 52252, 57959, 57730, 58666, 57241, 54374, 52651, 51930, 58844, 52739, 55953, 57766, 55454, 58491, 53167, 52361, 57486, 54431, 55874, 51684, 57962, 55655, 51171, 57424, 56572, 56654, 52538, 57188, 55248, 57749, 53250, 51282, 56968, 56948, 53888, 52533, 54975, 51874, 51620, 56568, 51145, 52925, 54563, 58831, 54944, 54122, 56652, 51548, 57324, 51227, 55412, 55156, 55930, 58345, 52279, 55718, 53764, 56630, 56512, 53446, 51395, 53407, 58483, 58078, 58344, 53752, 58761, 56742, 56462, 51122, 52093, 55266, 58134, 58166, 53292, 58965, 51439, 54086, 51500, 52526, 54731, 54284, 53024, 55048, 55551, 57773, 53318, 51420, 52121, 58890, 54324, 56195, 51156, 51909, 51213, 53791, 55168, 53430, 53282, 55889, 56560, 53010, 52204, 52481, 51126, 55989, 52443, 56682, 52307, 55810, 56916, 52612, 53932, 57362, 51470, 53440, 57099, 52202, 55473, 55086, 55615, 56782, 52458, 54406, 52619, 54804, 54052, 52301, 53079, 52946, 54161, 52936, 53894, 54777, 55807, 55357, 55639, 58387, 53330, 55173, 56971, 53519, 53339, 53086, 56244, 53426, 55992, 56903, 53983, 54085, 52904, 55237, 53117, 53802, 51846, 57443, 52049, 52890, 56962, 52774, 53261, 53569, 54796, 57716, 56390, 56535, 54327, 57934, 52092, 52718, 56967, 53686, 55239, 52960, 56863, 52765, 55703, 55716, 54214, 53485, 54985, 54556, 56409, 54124, 55405, 54892, 57427, 52325, 52355, 57732, 58384, 55467, 51820, 58592, 52994, 57028, 55040, 57487, 57966, 52984, 53733, 56958, 55573, 54446, 53034, 57200, 56748, 56698, 57429, 51252, 56989, 52047, 53221, 55830, 55550, 57637, 52441, 54681, 58136, 53513, 55783, 53922, 51895, 58208, 57312, 51507, 53019, 57023, 53848, 54795, 53639, 54802, 55342, 56421, 52328, 58154, 53554, 56255, 53611, 56097, 55656, 55282, 53755, 53863, 52257, 58714, 55050, 53227, 53023, 58873, 56808, 57212, 55856, 58376, 52044, 58779, 58306, 56846, 55731, 52683, 53093, 52411, 57694, 57850, 56539, 54069, 57880, 56243, 55517, 54891, 56494, 53191, 51144, 57381, 52726, 56346, 53616, 52733, 57593, 53171, 51168, 52796, 51670, 52223, 52442, 55254, 55819, 51134, 53208, 53447, 56942, 58183, 54339, 52024, 53927, 55713, 55449, 51191, 53088, 56484, 52076, 53715, 57606, 52403, 55733, 58159, 56044, 57378, 57160, 54004, 53102, 57499, 55673, 55154, 51194, 54193, 53074, 53378, 55757, 52902, 57139, 54447, 56749, 56805, 52456, 58046, 54741, 55950, 51303, 55665, 57297, 52250, 52022, 56950, 54637, 54762, 52764, 53640, 54528, 53343, 52847, 52314, 52359, 56579, 54715, 56014, 51663, 54475, 54150, 58063, 56141, 52630, 51301, 56208, 56320, 55106, 56234, 53096, 51451, 52040, 53800, 51657, 57226, 58689, 58972, 54568, 55071, 57151, 58852, 53804, 56212, 58804, 54160, 51806, 53414, 53517, 55535, 57619, 52212, 58498, 57871, 51737, 56489, 55064, 53902, 58490, 53225, 58696, 58793, 55748, 56202, 51949, 55448, 54399, 51602, 55747, 53636, 51864, 51647, 57929, 53276, 56715, 52029, 54025, 56796, 58715, 56807, 56549, 57415, 53008, 54817, 54909, 58332, 54876, 55300, 55795, 57514, 55414, 56946, 55683, 52311, 58495, 54723, 54651, 54875, 51587, 55461, 56199, 51529, 58091, 54862, 51401, 52892, 55539, 53565, 52091, 57941, 55433, 55540, 54840, 55969, 54351, 56882, 51784, 51698, 53360, 54957, 54572, 56941, 54484, 58227, 58691, 55679, 52964, 52804, 58053, 56515, 52547, 58737, 57034, 57111, 58845, 57865, 57269, 53993, 55545, 53236, 56526, 55491, 51695, 56790, 52466, 55751, 56677, 54282, 55569, 58205, 51718, 53379, 55009, 56963, 57386, 53284, 53051, 58147, 52346, 54654, 54253, 52087, 52544, 52383, 57989, 56249, 56835, 51473, 54899, 52937, 57488, 58271, 53818, 58738, 54299, 51950, 55884, 58403, 57263, 55530, 56772, 55811, 55838, 54145, 56261, 58244, 52609, 53557, 51365, 51977, 56564, 58165, 54782, 53097, 58013, 52756, 53332, 56879, 56396, 54259, 56336, 56829, 52463, 51849, 58441, 51197, 57154, 58445, 55092, 53274, 51159, 57411, 52372, 51861, 52235, 55630, 53408, 57538, 51758, 53188, 52293, 58041, 52593, 56423, 53795, 52556, 51887, 56926, 57347, 58030, 55872, 56060, 56786, 56461, 57932, 56762, 52944, 58639, 52229, 58275, 58642, 51443, 55525, 56868, 57667, 57494, 52254, 51793, 56894, 58769, 54554, 53977, 57074, 53773, 56680, 53641, 52437, 52768, 51825, 55842, 51763, 57945, 57982, 51418, 51312, 56106, 58479, 52151, 52522, 57418, 54401, 57227, 55256, 56906, 54812, 56247, 51664, 56005, 53530, 51521, 57965, 54605, 54011, 55717, 56710, 58037, 53678, 55593, 58896, 51599, 57065, 53929, 57805, 57511, 52671, 57717, 54331, 57922, 54688, 54736, 57957, 54604, 54247, 56120, 53199, 55395, 51907, 54767, 51210, 56501, 52738, 54420, 54280, 52899, 52998, 54622, 58187, 54865, 58571, 52182, 52743, 57754, 53492, 54961, 57735, 54738, 57506, 56121, 52370, 56083, 56531, 58672, 53198, 55512, 54751, 54226, 52265, 53030, 55083, 58846, 53712, 51238, 51422, 58115, 53533, 52007, 52905, 55139, 52636, 57738, 55933, 52357, 58579, 58876, 54452, 58341, 55080, 53185, 51626, 55440, 54196, 52377, 51441, 58856, 53543, 57810, 56911, 51323, 56391, 58640, 52333, 58675, 54250, 53523, 51808, 54358, 56211, 55403, 53279, 52935, 54852, 51208, 56991, 57078, 58453, 56404, 52176, 55058, 52059, 54179, 55658, 52203, 52089, 55205, 54775, 54631, 51257, 54624, 56780, 53810, 58355] not found in axis'",
     "output_type": "error",
     "traceback": [
      "\u001b[0;31m---------------------------------------------------------------------------\u001b[0m",
      "\u001b[0;31mKeyError\u001b[0m                                  Traceback (most recent call last)",
      "Cell \u001b[0;32mIn[122], line 10\u001b[0m\n\u001b[1;32m      7\u001b[0m valid_data \u001b[38;5;241m=\u001b[39m valid_and_test_data\u001b[38;5;241m.\u001b[39mdrop(test_data\u001b[38;5;241m.\u001b[39mindex)\n\u001b[1;32m      9\u001b[0m \u001b[38;5;66;03m# use the rest of the data as training data\u001b[39;00m\n\u001b[0;32m---> 10\u001b[0m train_data \u001b[38;5;241m=\u001b[39m shuffled_merged\u001b[38;5;241m.\u001b[39mdrop(valid_and_test_data\u001b[38;5;241m.\u001b[39mindex)\n\u001b[1;32m     12\u001b[0m \u001b[38;5;28mprint\u001b[39m(merged\u001b[38;5;241m.\u001b[39mshape)\n\u001b[1;32m     13\u001b[0m \u001b[38;5;28mprint\u001b[39m(test_data\u001b[38;5;241m.\u001b[39mshape)\n",
      "File \u001b[0;32m~/anaconda3/lib/python3.11/site-packages/pandas/core/frame.py:5258\u001b[0m, in \u001b[0;36mDataFrame.drop\u001b[0;34m(self, labels, axis, index, columns, level, inplace, errors)\u001b[0m\n\u001b[1;32m   5110\u001b[0m \u001b[38;5;28;01mdef\u001b[39;00m \u001b[38;5;21mdrop\u001b[39m(\n\u001b[1;32m   5111\u001b[0m     \u001b[38;5;28mself\u001b[39m,\n\u001b[1;32m   5112\u001b[0m     labels: IndexLabel \u001b[38;5;241m=\u001b[39m \u001b[38;5;28;01mNone\u001b[39;00m,\n\u001b[0;32m   (...)\u001b[0m\n\u001b[1;32m   5119\u001b[0m     errors: IgnoreRaise \u001b[38;5;241m=\u001b[39m \u001b[38;5;124m\"\u001b[39m\u001b[38;5;124mraise\u001b[39m\u001b[38;5;124m\"\u001b[39m,\n\u001b[1;32m   5120\u001b[0m ) \u001b[38;5;241m-\u001b[39m\u001b[38;5;241m>\u001b[39m DataFrame \u001b[38;5;241m|\u001b[39m \u001b[38;5;28;01mNone\u001b[39;00m:\n\u001b[1;32m   5121\u001b[0m \u001b[38;5;250m    \u001b[39m\u001b[38;5;124;03m\"\"\"\u001b[39;00m\n\u001b[1;32m   5122\u001b[0m \u001b[38;5;124;03m    Drop specified labels from rows or columns.\u001b[39;00m\n\u001b[1;32m   5123\u001b[0m \n\u001b[0;32m   (...)\u001b[0m\n\u001b[1;32m   5256\u001b[0m \u001b[38;5;124;03m            weight  1.0     0.8\u001b[39;00m\n\u001b[1;32m   5257\u001b[0m \u001b[38;5;124;03m    \"\"\"\u001b[39;00m\n\u001b[0;32m-> 5258\u001b[0m     \u001b[38;5;28;01mreturn\u001b[39;00m \u001b[38;5;28msuper\u001b[39m()\u001b[38;5;241m.\u001b[39mdrop(\n\u001b[1;32m   5259\u001b[0m         labels\u001b[38;5;241m=\u001b[39mlabels,\n\u001b[1;32m   5260\u001b[0m         axis\u001b[38;5;241m=\u001b[39maxis,\n\u001b[1;32m   5261\u001b[0m         index\u001b[38;5;241m=\u001b[39mindex,\n\u001b[1;32m   5262\u001b[0m         columns\u001b[38;5;241m=\u001b[39mcolumns,\n\u001b[1;32m   5263\u001b[0m         level\u001b[38;5;241m=\u001b[39mlevel,\n\u001b[1;32m   5264\u001b[0m         inplace\u001b[38;5;241m=\u001b[39minplace,\n\u001b[1;32m   5265\u001b[0m         errors\u001b[38;5;241m=\u001b[39merrors,\n\u001b[1;32m   5266\u001b[0m     )\n",
      "File \u001b[0;32m~/anaconda3/lib/python3.11/site-packages/pandas/core/generic.py:4549\u001b[0m, in \u001b[0;36mNDFrame.drop\u001b[0;34m(self, labels, axis, index, columns, level, inplace, errors)\u001b[0m\n\u001b[1;32m   4547\u001b[0m \u001b[38;5;28;01mfor\u001b[39;00m axis, labels \u001b[38;5;129;01min\u001b[39;00m axes\u001b[38;5;241m.\u001b[39mitems():\n\u001b[1;32m   4548\u001b[0m     \u001b[38;5;28;01mif\u001b[39;00m labels \u001b[38;5;129;01mis\u001b[39;00m \u001b[38;5;129;01mnot\u001b[39;00m \u001b[38;5;28;01mNone\u001b[39;00m:\n\u001b[0;32m-> 4549\u001b[0m         obj \u001b[38;5;241m=\u001b[39m obj\u001b[38;5;241m.\u001b[39m_drop_axis(labels, axis, level\u001b[38;5;241m=\u001b[39mlevel, errors\u001b[38;5;241m=\u001b[39merrors)\n\u001b[1;32m   4551\u001b[0m \u001b[38;5;28;01mif\u001b[39;00m inplace:\n\u001b[1;32m   4552\u001b[0m     \u001b[38;5;28mself\u001b[39m\u001b[38;5;241m.\u001b[39m_update_inplace(obj)\n",
      "File \u001b[0;32m~/anaconda3/lib/python3.11/site-packages/pandas/core/generic.py:4591\u001b[0m, in \u001b[0;36mNDFrame._drop_axis\u001b[0;34m(self, labels, axis, level, errors, only_slice)\u001b[0m\n\u001b[1;32m   4589\u001b[0m         new_axis \u001b[38;5;241m=\u001b[39m axis\u001b[38;5;241m.\u001b[39mdrop(labels, level\u001b[38;5;241m=\u001b[39mlevel, errors\u001b[38;5;241m=\u001b[39merrors)\n\u001b[1;32m   4590\u001b[0m     \u001b[38;5;28;01melse\u001b[39;00m:\n\u001b[0;32m-> 4591\u001b[0m         new_axis \u001b[38;5;241m=\u001b[39m axis\u001b[38;5;241m.\u001b[39mdrop(labels, errors\u001b[38;5;241m=\u001b[39merrors)\n\u001b[1;32m   4592\u001b[0m     indexer \u001b[38;5;241m=\u001b[39m axis\u001b[38;5;241m.\u001b[39mget_indexer(new_axis)\n\u001b[1;32m   4594\u001b[0m \u001b[38;5;66;03m# Case for non-unique axis\u001b[39;00m\n\u001b[1;32m   4595\u001b[0m \u001b[38;5;28;01melse\u001b[39;00m:\n",
      "File \u001b[0;32m~/anaconda3/lib/python3.11/site-packages/pandas/core/indexes/base.py:6699\u001b[0m, in \u001b[0;36mIndex.drop\u001b[0;34m(self, labels, errors)\u001b[0m\n\u001b[1;32m   6697\u001b[0m \u001b[38;5;28;01mif\u001b[39;00m mask\u001b[38;5;241m.\u001b[39many():\n\u001b[1;32m   6698\u001b[0m     \u001b[38;5;28;01mif\u001b[39;00m errors \u001b[38;5;241m!=\u001b[39m \u001b[38;5;124m\"\u001b[39m\u001b[38;5;124mignore\u001b[39m\u001b[38;5;124m\"\u001b[39m:\n\u001b[0;32m-> 6699\u001b[0m         \u001b[38;5;28;01mraise\u001b[39;00m \u001b[38;5;167;01mKeyError\u001b[39;00m(\u001b[38;5;124mf\u001b[39m\u001b[38;5;124m\"\u001b[39m\u001b[38;5;132;01m{\u001b[39;00m\u001b[38;5;28mlist\u001b[39m(labels[mask])\u001b[38;5;132;01m}\u001b[39;00m\u001b[38;5;124m not found in axis\u001b[39m\u001b[38;5;124m\"\u001b[39m)\n\u001b[1;32m   6700\u001b[0m     indexer \u001b[38;5;241m=\u001b[39m indexer[\u001b[38;5;241m~\u001b[39mmask]\n\u001b[1;32m   6701\u001b[0m \u001b[38;5;28;01mreturn\u001b[39;00m \u001b[38;5;28mself\u001b[39m\u001b[38;5;241m.\u001b[39mdelete(indexer)\n",
      "\u001b[0;31mKeyError\u001b[0m: '[53583, 53469, 58611, 53749, 56860, 51728, 55207, 56347, 56648, 57524, 58474, 51553, 54260, 51593, 52844, 58392, 54073, 58080, 55410, 54309, 55294, 53654, 54212, 51931, 53549, 53503, 57500, 57266, 58817, 51946, 53538, 56102, 54395, 52139, 56889, 53609, 56566, 58262, 54630, 58038, 57849, 55400, 57070, 54833, 58911, 53001, 57242, 51285, 56061, 51499, 57087, 51564, 52112, 58140, 53658, 55744, 55348, 54418, 58709, 57918, 54263, 55043, 58542, 56697, 55214, 51496, 52843, 54573, 56819, 54108, 57032, 52352, 56307, 57218, 54288, 55972, 57733, 51184, 52948, 54369, 52657, 53063, 54230, 57762, 53572, 53178, 56759, 57750, 55572, 53334, 51583, 51557, 58195, 53460, 55504, 58060, 53416, 58427, 58692, 57868, 52227, 56691, 53809, 58311, 51551, 52782, 52519, 53345, 57125, 54221, 54801, 57387, 53822, 55964, 54332, 58122, 55345, 56804, 57927, 51169, 52581, 56785, 57048, 56573, 56642, 58178, 57190, 58480, 53642, 53040, 55287, 51795, 58958, 58872, 56508, 58943, 54092, 53593, 58320, 56521, 54002, 55743, 52910, 57981, 57165, 51940, 54107, 54185, 57628, 55203, 51582, 53456, 56323, 54456, 58089, 57503, 57737, 56676, 52966, 54938, 55227, 53246, 58596, 57061, 52916, 55769, 51479, 56755, 57187, 57124, 52306, 58131, 58317, 53627, 53704, 56164, 53084, 57384, 54435, 57902, 57423, 52181, 54657, 53055, 57409, 57059, 58833, 57072, 56750, 58618, 55772, 56189, 52206, 57978, 57758, 56089, 52050, 53602, 57840, 55016, 55946, 55553, 53594, 53217, 54346, 58291, 52414, 58175, 55623, 58913, 52552, 51546, 57578, 51308, 52798, 54517, 54506, 57131, 58331, 53971, 53578, 57931, 57759, 52348, 57103, 52461, 56130, 53307, 54341, 51882, 56312, 58776, 51532, 57359, 55584, 54451, 57237, 55298, 55859, 52642, 56451, 56612, 51721, 52922, 54993, 55271, 51302, 53512, 55852, 55452, 53703, 57372, 52562, 52626, 56315, 52877, 56140, 53957, 57933, 55288, 55349, 51852, 56597, 52433, 51986, 54832, 54616, 51805, 55910, 56324, 56775, 55261, 51592, 51600, 54955, 55818, 55495, 57147, 57249, 56306, 57851, 58457, 55860, 52170, 53335, 55632, 57000, 54730, 54810, 58211, 52797, 52559, 54536, 56522, 55041, 54357, 51713, 54117, 56069, 53091, 53579, 51178, 56082, 52064, 57255, 57601, 55790, 53015, 52849, 56337, 56435, 51590, 53808, 56732, 55879, 52747, 53497, 53073, 56735, 58277, 58273, 53354, 51467, 53187, 51248, 56025, 52708, 57285, 57572, 51397, 58411, 55796, 57855, 55038, 54906, 56238, 56518, 56221, 57812, 58800, 57290, 52478, 54067, 52395, 56411, 54132, 55912, 54763, 53968, 53711, 56408, 51201, 57356, 57881, 57332, 52471, 56023, 54061, 54472, 53476, 58710, 52532, 55079, 51510, 56039, 53496, 55070, 55011, 52158, 51796, 56665, 54041, 54200, 54315, 55034, 53441, 52715, 56686, 52653, 57582, 58888, 57661, 58437, 55821, 52817, 51190, 56760, 53846, 53719, 53070, 58697, 55311, 53435, 58601, 57465, 56727, 58506, 52378, 57436, 51176, 57053, 51866, 52949, 58655, 51330, 51732, 53671, 55326, 53491, 51921, 58610, 55990, 54393, 57329, 56329, 56357, 53331, 54558, 51519, 54958, 57507, 56525, 54206, 54849, 51639, 53294, 58124, 53781, 56582, 55131, 57796, 56920, 52885, 56225, 54545, 58719, 55792, 53665, 55458, 55817, 55891, 54853, 52079, 58851, 57618, 54663, 56746, 55175, 57361, 55018, 55269, 53674, 57718, 54593, 55276, 57664, 55027, 58029, 55661, 56024, 55608, 53830, 51937, 52785, 58221, 54538, 55388, 52116, 53844, 58266, 56049, 56186, 56534, 57183, 57782, 51920, 57907, 58138, 58220, 58553, 51128, 55123, 55977, 53890, 52472, 54612, 51466, 51608, 58652, 51888, 53858, 51574, 58043, 52848, 54478, 52570, 54510, 55460, 53127, 53887, 54156, 51701, 51856, 51399, 58472, 56628, 51125, 56910, 54116, 57767, 52036, 57071, 56567, 57565, 55068, 52165, 53320, 55407, 51822, 57740, 57944, 57693, 54028, 57272, 54916, 53194, 58458, 52931, 57555, 56694, 53397, 54006, 56806, 52874, 53524, 55549, 55805, 52419, 56892, 58821, 53529, 53917, 55497, 56198, 57010, 51440, 51780, 53619, 55210, 53853, 53854, 55181, 57690, 57815, 53067, 57300, 51585, 57107, 54594, 56928, 54996, 53551, 57480, 53949, 57496, 54709, 58018, 52655, 57984, 54208, 56784, 58319, 58014, 54525, 56368, 52193, 56258, 51945, 52054, 58415, 53257, 56414, 53147, 52010, 57282, 51563, 53237, 55774, 52393, 58812, 53108, 52137, 56527, 58590, 55685, 55130, 56681, 53477, 54158, 54531, 56127, 58900, 54925, 54826, 58278, 53504, 58394, 57553, 57146, 56432, 53337, 54656, 54988, 53630, 55021, 54190, 52338, 58653, 57302, 57363, 51954, 53945, 53366, 54100, 56068, 57889, 52066, 54684, 56639, 58731, 55036, 51316, 55548, 58836, 56867, 53792, 57862, 55693, 53432, 53253, 52073, 57977, 55062, 51200, 53556, 56362, 56455, 53082, 55513, 51304, 54516, 53333, 51886, 52714, 52488, 57354, 53207, 51770, 54328, 53883, 53229, 54880, 54016, 55521, 55667, 53226, 52824, 57410, 53768, 57901, 54499, 58215, 51845, 54986, 53998, 52244, 52105, 53979, 55867, 53660, 54808, 55105, 53462, 58674, 55463, 57051, 57527, 58700, 57430, 54014, 58513, 57321, 55536, 57331, 54222, 56219, 52436, 58101, 51230, 53615, 54574, 57516, 58842, 56442, 51868, 58693, 55740, 51320, 58146, 58698, 54375, 54670, 57913, 57489, 55631, 51826, 56468, 56758, 53323, 51350, 58754, 55121, 56232, 51766, 58932, 51938, 55148, 55662, 53248, 57066, 58694, 58082, 56922, 51818, 53982, 51339, 54586, 56671, 54205, 55883, 57872, 56305, 54373, 53479, 57600, 56403, 56529, 51142, 51774, 52327, 52019, 58945, 53598, 53942, 54497, 51934, 53856, 52171, 57586, 53759, 55870, 57492, 57882, 58235, 56870, 54046, 58778, 58339, 55273, 56541, 57543, 55441, 51542, 56711, 52342, 58464, 51984, 54441, 52160, 54641, 56627, 58518, 51644, 56349, 58238, 51317, 53507, 52068, 57169, 54674, 56325, 54964, 55090, 58895, 51409, 55392, 58703, 56688, 54454, 57358, 52353, 51146, 57433, 56054, 51502, 51289, 57114, 53169, 52697, 54469, 51414, 53358, 53452, 51905, 51405, 56783, 56747, 57761, 54123, 52475, 55084, 53638, 57328, 54308, 58446, 56387, 53006, 56550, 56678, 53031, 54813, 55378, 58293, 51417, 55325, 57917, 53393, 56169, 58189, 55943, 57366, 52008, 58496, 58310, 57504, 56914, 55132, 57662, 58762, 58200, 55431, 54438, 53498, 51897, 53896, 56645, 55581, 51261, 51726, 54514, 51629, 51413, 57343, 53415, 51981, 54636, 53588, 52713, 57858, 52351, 55983, 54340, 51333, 53152, 58665, 51555, 53659, 57225, 55014, 56636, 56888, 56220, 54809, 51513, 57235, 57983, 56667, 56792, 58269, 54003, 54953, 51520, 51319, 55232, 56194, 55485, 53385, 53629, 57085, 57230, 54191, 56663, 54173, 57704, 55384, 58877, 57956, 56419, 55165, 57132, 52056, 57728, 56019, 54831, 55362, 58252, 54114, 56887, 58162, 55938, 57566, 55135, 57166, 57342, 55028, 57935, 53400, 53951, 52003, 53218, 55600, 55301, 55231, 58055, 51452, 54788, 58797, 56523, 51915, 52669, 53695, 52135, 52831, 57102, 51543, 54791, 54830, 55137, 54283, 53148, 58201, 52313, 58368, 53661, 56424, 51221, 57509, 53386, 56304, 53342, 56830, 51651, 54941, 52294, 53463, 53739, 56933, 51506, 53772, 56909, 55822, 55172, 55081, 57888, 56533, 56826, 57883, 53183, 57813, 56918, 51570, 58870, 58396, 54269, 58917, 55707, 52540, 58767, 58042, 52989, 54786, 55981, 52245, 58648, 58436, 55554, 53737, 51523, 54910, 54317, 55678, 55902, 56929, 56555, 55815, 58887, 57238, 51896, 53247, 55327, 53457, 57515, 53192, 51837, 51621, 57703, 54272, 57520, 53189, 57592, 56351, 53774, 54692, 55924, 56196, 51665, 54225, 55138, 52277, 52988, 54759, 54318, 57162, 57705, 57042, 54884, 53874, 55861, 53835, 53210, 53042, 55541, 56139, 57123, 57960, 55030, 56298, 54726, 52205, 55057, 54668, 53364, 53744, 52813, 54868, 53552, 55878, 58573, 56657, 53077, 57408, 54952, 54119, 51794, 54372, 54236, 58270, 56689, 55616, 58914, 58650, 51526, 55941, 51229, 53699, 54783, 51652, 57990, 52268, 52878, 57695, 54376, 52005, 56741, 54837, 58865, 53562, 54457, 54827, 54609, 51465, 54411, 53807, 57617, 58884, 54627, 52654, 57756, 54429, 52808, 55128, 52977, 51139, 53060, 52367, 57015, 51783, 57276, 55078, 58126, 54182, 56285, 55607, 53418, 54896, 56767, 55391, 52322, 51827, 58647, 58686, 57481, 58466, 53923, 58623, 56156, 57303, 54698, 55729, 55589, 54537, 56436, 56465, 53451, 56982, 51816, 56009, 51540, 57942, 57843, 58658, 56105, 51203, 52730, 51456, 57136, 57809, 51778, 53081, 56297, 52923, 57390, 56109, 53700, 56263, 57138, 56763, 53585, 53145, 52812, 58775, 52260, 52565, 53083, 54814, 53371, 52583, 51206, 53209, 54128, 56631, 58807, 56940, 57216, 58771, 53561, 54507, 58424, 54058, 58597, 54842, 54474, 58047, 52928, 51581, 54518, 53094, 52990, 58547, 53039, 54851, 56374, 55887, 57831, 51515, 57181, 56437, 52080, 58964, 55617, 51677, 54725, 55519, 58878, 54027, 53112, 55343, 57885, 54589, 53184, 56595, 51985, 55897, 55180, 51603, 54216, 54552, 51966, 54500, 51311, 54412, 55531, 54509, 56488, 53518, 52886, 53837, 54527, 57163, 58004, 58614, 54189, 55507, 54729, 57608, 55676, 54064, 55601, 53405, 55726, 58670, 58602, 56955, 53988, 51338, 55533, 56902, 57988, 58584, 53478, 57678, 57094, 56210, 58239, 58052, 56613, 52736, 53789, 54037, 56951, 52585, 57611, 53567, 55855, 52610, 57712, 54384, 51741, 58897, 52709, 53142, 52897, 52133, 54184, 58107, 56203, 56096, 55178, 53720, 56291, 55088, 56664, 54210, 52991, 56768, 51167, 52408, 51643, 54883, 55188, 57769, 55876, 56659, 58526, 53550, 53417, 54502, 58591, 58282, 52147, 55047, 55627, 55688, 55677, 51786, 53494, 51231, 58015, 55339, 53973, 58031, 58578, 53287, 58340, 52446, 57940, 52918, 56770, 55341, 55761, 57824, 53289, 53805, 56861, 56353, 56714, 58783, 52241, 57186, 55113, 55124, 51773, 53114, 52404, 55074, 51692, 51618, 52729, 57098, 53729, 55907, 55510, 52732, 57787, 56832, 58751, 53632, 53347, 54836, 54982, 56696, 58236, 56655, 51237, 51454, 57895, 53166, 52336, 52140, 57219, 51951, 54219, 58449, 56081, 53766, 57203, 51914, 56844, 54104, 54648, 53065, 57024, 56530, 54402, 54620, 55606, 55176, 53329, 52982, 53803, 53915, 54921, 55515, 55816, 56276, 56108, 54970, 55565, 52247, 53673, 54138, 53859, 58504, 56029, 53453, 58044, 57604, 52842, 53433, 57751, 55474, 55900, 51933, 54171, 54013, 52319, 57886, 54166, 58546, 53100, 52070, 57665, 51734, 53817, 53062, 55417, 57339, 58438, 55285, 54137, 56021, 52424, 52997, 56621, 53296, 55051, 52065, 56334, 53262, 54428, 51129, 57214, 56956, 55249, 52391, 53850, 51488, 51391, 54473, 57864, 52872, 57822, 55001, 56886, 57346, 53650, 58373, 55401, 51501, 56085, 57325, 51431, 52120, 55193, 52195, 55413, 52337, 53085, 55694, 53775, 56022, 53356, 54295, 56492, 52675, 55375, 54743, 53545, 57196, 53361, 54338, 56145, 55848, 56078, 51992, 56316, 53873, 57172, 52810, 53245, 54673, 56072, 52107, 57727, 54847, 55372, 58292, 55409, 58288, 58509, 52167, 55732, 56884, 53048, 57406, 56431, 57313, 53750, 53905, 58746, 51306, 56293, 55155, 57544, 51137, 51245, 52207, 54524, 52111, 54106, 55742, 55049, 55922, 53241, 56168, 51116, 57108, 51624, 56328, 56890, 55563, 54963, 54894, 57341, 54053, 55657, 57585, 58108, 54240, 58962, 56355, 55268, 55222, 58678, 57120, 57985, 55146, 58664, 54070, 53232, 53871, 58184, 54994, 52589, 57778, 54202, 56167, 54105, 58143, 54264, 58254, 51539, 55720, 54581, 54679, 54443, 53607, 53726, 54776, 54000, 58150, 58803, 53595, 53249, 54300, 56410, 57580, 54943, 56923, 58934, 52426, 53675, 56993, 57223, 56874, 51250, 55610, 57247, 55806, 57869, 54199, 56356, 53840, 52664, 52014, 58683, 52185, 56977, 51119, 54501, 54187, 56302, 54055, 56927, 57243, 55646, 53862, 55765, 57405, 54352, 58428, 58433, 54268, 58660, 51313, 52537, 55363, 52529, 53664, 53689, 53742, 53367, 53434, 52382, 57634, 54047, 52919, 53037, 58903, 56502, 57233, 56420, 57866, 57936, 55628, 56038, 58566, 55557, 53897, 54228, 55899, 51157, 53931, 54233, 54550, 52238, 55470, 55015, 54564, 53373, 56028, 52541, 55297, 51833, 58247, 54582, 52031, 58192, 58604, 58374, 57842, 55360, 53769, 56485, 51722, 51791, 58563, 52362, 58017, 52252, 57959, 57730, 58666, 57241, 54374, 52651, 51930, 58844, 52739, 55953, 57766, 55454, 58491, 53167, 52361, 57486, 54431, 55874, 51684, 57962, 55655, 51171, 57424, 56572, 56654, 52538, 57188, 55248, 57749, 53250, 51282, 56968, 56948, 53888, 52533, 54975, 51874, 51620, 56568, 51145, 52925, 54563, 58831, 54944, 54122, 56652, 51548, 57324, 51227, 55412, 55156, 55930, 58345, 52279, 55718, 53764, 56630, 56512, 53446, 51395, 53407, 58483, 58078, 58344, 53752, 58761, 56742, 56462, 51122, 52093, 55266, 58134, 58166, 53292, 58965, 51439, 54086, 51500, 52526, 54731, 54284, 53024, 55048, 55551, 57773, 53318, 51420, 52121, 58890, 54324, 56195, 51156, 51909, 51213, 53791, 55168, 53430, 53282, 55889, 56560, 53010, 52204, 52481, 51126, 55989, 52443, 56682, 52307, 55810, 56916, 52612, 53932, 57362, 51470, 53440, 57099, 52202, 55473, 55086, 55615, 56782, 52458, 54406, 52619, 54804, 54052, 52301, 53079, 52946, 54161, 52936, 53894, 54777, 55807, 55357, 55639, 58387, 53330, 55173, 56971, 53519, 53339, 53086, 56244, 53426, 55992, 56903, 53983, 54085, 52904, 55237, 53117, 53802, 51846, 57443, 52049, 52890, 56962, 52774, 53261, 53569, 54796, 57716, 56390, 56535, 54327, 57934, 52092, 52718, 56967, 53686, 55239, 52960, 56863, 52765, 55703, 55716, 54214, 53485, 54985, 54556, 56409, 54124, 55405, 54892, 57427, 52325, 52355, 57732, 58384, 55467, 51820, 58592, 52994, 57028, 55040, 57487, 57966, 52984, 53733, 56958, 55573, 54446, 53034, 57200, 56748, 56698, 57429, 51252, 56989, 52047, 53221, 55830, 55550, 57637, 52441, 54681, 58136, 53513, 55783, 53922, 51895, 58208, 57312, 51507, 53019, 57023, 53848, 54795, 53639, 54802, 55342, 56421, 52328, 58154, 53554, 56255, 53611, 56097, 55656, 55282, 53755, 53863, 52257, 58714, 55050, 53227, 53023, 58873, 56808, 57212, 55856, 58376, 52044, 58779, 58306, 56846, 55731, 52683, 53093, 52411, 57694, 57850, 56539, 54069, 57880, 56243, 55517, 54891, 56494, 53191, 51144, 57381, 52726, 56346, 53616, 52733, 57593, 53171, 51168, 52796, 51670, 52223, 52442, 55254, 55819, 51134, 53208, 53447, 56942, 58183, 54339, 52024, 53927, 55713, 55449, 51191, 53088, 56484, 52076, 53715, 57606, 52403, 55733, 58159, 56044, 57378, 57160, 54004, 53102, 57499, 55673, 55154, 51194, 54193, 53074, 53378, 55757, 52902, 57139, 54447, 56749, 56805, 52456, 58046, 54741, 55950, 51303, 55665, 57297, 52250, 52022, 56950, 54637, 54762, 52764, 53640, 54528, 53343, 52847, 52314, 52359, 56579, 54715, 56014, 51663, 54475, 54150, 58063, 56141, 52630, 51301, 56208, 56320, 55106, 56234, 53096, 51451, 52040, 53800, 51657, 57226, 58689, 58972, 54568, 55071, 57151, 58852, 53804, 56212, 58804, 54160, 51806, 53414, 53517, 55535, 57619, 52212, 58498, 57871, 51737, 56489, 55064, 53902, 58490, 53225, 58696, 58793, 55748, 56202, 51949, 55448, 54399, 51602, 55747, 53636, 51864, 51647, 57929, 53276, 56715, 52029, 54025, 56796, 58715, 56807, 56549, 57415, 53008, 54817, 54909, 58332, 54876, 55300, 55795, 57514, 55414, 56946, 55683, 52311, 58495, 54723, 54651, 54875, 51587, 55461, 56199, 51529, 58091, 54862, 51401, 52892, 55539, 53565, 52091, 57941, 55433, 55540, 54840, 55969, 54351, 56882, 51784, 51698, 53360, 54957, 54572, 56941, 54484, 58227, 58691, 55679, 52964, 52804, 58053, 56515, 52547, 58737, 57034, 57111, 58845, 57865, 57269, 53993, 55545, 53236, 56526, 55491, 51695, 56790, 52466, 55751, 56677, 54282, 55569, 58205, 51718, 53379, 55009, 56963, 57386, 53284, 53051, 58147, 52346, 54654, 54253, 52087, 52544, 52383, 57989, 56249, 56835, 51473, 54899, 52937, 57488, 58271, 53818, 58738, 54299, 51950, 55884, 58403, 57263, 55530, 56772, 55811, 55838, 54145, 56261, 58244, 52609, 53557, 51365, 51977, 56564, 58165, 54782, 53097, 58013, 52756, 53332, 56879, 56396, 54259, 56336, 56829, 52463, 51849, 58441, 51197, 57154, 58445, 55092, 53274, 51159, 57411, 52372, 51861, 52235, 55630, 53408, 57538, 51758, 53188, 52293, 58041, 52593, 56423, 53795, 52556, 51887, 56926, 57347, 58030, 55872, 56060, 56786, 56461, 57932, 56762, 52944, 58639, 52229, 58275, 58642, 51443, 55525, 56868, 57667, 57494, 52254, 51793, 56894, 58769, 54554, 53977, 57074, 53773, 56680, 53641, 52437, 52768, 51825, 55842, 51763, 57945, 57982, 51418, 51312, 56106, 58479, 52151, 52522, 57418, 54401, 57227, 55256, 56906, 54812, 56247, 51664, 56005, 53530, 51521, 57965, 54605, 54011, 55717, 56710, 58037, 53678, 55593, 58896, 51599, 57065, 53929, 57805, 57511, 52671, 57717, 54331, 57922, 54688, 54736, 57957, 54604, 54247, 56120, 53199, 55395, 51907, 54767, 51210, 56501, 52738, 54420, 54280, 52899, 52998, 54622, 58187, 54865, 58571, 52182, 52743, 57754, 53492, 54961, 57735, 54738, 57506, 56121, 52370, 56083, 56531, 58672, 53198, 55512, 54751, 54226, 52265, 53030, 55083, 58846, 53712, 51238, 51422, 58115, 53533, 52007, 52905, 55139, 52636, 57738, 55933, 52357, 58579, 58876, 54452, 58341, 55080, 53185, 51626, 55440, 54196, 52377, 51441, 58856, 53543, 57810, 56911, 51323, 56391, 58640, 52333, 58675, 54250, 53523, 51808, 54358, 56211, 55403, 53279, 52935, 54852, 51208, 56991, 57078, 58453, 56404, 52176, 55058, 52059, 54179, 55658, 52203, 52089, 55205, 54775, 54631, 51257, 54624, 56780, 53810, 58355] not found in axis'"
     ]
    }
   ],
   "source": [
    "shuffled_merged = merged.sample(n = len(merged), random_state = 42)\n",
    "shuffled_merged = shuffled_merged.reset_index(drop = True)\n",
    "\n",
    "# Save 30% of the data as validation and test data \n",
    "valid_and_test_data = merged.sample(frac=0.30,random_state=42)\n",
    "test_data = valid_and_test_data.sample(frac = 0.5, random_state = 42)\n",
    "valid_data = valid_and_test_data.drop(test_data.index)\n",
    "\n",
    "# use the rest of the data as training data\n",
    "train_data = shuffled_merged.drop(valid_and_test_data.index)\n",
    "\n",
    "print(merged.shape)\n",
    "print(test_data.shape)\n",
    "print(valid_data.shape)\n",
    "print(train_data.shape)\n",
    "print(str(test_data.shape[0] + valid_data.shape[0] + train_data.shape[0]))"
   ]
  },
  {
   "cell_type": "code",
   "execution_count": 123,
   "id": "1c888eaa",
   "metadata": {},
   "outputs": [],
   "source": [
    "# There are a much larger amount of 0 labels than 1 labels (see merged['READMISSION'] counts)\n",
    "# To solve this class imbalance, we randomly sample from the majority class (0 labels) an amount of data points equal to the minority class\n",
    "\n",
    "# Split data by label\n",
    "pos_train = train_data.loc[train_data['READMISSION'] == 1]\n",
    "neg_train = train_data.loc[train_data['READMISSION'] != 1]\n",
    "\n",
    "# Randomly sample data\n",
    "sample_neg_train = neg_train.sample(n = len(pos_train), random_state = 42)\n",
    "\n",
    "# Recombine Data\n",
    "train_data = pd.concat([pos_train, sample_neg_train], axis = 0)\n",
    "train_data = train_data.sample(n = len(train_data), random_state = 42).reset_index(drop = True)"
   ]
  },
  {
   "cell_type": "code",
   "execution_count": 124,
   "id": "9c3cb299",
   "metadata": {},
   "outputs": [
    {
     "name": "stdout",
     "output_type": "stream",
     "text": [
      "(4510, 28)\n",
      "(2255, 28)\n",
      "(2255, 28)\n"
     ]
    }
   ],
   "source": [
    "print(train_data.shape)\n",
    "print(sample_neg_train.shape)\n",
    "print(pos_train.shape)"
   ]
  },
  {
   "cell_type": "markdown",
   "id": "5408d559",
   "metadata": {},
   "source": [
    "NLP processing on 'TEXT' column for discharge summaries from NOTE EVENTS TABLE"
   ]
  },
  {
   "cell_type": "code",
   "execution_count": 125,
   "id": "eaa32573",
   "metadata": {},
   "outputs": [],
   "source": [
    "# Clean the string representation for 'TEXT' columns\n",
    "\n",
    "train_data['TEXT'] = train_data['TEXT'].fillna(' ').str.replace('\\n',' ').replace('\\r',' ')\n",
    "test_data['TEXT'] = test_data['TEXT'].fillna(' ').str.replace('\\n',' ').replace('\\r',' ')\n",
    "valid_data['TEXT'] = valid_data['TEXT'].fillna(' ').str.replace('\\n',' ').replace('\\r',' ')"
   ]
  },
  {
   "cell_type": "code",
   "execution_count": 126,
   "id": "edc690aa",
   "metadata": {},
   "outputs": [],
   "source": [
    "# import string\n",
    "# def tokenizer_better(text):\n",
    "#     # tokenize the text by replacing punctuation and numbers with spaces and lowercase all words\n",
    "    \n",
    "#     punc_list = string.punctuation+'0123456789'\n",
    "#     t = str.maketrans(dict.fromkeys(punc_list, \" \"))\n",
    "#     text = text.lower().translate(t)\n",
    "#     tokens = nltk.word_tokenize(text)\n",
    "#     return tokens"
   ]
  },
  {
   "cell_type": "code",
   "execution_count": 127,
   "id": "d1b4a058",
   "metadata": {},
   "outputs": [
    {
     "name": "stderr",
     "output_type": "stream",
     "text": [
      "/Users/kobo/anaconda3/lib/python3.11/site-packages/sklearn/feature_extraction/text.py:525: UserWarning: The parameter 'token_pattern' will not be used since 'tokenizer' is not None'\n",
      "  warnings.warn(\n"
     ]
    },
    {
     "data": {
      "text/plain": [
       "array([[1, 0, 2, 1, 0, 0, 0, 0, 1, 1],\n",
       "       [0, 1, 0, 1, 0, 0, 0, 0, 1, 1],\n",
       "       [0, 0, 1, 1, 1, 1, 1, 1, 1, 0]])"
      ]
     },
     "execution_count": 127,
     "metadata": {},
     "output_type": "execute_result"
    }
   ],
   "source": [
    "# Write tokenizer that removes non-words\n",
    "tokenizeText = lambda x: nltk.tokenize.RegexpTokenizer(r'\\b[a-zA-Z_]+\\b').tokenize(x.lower())\n",
    "\n",
    "sample_text = ['Data science is about the data', 'The science is amazing', 'Predictive modeling is part of data science']\n",
    "vect = CountVectorizer(tokenizer = tokenizeText)\n",
    "vect.fit(sample_text)\n",
    "# matrix is stored as a sparse matrix (since you have a lot of zeros)\n",
    "X = vect.transform(sample_text)\n",
    "X.toarray()"
   ]
  },
  {
   "cell_type": "code",
   "execution_count": 128,
   "id": "5516c7fa",
   "metadata": {},
   "outputs": [
    {
     "data": {
      "text/html": [
       "<style>#sk-container-id-4 {color: black;}#sk-container-id-4 pre{padding: 0;}#sk-container-id-4 div.sk-toggleable {background-color: white;}#sk-container-id-4 label.sk-toggleable__label {cursor: pointer;display: block;width: 100%;margin-bottom: 0;padding: 0.3em;box-sizing: border-box;text-align: center;}#sk-container-id-4 label.sk-toggleable__label-arrow:before {content: \"▸\";float: left;margin-right: 0.25em;color: #696969;}#sk-container-id-4 label.sk-toggleable__label-arrow:hover:before {color: black;}#sk-container-id-4 div.sk-estimator:hover label.sk-toggleable__label-arrow:before {color: black;}#sk-container-id-4 div.sk-toggleable__content {max-height: 0;max-width: 0;overflow: hidden;text-align: left;background-color: #f0f8ff;}#sk-container-id-4 div.sk-toggleable__content pre {margin: 0.2em;color: black;border-radius: 0.25em;background-color: #f0f8ff;}#sk-container-id-4 input.sk-toggleable__control:checked~div.sk-toggleable__content {max-height: 200px;max-width: 100%;overflow: auto;}#sk-container-id-4 input.sk-toggleable__control:checked~label.sk-toggleable__label-arrow:before {content: \"▾\";}#sk-container-id-4 div.sk-estimator input.sk-toggleable__control:checked~label.sk-toggleable__label {background-color: #d4ebff;}#sk-container-id-4 div.sk-label input.sk-toggleable__control:checked~label.sk-toggleable__label {background-color: #d4ebff;}#sk-container-id-4 input.sk-hidden--visually {border: 0;clip: rect(1px 1px 1px 1px);clip: rect(1px, 1px, 1px, 1px);height: 1px;margin: -1px;overflow: hidden;padding: 0;position: absolute;width: 1px;}#sk-container-id-4 div.sk-estimator {font-family: monospace;background-color: #f0f8ff;border: 1px dotted black;border-radius: 0.25em;box-sizing: border-box;margin-bottom: 0.5em;}#sk-container-id-4 div.sk-estimator:hover {background-color: #d4ebff;}#sk-container-id-4 div.sk-parallel-item::after {content: \"\";width: 100%;border-bottom: 1px solid gray;flex-grow: 1;}#sk-container-id-4 div.sk-label:hover label.sk-toggleable__label {background-color: #d4ebff;}#sk-container-id-4 div.sk-serial::before {content: \"\";position: absolute;border-left: 1px solid gray;box-sizing: border-box;top: 0;bottom: 0;left: 50%;z-index: 0;}#sk-container-id-4 div.sk-serial {display: flex;flex-direction: column;align-items: center;background-color: white;padding-right: 0.2em;padding-left: 0.2em;position: relative;}#sk-container-id-4 div.sk-item {position: relative;z-index: 1;}#sk-container-id-4 div.sk-parallel {display: flex;align-items: stretch;justify-content: center;background-color: white;position: relative;}#sk-container-id-4 div.sk-item::before, #sk-container-id-4 div.sk-parallel-item::before {content: \"\";position: absolute;border-left: 1px solid gray;box-sizing: border-box;top: 0;bottom: 0;left: 50%;z-index: -1;}#sk-container-id-4 div.sk-parallel-item {display: flex;flex-direction: column;z-index: 1;position: relative;background-color: white;}#sk-container-id-4 div.sk-parallel-item:first-child::after {align-self: flex-end;width: 50%;}#sk-container-id-4 div.sk-parallel-item:last-child::after {align-self: flex-start;width: 50%;}#sk-container-id-4 div.sk-parallel-item:only-child::after {width: 0;}#sk-container-id-4 div.sk-dashed-wrapped {border: 1px dashed gray;margin: 0 0.4em 0.5em 0.4em;box-sizing: border-box;padding-bottom: 0.4em;background-color: white;}#sk-container-id-4 div.sk-label label {font-family: monospace;font-weight: bold;display: inline-block;line-height: 1.2em;}#sk-container-id-4 div.sk-label-container {text-align: center;}#sk-container-id-4 div.sk-container {/* jupyter's `normalize.less` sets `[hidden] { display: none; }` but bootstrap.min.css set `[hidden] { display: none !important; }` so we also need the `!important` here to be able to override the default hidden behavior on the sphinx rendered scikit-learn.org. See: https://github.com/scikit-learn/scikit-learn/issues/21755 */display: inline-block !important;position: relative;}#sk-container-id-4 div.sk-text-repr-fallback {display: none;}</style><div id=\"sk-container-id-4\" class=\"sk-top-container\"><div class=\"sk-text-repr-fallback\"><pre>CountVectorizer(max_features=3000,\n",
       "                stop_words=[&#x27;the&#x27;, &#x27;and&#x27;, &#x27;to&#x27;, &#x27;of&#x27;, &#x27;was&#x27;, &#x27;with&#x27;, &#x27;a&#x27;, &#x27;on&#x27;,\n",
       "                            &#x27;in&#x27;, &#x27;for&#x27;, &#x27;name&#x27;, &#x27;is&#x27;, &#x27;patient&#x27;, &#x27;s&#x27;, &#x27;he&#x27;,\n",
       "                            &#x27;at&#x27;, &#x27;as&#x27;, &#x27;or&#x27;, &#x27;one&#x27;, &#x27;she&#x27;, &#x27;his&#x27;, &#x27;her&#x27;, &#x27;am&#x27;,\n",
       "                            &#x27;were&#x27;, &#x27;you&#x27;, &#x27;pt&#x27;, &#x27;pm&#x27;, &#x27;by&#x27;, &#x27;be&#x27;, &#x27;had&#x27;, ...],\n",
       "                tokenizer=&lt;function &lt;lambda&gt; at 0x173b41c60&gt;)</pre><b>In a Jupyter environment, please rerun this cell to show the HTML representation or trust the notebook. <br />On GitHub, the HTML representation is unable to render, please try loading this page with nbviewer.org.</b></div><div class=\"sk-container\" hidden><div class=\"sk-item\"><div class=\"sk-estimator sk-toggleable\"><input class=\"sk-toggleable__control sk-hidden--visually\" id=\"sk-estimator-id-4\" type=\"checkbox\" checked><label for=\"sk-estimator-id-4\" class=\"sk-toggleable__label sk-toggleable__label-arrow\">CountVectorizer</label><div class=\"sk-toggleable__content\"><pre>CountVectorizer(max_features=3000,\n",
       "                stop_words=[&#x27;the&#x27;, &#x27;and&#x27;, &#x27;to&#x27;, &#x27;of&#x27;, &#x27;was&#x27;, &#x27;with&#x27;, &#x27;a&#x27;, &#x27;on&#x27;,\n",
       "                            &#x27;in&#x27;, &#x27;for&#x27;, &#x27;name&#x27;, &#x27;is&#x27;, &#x27;patient&#x27;, &#x27;s&#x27;, &#x27;he&#x27;,\n",
       "                            &#x27;at&#x27;, &#x27;as&#x27;, &#x27;or&#x27;, &#x27;one&#x27;, &#x27;she&#x27;, &#x27;his&#x27;, &#x27;her&#x27;, &#x27;am&#x27;,\n",
       "                            &#x27;were&#x27;, &#x27;you&#x27;, &#x27;pt&#x27;, &#x27;pm&#x27;, &#x27;by&#x27;, &#x27;be&#x27;, &#x27;had&#x27;, ...],\n",
       "                tokenizer=&lt;function &lt;lambda&gt; at 0x173b41c60&gt;)</pre></div></div></div></div></div>"
      ],
      "text/plain": [
       "CountVectorizer(max_features=3000,\n",
       "                stop_words=['the', 'and', 'to', 'of', 'was', 'with', 'a', 'on',\n",
       "                            'in', 'for', 'name', 'is', 'patient', 's', 'he',\n",
       "                            'at', 'as', 'or', 'one', 'she', 'his', 'her', 'am',\n",
       "                            'were', 'you', 'pt', 'pm', 'by', 'be', 'had', ...],\n",
       "                tokenizer=<function <lambda> at 0x173b41c60>)"
      ]
     },
     "execution_count": 128,
     "metadata": {},
     "output_type": "execute_result"
    }
   ],
   "source": [
    "my_stop_words = ['the','and','to','of','was','with','a','on','in','for','name',\n",
    "                 'is','patient','s','he','at','as','or','one','she','his','her','am',\n",
    "                 'were','you','pt','pm','by','be','had','your','this','date',\n",
    "                 'from','there','an','that','p','are','have','has','h','but','o',\n",
    "                 'namepattern','which','every','also']\n",
    "\n",
    "vect = CountVectorizer(max_features = 3000, tokenizer = tokenizeText, stop_words = my_stop_words)\n",
    "# this could take a while\n",
    "vect.fit(train_data['TEXT'].values)"
   ]
  },
  {
   "cell_type": "code",
   "execution_count": 129,
   "id": "c918eab5",
   "metadata": {},
   "outputs": [],
   "source": [
    "X_train = vect.transform(train_data['TEXT'].values)\n",
    "X_valid = vect.transform(valid_data['TEXT'].values)\n",
    "\n",
    "y_train = train_data['READMISSION']\n",
    "y_valid = valid_data['READMISSION']"
   ]
  },
  {
   "cell_type": "markdown",
   "id": "9b8d0a92",
   "metadata": {},
   "source": [
    "RANDOM FOREST REGRESSOR"
   ]
  },
  {
   "cell_type": "code",
   "execution_count": 130,
   "id": "cf3f1669",
   "metadata": {},
   "outputs": [],
   "source": [
    "# Import the model we are using\n",
    "from sklearn.ensemble import RandomForestClassifier\n",
    "\n",
    "rf=RandomForestClassifier()\n",
    "\n",
    "# Instantiate model with 1000 decision trees\n",
    "rf.matrix= RandomForestClassifier(n_estimators = 1000, random_state = 42)\n",
    "# Train the model on training data\n",
    "rf.fit(X_train, y_train);\n",
    "\n",
    "# fit <- randomForest(...)\n",
    "# round(importance(fit), 2)"
   ]
  },
  {
   "cell_type": "code",
   "execution_count": 131,
   "id": "115ac2df",
   "metadata": {},
   "outputs": [
    {
     "name": "stdout",
     "output_type": "stream",
     "text": [
      "Mean Absolute Error for X_test: 0.39 degrees.\n"
     ]
    }
   ],
   "source": [
    "X_test = vect.transform(test_data['TEXT'].values)\n",
    "y_test = test_data['READMISSION']\n",
    "# Use the forest's predict method on the test data\n",
    "predictions = rf.predict(X_test)\n",
    "# Calculate the absolute errors\n",
    "errors = abs(predictions - y_test)\n",
    "# Print out the mean absolute error (mae)\n",
    "print('Mean Absolute Error for X_test:', round(np.mean(errors), 2), 'degrees.')"
   ]
  },
  {
   "cell_type": "code",
   "execution_count": 132,
   "id": "73d52de3",
   "metadata": {},
   "outputs": [
    {
     "name": "stdout",
     "output_type": "stream",
     "text": [
      "Mean Absolute Error for X_train: 0.03 degrees.\n"
     ]
    }
   ],
   "source": [
    "predictions = rf.predict(X_train)\n",
    "# Calculate the absolute errors\n",
    "errors = abs(predictions - y_train)\n",
    "# Print out the mean absolute error (mae)\n",
    "print('Mean Absolute Error for X_train:', round(np.mean(errors), 2), 'degrees.')\n"
   ]
  },
  {
   "cell_type": "code",
   "execution_count": 134,
   "id": "a1473d8e",
   "metadata": {},
   "outputs": [
    {
     "name": "stdout",
     "output_type": "stream",
     "text": [
      "0.9694013303769401\n",
      "0.6153645493674188\n",
      "0.6055823659840877\n",
      "0.9069060660770933\n"
     ]
    }
   ],
   "source": [
    "# model_rf = rf\n",
    "# y_train_preds_rf = model_rf.predict_proba(X_train)[:,1]\n",
    "# y_valid_preds_rf = model_rf.predict_proba(X_valid)[:,1]\n",
    "# X_test_rf = vect.transform(test_data['TEXT'].values)\n",
    "# y_test_rf = test_data['READMISSION']\n",
    "# y_test_preds_rf = model_rf.predict_proba(X_test)[:,1]\n",
    "from sklearn.metrics import confusion_matrix,accuracy_score,recall_score,precision_score\n",
    "from sklearn.metrics import roc_auc_score\n",
    "roc_auc_score(y_test, rf.predict_proba(X_test)[:,1])\n",
    "# from sklearn.metrics import confusion_matrix,accuracy_score,recall_score,precision_score\n",
    "# auroc= accuracy_score(rf.predict(X_test), y_test)\n",
    "# print(auroc)\n",
    "\n",
    "model2 = rf\n",
    "y_train_preds_dt = model2.predict_proba(X_train)[:,1]\n",
    "y_valid_preds_dt = model2.predict_proba(X_valid)[:,1]\n",
    "\n",
    "X_test_dt = vect.transform(test_data['TEXT'].values)\n",
    "y_test_dt = test_data['READMISSION']\n",
    "y_test_preds_dt = model2.predict_proba(X_test_dt)[:,1]\n",
    "\n",
    "train_acc_dt = np.mean(y_train == (y_train_preds_dt > 0.5))\n",
    "valid_acc_dt = np.mean(y_valid == (y_valid_preds_dt > 0.5))\n",
    "test_acc_dt = np.mean(y_test == (y_test_preds_dt > 0.5))\n",
    "print(train_acc_dt)\n",
    "print(valid_acc_dt)\n",
    "print(test_acc_dt)\n",
    "print(roc_auc_score(y_test, rf.predict_proba(X_test)[:,1]))\n"
   ]
  },
  {
   "cell_type": "markdown",
   "id": "fa3c911b",
   "metadata": {},
   "source": [
    "K-NEAREST NEIGHBORS"
   ]
  },
  {
   "cell_type": "code",
   "execution_count": 135,
   "id": "6381c115",
   "metadata": {},
   "outputs": [],
   "source": [
    "from sklearn.neighbors import NearestNeighbors\n",
    "import pandas as pd\n",
    "import numpy as np\n",
    "import json\n",
    "from sklearn.preprocessing import MinMaxScaler\n",
    "from sklearn.model_selection import train_test_split\n",
    "from sklearn.neighbors import NearestNeighbors\n",
    "import re\n",
    "import nltk\n",
    "from sklearn.feature_extraction.text import TfidfVectorizer\n",
    "from sklearn.decomposition import PCA\n",
    "from sklearn.metrics import accuracy_score"
   ]
  },
  {
   "cell_type": "code",
   "execution_count": 136,
   "id": "3b820221",
   "metadata": {},
   "outputs": [
    {
     "data": {
      "text/html": [
       "<style>#sk-container-id-5 {color: black;}#sk-container-id-5 pre{padding: 0;}#sk-container-id-5 div.sk-toggleable {background-color: white;}#sk-container-id-5 label.sk-toggleable__label {cursor: pointer;display: block;width: 100%;margin-bottom: 0;padding: 0.3em;box-sizing: border-box;text-align: center;}#sk-container-id-5 label.sk-toggleable__label-arrow:before {content: \"▸\";float: left;margin-right: 0.25em;color: #696969;}#sk-container-id-5 label.sk-toggleable__label-arrow:hover:before {color: black;}#sk-container-id-5 div.sk-estimator:hover label.sk-toggleable__label-arrow:before {color: black;}#sk-container-id-5 div.sk-toggleable__content {max-height: 0;max-width: 0;overflow: hidden;text-align: left;background-color: #f0f8ff;}#sk-container-id-5 div.sk-toggleable__content pre {margin: 0.2em;color: black;border-radius: 0.25em;background-color: #f0f8ff;}#sk-container-id-5 input.sk-toggleable__control:checked~div.sk-toggleable__content {max-height: 200px;max-width: 100%;overflow: auto;}#sk-container-id-5 input.sk-toggleable__control:checked~label.sk-toggleable__label-arrow:before {content: \"▾\";}#sk-container-id-5 div.sk-estimator input.sk-toggleable__control:checked~label.sk-toggleable__label {background-color: #d4ebff;}#sk-container-id-5 div.sk-label input.sk-toggleable__control:checked~label.sk-toggleable__label {background-color: #d4ebff;}#sk-container-id-5 input.sk-hidden--visually {border: 0;clip: rect(1px 1px 1px 1px);clip: rect(1px, 1px, 1px, 1px);height: 1px;margin: -1px;overflow: hidden;padding: 0;position: absolute;width: 1px;}#sk-container-id-5 div.sk-estimator {font-family: monospace;background-color: #f0f8ff;border: 1px dotted black;border-radius: 0.25em;box-sizing: border-box;margin-bottom: 0.5em;}#sk-container-id-5 div.sk-estimator:hover {background-color: #d4ebff;}#sk-container-id-5 div.sk-parallel-item::after {content: \"\";width: 100%;border-bottom: 1px solid gray;flex-grow: 1;}#sk-container-id-5 div.sk-label:hover label.sk-toggleable__label {background-color: #d4ebff;}#sk-container-id-5 div.sk-serial::before {content: \"\";position: absolute;border-left: 1px solid gray;box-sizing: border-box;top: 0;bottom: 0;left: 50%;z-index: 0;}#sk-container-id-5 div.sk-serial {display: flex;flex-direction: column;align-items: center;background-color: white;padding-right: 0.2em;padding-left: 0.2em;position: relative;}#sk-container-id-5 div.sk-item {position: relative;z-index: 1;}#sk-container-id-5 div.sk-parallel {display: flex;align-items: stretch;justify-content: center;background-color: white;position: relative;}#sk-container-id-5 div.sk-item::before, #sk-container-id-5 div.sk-parallel-item::before {content: \"\";position: absolute;border-left: 1px solid gray;box-sizing: border-box;top: 0;bottom: 0;left: 50%;z-index: -1;}#sk-container-id-5 div.sk-parallel-item {display: flex;flex-direction: column;z-index: 1;position: relative;background-color: white;}#sk-container-id-5 div.sk-parallel-item:first-child::after {align-self: flex-end;width: 50%;}#sk-container-id-5 div.sk-parallel-item:last-child::after {align-self: flex-start;width: 50%;}#sk-container-id-5 div.sk-parallel-item:only-child::after {width: 0;}#sk-container-id-5 div.sk-dashed-wrapped {border: 1px dashed gray;margin: 0 0.4em 0.5em 0.4em;box-sizing: border-box;padding-bottom: 0.4em;background-color: white;}#sk-container-id-5 div.sk-label label {font-family: monospace;font-weight: bold;display: inline-block;line-height: 1.2em;}#sk-container-id-5 div.sk-label-container {text-align: center;}#sk-container-id-5 div.sk-container {/* jupyter's `normalize.less` sets `[hidden] { display: none; }` but bootstrap.min.css set `[hidden] { display: none !important; }` so we also need the `!important` here to be able to override the default hidden behavior on the sphinx rendered scikit-learn.org. See: https://github.com/scikit-learn/scikit-learn/issues/21755 */display: inline-block !important;position: relative;}#sk-container-id-5 div.sk-text-repr-fallback {display: none;}</style><div id=\"sk-container-id-5\" class=\"sk-top-container\"><div class=\"sk-text-repr-fallback\"><pre>KNeighborsClassifier()</pre><b>In a Jupyter environment, please rerun this cell to show the HTML representation or trust the notebook. <br />On GitHub, the HTML representation is unable to render, please try loading this page with nbviewer.org.</b></div><div class=\"sk-container\" hidden><div class=\"sk-item\"><div class=\"sk-estimator sk-toggleable\"><input class=\"sk-toggleable__control sk-hidden--visually\" id=\"sk-estimator-id-5\" type=\"checkbox\" checked><label for=\"sk-estimator-id-5\" class=\"sk-toggleable__label sk-toggleable__label-arrow\">KNeighborsClassifier</label><div class=\"sk-toggleable__content\"><pre>KNeighborsClassifier()</pre></div></div></div></div></div>"
      ],
      "text/plain": [
       "KNeighborsClassifier()"
      ]
     },
     "execution_count": 136,
     "metadata": {},
     "output_type": "execute_result"
    }
   ],
   "source": [
    "from sklearn.neighbors import KNeighborsClassifier\n",
    "classifier = KNeighborsClassifier(n_neighbors = 5, metric = 'minkowski', p = 2)#The default metric is minkowski, and with p=2 is equivalent to the standard Euclidean metric.\n",
    "classifier.fit(X_train, y_train)"
   ]
  },
  {
   "cell_type": "code",
   "execution_count": 137,
   "id": "541c6ce8",
   "metadata": {},
   "outputs": [],
   "source": [
    "\n",
    "y_pred = classifier.predict(X_test)"
   ]
  },
  {
   "cell_type": "code",
   "execution_count": 138,
   "id": "fab1943b",
   "metadata": {},
   "outputs": [
    {
     "name": "stdout",
     "output_type": "stream",
     "text": [
      "[[4792 2470]\n",
      " [ 150  255]]\n"
     ]
    },
    {
     "data": {
      "text/plain": [
       "0.6582757271422982"
      ]
     },
     "execution_count": 138,
     "metadata": {},
     "output_type": "execute_result"
    }
   ],
   "source": [
    "from sklearn.metrics import confusion_matrix, accuracy_score\n",
    "cm = confusion_matrix(y_test, y_pred)\n",
    "print(cm)\n",
    "accuracy_score(y_test, y_pred)"
   ]
  },
  {
   "cell_type": "code",
   "execution_count": 139,
   "id": "f2eb5a7b",
   "metadata": {},
   "outputs": [
    {
     "name": "stdout",
     "output_type": "stream",
     "text": [
      "0.7319290465631929\n",
      "0.6651884700665188\n",
      "0.6582757271422982\n",
      "0.6926237032956946\n"
     ]
    }
   ],
   "source": [
    "model3 = classifier\n",
    "y_train_preds_knn = model3.predict_proba(X_train)[:,1]\n",
    "y_valid_preds_knn = model3.predict_proba(X_valid)[:,1]\n",
    "\n",
    "X_test_knn = vect.transform(test_data['TEXT'].values)\n",
    "y_test_knn = test_data['READMISSION']\n",
    "y_test_preds_knn = model3.predict_proba(X_test_knn)[:,1]\n",
    "\n",
    "train_acc_knn = np.mean(y_train == (y_train_preds_knn > 0.5))\n",
    "valid_acc_knn = np.mean(y_valid == (y_valid_preds_knn > 0.5))\n",
    "test_acc_knn = np.mean(y_test == (y_test_preds_knn > 0.5))\n",
    "print(train_acc_knn)\n",
    "print(valid_acc_knn)\n",
    "print(test_acc_knn)\n",
    "print(roc_auc_score(y_test_knn, classifier.predict_proba(X_test_knn)[:,1]))\n"
   ]
  },
  {
   "cell_type": "code",
   "execution_count": 141,
   "id": "92142652",
   "metadata": {},
   "outputs": [
    {
     "name": "stdout",
     "output_type": "stream",
     "text": [
      "0.6501108647450111\n",
      "0.6370157819225251\n",
      "0.6363636363636364\n",
      "AUROC: \n",
      "0.6413444243839911\n",
      "Mean Absolute Error for X_test: 0.62 degrees.\n"
     ]
    }
   ],
   "source": [
    "from sklearn.naive_bayes import GaussianNB\n",
    "\n",
    "# Create and train the model\n",
    "nb_model = GaussianNB().fit(X_train.toarray(), y_train)\n",
    "\n",
    "# Predictions on training, validation, and test sets\n",
    "train_nb_pred = nb_model.predict(X_train.toarray())\n",
    "valid_nb_pred = nb_model.predict(X_valid.toarray())\n",
    "test_nb_pred = nb_model.predict(X_test.toarray())\n",
    "\n",
    "# Calculate accuracies\n",
    "train_nb_acc = np.mean(y_train == train_nb_pred)\n",
    "valid_nb_acc = np.mean(y_valid == valid_nb_pred)\n",
    "test_nb_acc = np.mean(y_test == test_nb_pred)\n",
    "\n",
    "# AUROC calculation\n",
    "auroc_nb = roc_auc_score(y_test, test_nb_pred)\n",
    "\n",
    "# Print results\n",
    "print(train_nb_acc)\n",
    "print(valid_nb_acc)\n",
    "print(test_nb_acc)\n",
    "print(\"AUROC: \")\n",
    "print(auroc_nb)\n",
    "\n",
    "# Calculate the absolute errors\n",
    "errors = abs(test_nb_acc - y_test)\n",
    "# Print out the mean absolute error (mae)\n",
    "print('Mean Absolute Error for X_test:', round(np.mean(errors), 2), 'degrees.')"
   ]
  },
  {
   "cell_type": "code",
   "execution_count": 143,
   "id": "40f661cb",
   "metadata": {},
   "outputs": [
    {
     "name": "stdout",
     "output_type": "stream",
     "text": [
      "Collecting xgboost\n",
      "  Obtaining dependency information for xgboost from https://files.pythonhosted.org/packages/45/6d/8c1d2570a52db6263d855c3ee3daf8f4bdf4a365cd6610772d6fce5fd904/xgboost-2.0.3-py3-none-macosx_10_15_x86_64.macosx_11_0_x86_64.macosx_12_0_x86_64.whl.metadata\n",
      "  Downloading xgboost-2.0.3-py3-none-macosx_10_15_x86_64.macosx_11_0_x86_64.macosx_12_0_x86_64.whl.metadata (2.0 kB)\n",
      "Requirement already satisfied: numpy in /Users/kobo/anaconda3/lib/python3.11/site-packages (from xgboost) (1.24.3)\n",
      "Requirement already satisfied: scipy in /Users/kobo/anaconda3/lib/python3.11/site-packages (from xgboost) (1.11.1)\n",
      "Downloading xgboost-2.0.3-py3-none-macosx_10_15_x86_64.macosx_11_0_x86_64.macosx_12_0_x86_64.whl (2.2 MB)\n",
      "\u001b[2K   \u001b[90m━━━━━━━━━━━━━━━━━━━━━━━━━━━━━━━━━━━━━━━━\u001b[0m \u001b[32m2.2/2.2 MB\u001b[0m \u001b[31m5.7 MB/s\u001b[0m eta \u001b[36m0:00:00\u001b[0m00:01\u001b[0m00:01\u001b[0m\n",
      "\u001b[?25hInstalling collected packages: xgboost\n",
      "Successfully installed xgboost-2.0.3\n",
      "Note: you may need to restart the kernel to use updated packages.\n"
     ]
    }
   ],
   "source": [
    "pip install xgboost"
   ]
  },
  {
   "cell_type": "code",
   "execution_count": 145,
   "id": "77f261fd",
   "metadata": {},
   "outputs": [
    {
     "name": "stderr",
     "output_type": "stream",
     "text": [
      "/Users/kobo/anaconda3/lib/python3.11/site-packages/xgboost/sklearn.py:889: UserWarning: `early_stopping_rounds` in `fit` method is deprecated for better compatibility with scikit-learn, use `early_stopping_rounds` in constructor or`set_params` instead.\n",
      "  warnings.warn(\n"
     ]
    },
    {
     "name": "stdout",
     "output_type": "stream",
     "text": [
      "0.72039911308204\n",
      "0.6244945871918612\n",
      "0.6216251467327507\n",
      "AUROC: \n",
      "0.6836900013940316\n",
      "Mean Absolute Error for X_test: 0.38 degrees.\n"
     ]
    }
   ],
   "source": [
    "from xgboost import XGBClassifier\n",
    "\n",
    "xgb_model = XGBClassifier(max_depth=3, n_estimators=1000).fit(X_train, y_train, eval_set=[(X_valid, y_valid)], early_stopping_rounds =5, verbose = False)\n",
    "train_xgb_pred = xgb_model.predict(X_train)\n",
    "valid_xgb_pred = xgb_model.predict(X_valid)\n",
    "test_xgb_pred = xgb_model.predict(X_test)\n",
    "\n",
    "train_xgb_acc = np.mean(y_train == train_xgb_pred)\n",
    "valid_xgb_acc = np.mean(y_valid == valid_xgb_pred)\n",
    "test_xgb_acc = np.mean(y_test == test_xgb_pred)\n",
    "\n",
    "auroc = roc_auc_score(y_test, test_xgb_pred)\n",
    "        \n",
    "print(train_xgb_acc)\n",
    "print(valid_xgb_acc)\n",
    "print(test_xgb_acc)\n",
    "print(\"AUROC: \")\n",
    "print(roc_auc_score(y_test, test_xgb_pred))\n",
    "\n",
    "# Calculate the absolute errors\n",
    "errors = abs(test_xgb_pred - y_test)\n",
    "# Print out the mean absolute error (mae)\n",
    "print('Mean Absolute Error for X_test:', round(np.mean(errors), 2), 'degrees.')"
   ]
  },
  {
   "cell_type": "code",
   "execution_count": null,
   "id": "14331c4b",
   "metadata": {},
   "outputs": [],
   "source": []
  },
  {
   "cell_type": "code",
   "execution_count": 67,
   "id": "dc83df41",
   "metadata": {},
   "outputs": [],
   "source": [
    "import matplotlib.pyplot as plt\n",
    "import pandas as pd\n",
    "from sklearn import datasets, neighbors\n",
    "from mlxtend.plotting import plot_decision_regions"
   ]
  },
  {
   "cell_type": "code",
   "execution_count": 76,
   "id": "6ea59701",
   "metadata": {},
   "outputs": [
    {
     "ename": "ValueError",
     "evalue": "could not convert string to float: 'NEWBORN'",
     "output_type": "error",
     "traceback": [
      "\u001b[0;31m---------------------------------------------------------------------------\u001b[0m",
      "\u001b[0;31mValueError\u001b[0m                                Traceback (most recent call last)",
      "Cell \u001b[0;32mIn[76], line 18\u001b[0m\n\u001b[1;32m     15\u001b[0m     plt\u001b[38;5;241m.\u001b[39mshow()\n\u001b[1;32m     17\u001b[0m \u001b[38;5;66;03m# plot correlation & densities\u001b[39;00m\n\u001b[0;32m---> 18\u001b[0m plot_correlation(merged)\n",
      "Cell \u001b[0;32mIn[76], line 14\u001b[0m, in \u001b[0;36mplot_correlation\u001b[0;34m(data)\u001b[0m\n\u001b[1;32m     12\u001b[0m rcParams[\u001b[38;5;124m'\u001b[39m\u001b[38;5;124mfigure.figsize\u001b[39m\u001b[38;5;124m'\u001b[39m] \u001b[38;5;241m=\u001b[39m \u001b[38;5;241m15\u001b[39m, \u001b[38;5;241m20\u001b[39m\n\u001b[1;32m     13\u001b[0m fig \u001b[38;5;241m=\u001b[39m plt\u001b[38;5;241m.\u001b[39mfigure()\n\u001b[0;32m---> 14\u001b[0m sns\u001b[38;5;241m.\u001b[39mheatmap(data\u001b[38;5;241m.\u001b[39mcorr(), annot\u001b[38;5;241m=\u001b[39m\u001b[38;5;28;01mTrue\u001b[39;00m, fmt\u001b[38;5;241m=\u001b[39m\u001b[38;5;124m\"\u001b[39m\u001b[38;5;124m.2f\u001b[39m\u001b[38;5;124m\"\u001b[39m)\n\u001b[1;32m     15\u001b[0m plt\u001b[38;5;241m.\u001b[39mshow()\n",
      "File \u001b[0;32m~/anaconda3/lib/python3.11/site-packages/pandas/core/frame.py:10054\u001b[0m, in \u001b[0;36mDataFrame.corr\u001b[0;34m(self, method, min_periods, numeric_only)\u001b[0m\n\u001b[1;32m  10052\u001b[0m cols \u001b[38;5;241m=\u001b[39m data\u001b[38;5;241m.\u001b[39mcolumns\n\u001b[1;32m  10053\u001b[0m idx \u001b[38;5;241m=\u001b[39m cols\u001b[38;5;241m.\u001b[39mcopy()\n\u001b[0;32m> 10054\u001b[0m mat \u001b[38;5;241m=\u001b[39m data\u001b[38;5;241m.\u001b[39mto_numpy(dtype\u001b[38;5;241m=\u001b[39m\u001b[38;5;28mfloat\u001b[39m, na_value\u001b[38;5;241m=\u001b[39mnp\u001b[38;5;241m.\u001b[39mnan, copy\u001b[38;5;241m=\u001b[39m\u001b[38;5;28;01mFalse\u001b[39;00m)\n\u001b[1;32m  10056\u001b[0m \u001b[38;5;28;01mif\u001b[39;00m method \u001b[38;5;241m==\u001b[39m \u001b[38;5;124m\"\u001b[39m\u001b[38;5;124mpearson\u001b[39m\u001b[38;5;124m\"\u001b[39m:\n\u001b[1;32m  10057\u001b[0m     correl \u001b[38;5;241m=\u001b[39m libalgos\u001b[38;5;241m.\u001b[39mnancorr(mat, minp\u001b[38;5;241m=\u001b[39mmin_periods)\n",
      "File \u001b[0;32m~/anaconda3/lib/python3.11/site-packages/pandas/core/frame.py:1838\u001b[0m, in \u001b[0;36mDataFrame.to_numpy\u001b[0;34m(self, dtype, copy, na_value)\u001b[0m\n\u001b[1;32m   1836\u001b[0m \u001b[38;5;28;01mif\u001b[39;00m dtype \u001b[38;5;129;01mis\u001b[39;00m \u001b[38;5;129;01mnot\u001b[39;00m \u001b[38;5;28;01mNone\u001b[39;00m:\n\u001b[1;32m   1837\u001b[0m     dtype \u001b[38;5;241m=\u001b[39m np\u001b[38;5;241m.\u001b[39mdtype(dtype)\n\u001b[0;32m-> 1838\u001b[0m result \u001b[38;5;241m=\u001b[39m \u001b[38;5;28mself\u001b[39m\u001b[38;5;241m.\u001b[39m_mgr\u001b[38;5;241m.\u001b[39mas_array(dtype\u001b[38;5;241m=\u001b[39mdtype, copy\u001b[38;5;241m=\u001b[39mcopy, na_value\u001b[38;5;241m=\u001b[39mna_value)\n\u001b[1;32m   1839\u001b[0m \u001b[38;5;28;01mif\u001b[39;00m result\u001b[38;5;241m.\u001b[39mdtype \u001b[38;5;129;01mis\u001b[39;00m \u001b[38;5;129;01mnot\u001b[39;00m dtype:\n\u001b[1;32m   1840\u001b[0m     result \u001b[38;5;241m=\u001b[39m np\u001b[38;5;241m.\u001b[39marray(result, dtype\u001b[38;5;241m=\u001b[39mdtype, copy\u001b[38;5;241m=\u001b[39m\u001b[38;5;28;01mFalse\u001b[39;00m)\n",
      "File \u001b[0;32m~/anaconda3/lib/python3.11/site-packages/pandas/core/internals/managers.py:1732\u001b[0m, in \u001b[0;36mBlockManager.as_array\u001b[0;34m(self, dtype, copy, na_value)\u001b[0m\n\u001b[1;32m   1730\u001b[0m         arr\u001b[38;5;241m.\u001b[39mflags\u001b[38;5;241m.\u001b[39mwriteable \u001b[38;5;241m=\u001b[39m \u001b[38;5;28;01mFalse\u001b[39;00m\n\u001b[1;32m   1731\u001b[0m \u001b[38;5;28;01melse\u001b[39;00m:\n\u001b[0;32m-> 1732\u001b[0m     arr \u001b[38;5;241m=\u001b[39m \u001b[38;5;28mself\u001b[39m\u001b[38;5;241m.\u001b[39m_interleave(dtype\u001b[38;5;241m=\u001b[39mdtype, na_value\u001b[38;5;241m=\u001b[39mna_value)\n\u001b[1;32m   1733\u001b[0m     \u001b[38;5;66;03m# The underlying data was copied within _interleave, so no need\u001b[39;00m\n\u001b[1;32m   1734\u001b[0m     \u001b[38;5;66;03m# to further copy if copy=True or setting na_value\u001b[39;00m\n\u001b[1;32m   1736\u001b[0m \u001b[38;5;28;01mif\u001b[39;00m na_value \u001b[38;5;129;01mis\u001b[39;00m \u001b[38;5;129;01mnot\u001b[39;00m lib\u001b[38;5;241m.\u001b[39mno_default:\n",
      "File \u001b[0;32m~/anaconda3/lib/python3.11/site-packages/pandas/core/internals/managers.py:1794\u001b[0m, in \u001b[0;36mBlockManager._interleave\u001b[0;34m(self, dtype, na_value)\u001b[0m\n\u001b[1;32m   1792\u001b[0m     \u001b[38;5;28;01melse\u001b[39;00m:\n\u001b[1;32m   1793\u001b[0m         arr \u001b[38;5;241m=\u001b[39m blk\u001b[38;5;241m.\u001b[39mget_values(dtype)\n\u001b[0;32m-> 1794\u001b[0m     result[rl\u001b[38;5;241m.\u001b[39mindexer] \u001b[38;5;241m=\u001b[39m arr\n\u001b[1;32m   1795\u001b[0m     itemmask[rl\u001b[38;5;241m.\u001b[39mindexer] \u001b[38;5;241m=\u001b[39m \u001b[38;5;241m1\u001b[39m\n\u001b[1;32m   1797\u001b[0m \u001b[38;5;28;01mif\u001b[39;00m \u001b[38;5;129;01mnot\u001b[39;00m itemmask\u001b[38;5;241m.\u001b[39mall():\n",
      "\u001b[0;31mValueError\u001b[0m: could not convert string to float: 'NEWBORN'"
     ]
    },
    {
     "data": {
      "text/plain": [
       "<Figure size 1500x2000 with 0 Axes>"
      ]
     },
     "metadata": {},
     "output_type": "display_data"
    }
   ],
   "source": [
    "import pandas as pd\n",
    "import seaborn as sns\n",
    "from pylab import rcParams\n",
    "import matplotlib.pyplot as plt\n",
    "\n",
    "\n",
    "def plot_correlation(data):\n",
    "    '''\n",
    "    plot correlation's matrix to explore dependency between features \n",
    "    '''\n",
    "    # init figure size\n",
    "    rcParams['figure.figsize'] = 15, 20\n",
    "    fig = plt.figure()\n",
    "    sns.heatmap(data.corr(), annot=True, fmt=\".2f\")\n",
    "    plt.show()\n",
    "\n",
    "# plot correlation & densities\n",
    "plot_correlation(merged)"
   ]
  },
  {
   "cell_type": "code",
   "execution_count": 73,
   "id": "5a0285ef",
   "metadata": {},
   "outputs": [
    {
     "ename": "KeyError",
     "evalue": "\"None of [Index(['X', 'Y'], dtype='object')] are in the [columns]\"",
     "output_type": "error",
     "traceback": [
      "\u001b[0;31m---------------------------------------------------------------------------\u001b[0m",
      "\u001b[0;31mKeyError\u001b[0m                                  Traceback (most recent call last)",
      "Cell \u001b[0;32mIn[73], line 2\u001b[0m\n\u001b[1;32m      1\u001b[0m \u001b[38;5;28;01mfor\u001b[39;00m i \u001b[38;5;129;01min\u001b[39;00m [\u001b[38;5;241m1\u001b[39m,\u001b[38;5;241m5\u001b[39m,\u001b[38;5;241m20\u001b[39m,\u001b[38;5;241m30\u001b[39m,\u001b[38;5;241m40\u001b[39m,\u001b[38;5;241m80\u001b[39m]:\n\u001b[0;32m----> 2\u001b[0m     knn_comparison(merged, i)\n",
      "Cell \u001b[0;32mIn[72], line 2\u001b[0m, in \u001b[0;36mknn_comparison\u001b[0;34m(data, k)\u001b[0m\n\u001b[1;32m      1\u001b[0m \u001b[38;5;28;01mdef\u001b[39;00m \u001b[38;5;21mknn_comparison\u001b[39m(data, k):\n\u001b[0;32m----> 2\u001b[0m  x \u001b[38;5;241m=\u001b[39m data[[\u001b[38;5;124m'\u001b[39m\u001b[38;5;124mX\u001b[39m\u001b[38;5;124m'\u001b[39m,\u001b[38;5;124m'\u001b[39m\u001b[38;5;124mY\u001b[39m\u001b[38;5;124m'\u001b[39m]]\u001b[38;5;241m.\u001b[39mvalues\n\u001b[1;32m      3\u001b[0m  y \u001b[38;5;241m=\u001b[39m data[\u001b[38;5;124m'\u001b[39m\u001b[38;5;124mclass\u001b[39m\u001b[38;5;124m'\u001b[39m]\u001b[38;5;241m.\u001b[39mastype(\u001b[38;5;28mint\u001b[39m)\u001b[38;5;241m.\u001b[39mvalues\n\u001b[1;32m      4\u001b[0m  clf \u001b[38;5;241m=\u001b[39m neighbors\u001b[38;5;241m.\u001b[39mKNeighborsClassifier(n_neighbors\u001b[38;5;241m=\u001b[39mk)\n",
      "File \u001b[0;32m~/anaconda3/lib/python3.11/site-packages/pandas/core/frame.py:3767\u001b[0m, in \u001b[0;36mDataFrame.__getitem__\u001b[0;34m(self, key)\u001b[0m\n\u001b[1;32m   3765\u001b[0m     \u001b[38;5;28;01mif\u001b[39;00m is_iterator(key):\n\u001b[1;32m   3766\u001b[0m         key \u001b[38;5;241m=\u001b[39m \u001b[38;5;28mlist\u001b[39m(key)\n\u001b[0;32m-> 3767\u001b[0m     indexer \u001b[38;5;241m=\u001b[39m \u001b[38;5;28mself\u001b[39m\u001b[38;5;241m.\u001b[39mcolumns\u001b[38;5;241m.\u001b[39m_get_indexer_strict(key, \u001b[38;5;124m\"\u001b[39m\u001b[38;5;124mcolumns\u001b[39m\u001b[38;5;124m\"\u001b[39m)[\u001b[38;5;241m1\u001b[39m]\n\u001b[1;32m   3769\u001b[0m \u001b[38;5;66;03m# take() does not accept boolean indexers\u001b[39;00m\n\u001b[1;32m   3770\u001b[0m \u001b[38;5;28;01mif\u001b[39;00m \u001b[38;5;28mgetattr\u001b[39m(indexer, \u001b[38;5;124m\"\u001b[39m\u001b[38;5;124mdtype\u001b[39m\u001b[38;5;124m\"\u001b[39m, \u001b[38;5;28;01mNone\u001b[39;00m) \u001b[38;5;241m==\u001b[39m \u001b[38;5;28mbool\u001b[39m:\n",
      "File \u001b[0;32m~/anaconda3/lib/python3.11/site-packages/pandas/core/indexes/base.py:5877\u001b[0m, in \u001b[0;36mIndex._get_indexer_strict\u001b[0;34m(self, key, axis_name)\u001b[0m\n\u001b[1;32m   5874\u001b[0m \u001b[38;5;28;01melse\u001b[39;00m:\n\u001b[1;32m   5875\u001b[0m     keyarr, indexer, new_indexer \u001b[38;5;241m=\u001b[39m \u001b[38;5;28mself\u001b[39m\u001b[38;5;241m.\u001b[39m_reindex_non_unique(keyarr)\n\u001b[0;32m-> 5877\u001b[0m \u001b[38;5;28mself\u001b[39m\u001b[38;5;241m.\u001b[39m_raise_if_missing(keyarr, indexer, axis_name)\n\u001b[1;32m   5879\u001b[0m keyarr \u001b[38;5;241m=\u001b[39m \u001b[38;5;28mself\u001b[39m\u001b[38;5;241m.\u001b[39mtake(indexer)\n\u001b[1;32m   5880\u001b[0m \u001b[38;5;28;01mif\u001b[39;00m \u001b[38;5;28misinstance\u001b[39m(key, Index):\n\u001b[1;32m   5881\u001b[0m     \u001b[38;5;66;03m# GH 42790 - Preserve name from an Index\u001b[39;00m\n",
      "File \u001b[0;32m~/anaconda3/lib/python3.11/site-packages/pandas/core/indexes/base.py:5938\u001b[0m, in \u001b[0;36mIndex._raise_if_missing\u001b[0;34m(self, key, indexer, axis_name)\u001b[0m\n\u001b[1;32m   5936\u001b[0m     \u001b[38;5;28;01mif\u001b[39;00m use_interval_msg:\n\u001b[1;32m   5937\u001b[0m         key \u001b[38;5;241m=\u001b[39m \u001b[38;5;28mlist\u001b[39m(key)\n\u001b[0;32m-> 5938\u001b[0m     \u001b[38;5;28;01mraise\u001b[39;00m \u001b[38;5;167;01mKeyError\u001b[39;00m(\u001b[38;5;124mf\u001b[39m\u001b[38;5;124m\"\u001b[39m\u001b[38;5;124mNone of [\u001b[39m\u001b[38;5;132;01m{\u001b[39;00mkey\u001b[38;5;132;01m}\u001b[39;00m\u001b[38;5;124m] are in the [\u001b[39m\u001b[38;5;132;01m{\u001b[39;00maxis_name\u001b[38;5;132;01m}\u001b[39;00m\u001b[38;5;124m]\u001b[39m\u001b[38;5;124m\"\u001b[39m)\n\u001b[1;32m   5940\u001b[0m not_found \u001b[38;5;241m=\u001b[39m \u001b[38;5;28mlist\u001b[39m(ensure_index(key)[missing_mask\u001b[38;5;241m.\u001b[39mnonzero()[\u001b[38;5;241m0\u001b[39m]]\u001b[38;5;241m.\u001b[39munique())\n\u001b[1;32m   5941\u001b[0m \u001b[38;5;28;01mraise\u001b[39;00m \u001b[38;5;167;01mKeyError\u001b[39;00m(\u001b[38;5;124mf\u001b[39m\u001b[38;5;124m\"\u001b[39m\u001b[38;5;132;01m{\u001b[39;00mnot_found\u001b[38;5;132;01m}\u001b[39;00m\u001b[38;5;124m not in index\u001b[39m\u001b[38;5;124m\"\u001b[39m)\n",
      "\u001b[0;31mKeyError\u001b[0m: \"None of [Index(['X', 'Y'], dtype='object')] are in the [columns]\""
     ]
    }
   ],
   "source": [
    "for i in [1,5,20,30,40,80]:\n",
    "    knn_comparison(merged, i)"
   ]
  },
  {
   "cell_type": "code",
   "execution_count": null,
   "id": "476438c8",
   "metadata": {},
   "outputs": [],
   "source": []
  },
  {
   "cell_type": "code",
   "execution_count": 64,
   "id": "a9ce5c42",
   "metadata": {},
   "outputs": [
    {
     "ename": "NotFittedError",
     "evalue": "This StandardScaler instance is not fitted yet. Call 'fit' with appropriate arguments before using this estimator.",
     "output_type": "error",
     "traceback": [
      "\u001b[0;31m---------------------------------------------------------------------------\u001b[0m",
      "\u001b[0;31mNotFittedError\u001b[0m                            Traceback (most recent call last)",
      "Cell \u001b[0;32mIn[64], line 5\u001b[0m\n\u001b[1;32m      3\u001b[0m sc \u001b[38;5;241m=\u001b[39m StandardScaler()\n\u001b[1;32m      4\u001b[0m classifier\u001b[38;5;241m.\u001b[39mfit(X_test, y_test)\n\u001b[0;32m----> 5\u001b[0m X_set, y_set \u001b[38;5;241m=\u001b[39m sc\u001b[38;5;241m.\u001b[39minverse_transform(X_test), y_test\n\u001b[1;32m      6\u001b[0m X1, X2 \u001b[38;5;241m=\u001b[39m np\u001b[38;5;241m.\u001b[39mmeshgrid(np\u001b[38;5;241m.\u001b[39marange(start \u001b[38;5;241m=\u001b[39m X_set[:, \u001b[38;5;241m0\u001b[39m]\u001b[38;5;241m.\u001b[39mmin() \u001b[38;5;241m-\u001b[39m \u001b[38;5;241m10\u001b[39m, stop \u001b[38;5;241m=\u001b[39m X_set[:, \u001b[38;5;241m0\u001b[39m]\u001b[38;5;241m.\u001b[39mmax() \u001b[38;5;241m+\u001b[39m \u001b[38;5;241m10\u001b[39m, step \u001b[38;5;241m=\u001b[39m \u001b[38;5;241m1\u001b[39m),\n\u001b[1;32m      7\u001b[0m                      np\u001b[38;5;241m.\u001b[39marange(start \u001b[38;5;241m=\u001b[39m X_set[:, \u001b[38;5;241m1\u001b[39m]\u001b[38;5;241m.\u001b[39mmin() \u001b[38;5;241m-\u001b[39m \u001b[38;5;241m1000\u001b[39m, stop \u001b[38;5;241m=\u001b[39m X_set[:, \u001b[38;5;241m1\u001b[39m]\u001b[38;5;241m.\u001b[39mmax() \u001b[38;5;241m+\u001b[39m \u001b[38;5;241m1000\u001b[39m, step \u001b[38;5;241m=\u001b[39m \u001b[38;5;241m1\u001b[39m))\n\u001b[1;32m      8\u001b[0m plt\u001b[38;5;241m.\u001b[39mcontourf(X1, X2, classifier\u001b[38;5;241m.\u001b[39mpredict(sc\u001b[38;5;241m.\u001b[39mtransform(np\u001b[38;5;241m.\u001b[39marray([X1\u001b[38;5;241m.\u001b[39mravel(), X2\u001b[38;5;241m.\u001b[39mravel()])\u001b[38;5;241m.\u001b[39mT))\u001b[38;5;241m.\u001b[39mreshape(X1\u001b[38;5;241m.\u001b[39mshape),\n\u001b[1;32m      9\u001b[0m              alpha \u001b[38;5;241m=\u001b[39m \u001b[38;5;241m0.75\u001b[39m, cmap \u001b[38;5;241m=\u001b[39m ListedColormap((\u001b[38;5;124m'\u001b[39m\u001b[38;5;124mred\u001b[39m\u001b[38;5;124m'\u001b[39m, \u001b[38;5;124m'\u001b[39m\u001b[38;5;124mgreen\u001b[39m\u001b[38;5;124m'\u001b[39m)))\n",
      "File \u001b[0;32m~/anaconda3/lib/python3.11/site-packages/sklearn/preprocessing/_data.py:1043\u001b[0m, in \u001b[0;36mStandardScaler.inverse_transform\u001b[0;34m(self, X, copy)\u001b[0m\n\u001b[1;32m   1028\u001b[0m \u001b[38;5;28;01mdef\u001b[39;00m \u001b[38;5;21minverse_transform\u001b[39m(\u001b[38;5;28mself\u001b[39m, X, copy\u001b[38;5;241m=\u001b[39m\u001b[38;5;28;01mNone\u001b[39;00m):\n\u001b[1;32m   1029\u001b[0m \u001b[38;5;250m    \u001b[39m\u001b[38;5;124;03m\"\"\"Scale back the data to the original representation.\u001b[39;00m\n\u001b[1;32m   1030\u001b[0m \n\u001b[1;32m   1031\u001b[0m \u001b[38;5;124;03m    Parameters\u001b[39;00m\n\u001b[0;32m   (...)\u001b[0m\n\u001b[1;32m   1041\u001b[0m \u001b[38;5;124;03m        Transformed array.\u001b[39;00m\n\u001b[1;32m   1042\u001b[0m \u001b[38;5;124;03m    \"\"\"\u001b[39;00m\n\u001b[0;32m-> 1043\u001b[0m     check_is_fitted(\u001b[38;5;28mself\u001b[39m)\n\u001b[1;32m   1045\u001b[0m     copy \u001b[38;5;241m=\u001b[39m copy \u001b[38;5;28;01mif\u001b[39;00m copy \u001b[38;5;129;01mis\u001b[39;00m \u001b[38;5;129;01mnot\u001b[39;00m \u001b[38;5;28;01mNone\u001b[39;00m \u001b[38;5;28;01melse\u001b[39;00m \u001b[38;5;28mself\u001b[39m\u001b[38;5;241m.\u001b[39mcopy\n\u001b[1;32m   1046\u001b[0m     X \u001b[38;5;241m=\u001b[39m check_array(\n\u001b[1;32m   1047\u001b[0m         X,\n\u001b[1;32m   1048\u001b[0m         accept_sparse\u001b[38;5;241m=\u001b[39m\u001b[38;5;124m\"\u001b[39m\u001b[38;5;124mcsr\u001b[39m\u001b[38;5;124m\"\u001b[39m,\n\u001b[0;32m   (...)\u001b[0m\n\u001b[1;32m   1051\u001b[0m         force_all_finite\u001b[38;5;241m=\u001b[39m\u001b[38;5;124m\"\u001b[39m\u001b[38;5;124mallow-nan\u001b[39m\u001b[38;5;124m\"\u001b[39m,\n\u001b[1;32m   1052\u001b[0m     )\n",
      "File \u001b[0;32m~/anaconda3/lib/python3.11/site-packages/sklearn/utils/validation.py:1462\u001b[0m, in \u001b[0;36mcheck_is_fitted\u001b[0;34m(estimator, attributes, msg, all_or_any)\u001b[0m\n\u001b[1;32m   1459\u001b[0m     \u001b[38;5;28;01mraise\u001b[39;00m \u001b[38;5;167;01mTypeError\u001b[39;00m(\u001b[38;5;124m\"\u001b[39m\u001b[38;5;132;01m%s\u001b[39;00m\u001b[38;5;124m is not an estimator instance.\u001b[39m\u001b[38;5;124m\"\u001b[39m \u001b[38;5;241m%\u001b[39m (estimator))\n\u001b[1;32m   1461\u001b[0m \u001b[38;5;28;01mif\u001b[39;00m \u001b[38;5;129;01mnot\u001b[39;00m _is_fitted(estimator, attributes, all_or_any):\n\u001b[0;32m-> 1462\u001b[0m     \u001b[38;5;28;01mraise\u001b[39;00m NotFittedError(msg \u001b[38;5;241m%\u001b[39m {\u001b[38;5;124m\"\u001b[39m\u001b[38;5;124mname\u001b[39m\u001b[38;5;124m\"\u001b[39m: \u001b[38;5;28mtype\u001b[39m(estimator)\u001b[38;5;241m.\u001b[39m\u001b[38;5;18m__name__\u001b[39m})\n",
      "\u001b[0;31mNotFittedError\u001b[0m: This StandardScaler instance is not fitted yet. Call 'fit' with appropriate arguments before using this estimator."
     ]
    }
   ],
   "source": [
    "# from matplotlib.colors import ListedColormap\n",
    "# from sklearn.preprocessing import StandardScaler\n",
    "# sc = StandardScaler()\n",
    "# classifier.fit(X_test, y_test)\n",
    "# X_set, y_set = sc.inverse_transform(X_test), y_test\n",
    "# X1, X2 = np.meshgrid(np.arange(start = X_set[:, 0].min() - 10, stop = X_set[:, 0].max() + 10, step = 1),\n",
    "#                      np.arange(start = X_set[:, 1].min() - 1000, stop = X_set[:, 1].max() + 1000, step = 1))\n",
    "# plt.contourf(X1, X2, classifier.predict(sc.transform(np.array([X1.ravel(), X2.ravel()]).T)).reshape(X1.shape),\n",
    "#              alpha = 0.75, cmap = ListedColormap(('red', 'green')))\n",
    "# plt.xlim(X1.min(), X1.max())\n",
    "# plt.ylim(X2.min(), X2.max())\n",
    "# for i, j in enumerate(np.unique(y_set)):\n",
    "#     plt.scatter(X_set[y_set == j, 0], X_set[y_set == j, 1], c = ListedColormap(('red', 'green'))(i), label = j)\n",
    "# plt.title('K-NN (Test set)')\n",
    "# plt.xlabel('Age')\n",
    "# plt.ylabel('Estimated Salary')\n",
    "# plt.legend()\n",
    "# plt.show()"
   ]
  },
  {
   "cell_type": "code",
   "execution_count": 52,
   "id": "cf35d59f",
   "metadata": {},
   "outputs": [],
   "source": [
    "\n",
    "# from math import sqrt\n",
    "# class KNN():\n",
    "#   def __init__(self,k):\n",
    "#     self.k=k\n",
    "#     print(self.k)\n",
    "#   def fit(self,X_train,y_train):\n",
    "#     self.x_train=X_train\n",
    "#     self.y_train=y_train\n",
    "#   def calculate_euclidean(self,sample1,sample2):\n",
    "#     distance=0.0\n",
    "#     for i in range(len(sample1)):\n",
    "#       distance+=(sample1[i]-sample2[i])**2 #Euclidean Distance = sqrt(sum i to N (x1_i – x2_i)^2)\n",
    "#     return sqrt(distance)\n",
    "#   def nearest_neighbors(self,test_sample):\n",
    "#     distances=[]#calculate distances from a test sample to every sample in a training set\n",
    "#     for i in range(len(self.x_train)):\n",
    "#       distances.append((self.y_train[i],self.calculate_euclidean(self.x_train[i],test_sample)))\n",
    "#     distances.sort(key=lambda x:x[1])#sort in ascending order, based on a distance value\n",
    "#     neighbors=[]\n",
    "#     for i in range(self.k): #get first k samples\n",
    "#       neighbors.append(distances[i][0])\n",
    "#     return neighbors\n",
    "#   def predict(self,test_set):\n",
    "#     predictions=[]\n",
    "#     for test_sample in test_set:\n",
    "#       neighbors=self.nearest_neighbors(test_sample)\n",
    "#       labels=[sample for sample in neighbors]\n",
    "#       prediction=max(labels,key=labels.count)\n",
    "#       predictions.append(prediction)\n",
    "#     return predictions\n"
   ]
  },
  {
   "cell_type": "code",
   "execution_count": 51,
   "id": "9e46bd83",
   "metadata": {},
   "outputs": [
    {
     "ename": "ValueError",
     "evalue": "could not convert string to float: 'ROW_ID'",
     "output_type": "error",
     "traceback": [
      "\u001b[0;31m---------------------------------------------------------------------------\u001b[0m",
      "\u001b[0;31mValueError\u001b[0m                                Traceback (most recent call last)",
      "Cell \u001b[0;32mIn[51], line 2\u001b[0m\n\u001b[1;32m      1\u001b[0m scaler \u001b[38;5;241m=\u001b[39m MinMaxScaler()\n\u001b[0;32m----> 2\u001b[0m scaled \u001b[38;5;241m=\u001b[39m scaler\u001b[38;5;241m.\u001b[39mfit_transform(feature_names)\n\u001b[1;32m      4\u001b[0m x \u001b[38;5;241m=\u001b[39m scaled\n\u001b[1;32m      5\u001b[0m y \u001b[38;5;241m=\u001b[39m df\u001b[38;5;241m.\u001b[39miloc[:,\u001b[38;5;241m-\u001b[39m\u001b[38;5;241m1\u001b[39m]\u001b[38;5;241m.\u001b[39mvalues\n",
      "File \u001b[0;32m~/anaconda3/lib/python3.11/site-packages/sklearn/utils/_set_output.py:140\u001b[0m, in \u001b[0;36m_wrap_method_output.<locals>.wrapped\u001b[0;34m(self, X, *args, **kwargs)\u001b[0m\n\u001b[1;32m    138\u001b[0m \u001b[38;5;129m@wraps\u001b[39m(f)\n\u001b[1;32m    139\u001b[0m \u001b[38;5;28;01mdef\u001b[39;00m \u001b[38;5;21mwrapped\u001b[39m(\u001b[38;5;28mself\u001b[39m, X, \u001b[38;5;241m*\u001b[39margs, \u001b[38;5;241m*\u001b[39m\u001b[38;5;241m*\u001b[39mkwargs):\n\u001b[0;32m--> 140\u001b[0m     data_to_wrap \u001b[38;5;241m=\u001b[39m f(\u001b[38;5;28mself\u001b[39m, X, \u001b[38;5;241m*\u001b[39margs, \u001b[38;5;241m*\u001b[39m\u001b[38;5;241m*\u001b[39mkwargs)\n\u001b[1;32m    141\u001b[0m     \u001b[38;5;28;01mif\u001b[39;00m \u001b[38;5;28misinstance\u001b[39m(data_to_wrap, \u001b[38;5;28mtuple\u001b[39m):\n\u001b[1;32m    142\u001b[0m         \u001b[38;5;66;03m# only wrap the first output for cross decomposition\u001b[39;00m\n\u001b[1;32m    143\u001b[0m         return_tuple \u001b[38;5;241m=\u001b[39m (\n\u001b[1;32m    144\u001b[0m             _wrap_data_with_container(method, data_to_wrap[\u001b[38;5;241m0\u001b[39m], X, \u001b[38;5;28mself\u001b[39m),\n\u001b[1;32m    145\u001b[0m             \u001b[38;5;241m*\u001b[39mdata_to_wrap[\u001b[38;5;241m1\u001b[39m:],\n\u001b[1;32m    146\u001b[0m         )\n",
      "File \u001b[0;32m~/anaconda3/lib/python3.11/site-packages/sklearn/base.py:915\u001b[0m, in \u001b[0;36mTransformerMixin.fit_transform\u001b[0;34m(self, X, y, **fit_params)\u001b[0m\n\u001b[1;32m    911\u001b[0m \u001b[38;5;66;03m# non-optimized default implementation; override when a better\u001b[39;00m\n\u001b[1;32m    912\u001b[0m \u001b[38;5;66;03m# method is possible for a given clustering algorithm\u001b[39;00m\n\u001b[1;32m    913\u001b[0m \u001b[38;5;28;01mif\u001b[39;00m y \u001b[38;5;129;01mis\u001b[39;00m \u001b[38;5;28;01mNone\u001b[39;00m:\n\u001b[1;32m    914\u001b[0m     \u001b[38;5;66;03m# fit method of arity 1 (unsupervised transformation)\u001b[39;00m\n\u001b[0;32m--> 915\u001b[0m     \u001b[38;5;28;01mreturn\u001b[39;00m \u001b[38;5;28mself\u001b[39m\u001b[38;5;241m.\u001b[39mfit(X, \u001b[38;5;241m*\u001b[39m\u001b[38;5;241m*\u001b[39mfit_params)\u001b[38;5;241m.\u001b[39mtransform(X)\n\u001b[1;32m    916\u001b[0m \u001b[38;5;28;01melse\u001b[39;00m:\n\u001b[1;32m    917\u001b[0m     \u001b[38;5;66;03m# fit method of arity 2 (supervised transformation)\u001b[39;00m\n\u001b[1;32m    918\u001b[0m     \u001b[38;5;28;01mreturn\u001b[39;00m \u001b[38;5;28mself\u001b[39m\u001b[38;5;241m.\u001b[39mfit(X, y, \u001b[38;5;241m*\u001b[39m\u001b[38;5;241m*\u001b[39mfit_params)\u001b[38;5;241m.\u001b[39mtransform(X)\n",
      "File \u001b[0;32m~/anaconda3/lib/python3.11/site-packages/sklearn/preprocessing/_data.py:434\u001b[0m, in \u001b[0;36mMinMaxScaler.fit\u001b[0;34m(self, X, y)\u001b[0m\n\u001b[1;32m    432\u001b[0m \u001b[38;5;66;03m# Reset internal state before fitting\u001b[39;00m\n\u001b[1;32m    433\u001b[0m \u001b[38;5;28mself\u001b[39m\u001b[38;5;241m.\u001b[39m_reset()\n\u001b[0;32m--> 434\u001b[0m \u001b[38;5;28;01mreturn\u001b[39;00m \u001b[38;5;28mself\u001b[39m\u001b[38;5;241m.\u001b[39mpartial_fit(X, y)\n",
      "File \u001b[0;32m~/anaconda3/lib/python3.11/site-packages/sklearn/base.py:1151\u001b[0m, in \u001b[0;36m_fit_context.<locals>.decorator.<locals>.wrapper\u001b[0;34m(estimator, *args, **kwargs)\u001b[0m\n\u001b[1;32m   1144\u001b[0m     estimator\u001b[38;5;241m.\u001b[39m_validate_params()\n\u001b[1;32m   1146\u001b[0m \u001b[38;5;28;01mwith\u001b[39;00m config_context(\n\u001b[1;32m   1147\u001b[0m     skip_parameter_validation\u001b[38;5;241m=\u001b[39m(\n\u001b[1;32m   1148\u001b[0m         prefer_skip_nested_validation \u001b[38;5;129;01mor\u001b[39;00m global_skip_validation\n\u001b[1;32m   1149\u001b[0m     )\n\u001b[1;32m   1150\u001b[0m ):\n\u001b[0;32m-> 1151\u001b[0m     \u001b[38;5;28;01mreturn\u001b[39;00m fit_method(estimator, \u001b[38;5;241m*\u001b[39margs, \u001b[38;5;241m*\u001b[39m\u001b[38;5;241m*\u001b[39mkwargs)\n",
      "File \u001b[0;32m~/anaconda3/lib/python3.11/site-packages/sklearn/preprocessing/_data.py:472\u001b[0m, in \u001b[0;36mMinMaxScaler.partial_fit\u001b[0;34m(self, X, y)\u001b[0m\n\u001b[1;32m    466\u001b[0m     \u001b[38;5;28;01mraise\u001b[39;00m \u001b[38;5;167;01mTypeError\u001b[39;00m(\n\u001b[1;32m    467\u001b[0m         \u001b[38;5;124m\"\u001b[39m\u001b[38;5;124mMinMaxScaler does not support sparse input. \u001b[39m\u001b[38;5;124m\"\u001b[39m\n\u001b[1;32m    468\u001b[0m         \u001b[38;5;124m\"\u001b[39m\u001b[38;5;124mConsider using MaxAbsScaler instead.\u001b[39m\u001b[38;5;124m\"\u001b[39m\n\u001b[1;32m    469\u001b[0m     )\n\u001b[1;32m    471\u001b[0m first_pass \u001b[38;5;241m=\u001b[39m \u001b[38;5;129;01mnot\u001b[39;00m \u001b[38;5;28mhasattr\u001b[39m(\u001b[38;5;28mself\u001b[39m, \u001b[38;5;124m\"\u001b[39m\u001b[38;5;124mn_samples_seen_\u001b[39m\u001b[38;5;124m\"\u001b[39m)\n\u001b[0;32m--> 472\u001b[0m X \u001b[38;5;241m=\u001b[39m \u001b[38;5;28mself\u001b[39m\u001b[38;5;241m.\u001b[39m_validate_data(\n\u001b[1;32m    473\u001b[0m     X,\n\u001b[1;32m    474\u001b[0m     reset\u001b[38;5;241m=\u001b[39mfirst_pass,\n\u001b[1;32m    475\u001b[0m     dtype\u001b[38;5;241m=\u001b[39mFLOAT_DTYPES,\n\u001b[1;32m    476\u001b[0m     force_all_finite\u001b[38;5;241m=\u001b[39m\u001b[38;5;124m\"\u001b[39m\u001b[38;5;124mallow-nan\u001b[39m\u001b[38;5;124m\"\u001b[39m,\n\u001b[1;32m    477\u001b[0m )\n\u001b[1;32m    479\u001b[0m data_min \u001b[38;5;241m=\u001b[39m np\u001b[38;5;241m.\u001b[39mnanmin(X, axis\u001b[38;5;241m=\u001b[39m\u001b[38;5;241m0\u001b[39m)\n\u001b[1;32m    480\u001b[0m data_max \u001b[38;5;241m=\u001b[39m np\u001b[38;5;241m.\u001b[39mnanmax(X, axis\u001b[38;5;241m=\u001b[39m\u001b[38;5;241m0\u001b[39m)\n",
      "File \u001b[0;32m~/anaconda3/lib/python3.11/site-packages/sklearn/base.py:604\u001b[0m, in \u001b[0;36mBaseEstimator._validate_data\u001b[0;34m(self, X, y, reset, validate_separately, cast_to_ndarray, **check_params)\u001b[0m\n\u001b[1;32m    602\u001b[0m         out \u001b[38;5;241m=\u001b[39m X, y\n\u001b[1;32m    603\u001b[0m \u001b[38;5;28;01melif\u001b[39;00m \u001b[38;5;129;01mnot\u001b[39;00m no_val_X \u001b[38;5;129;01mand\u001b[39;00m no_val_y:\n\u001b[0;32m--> 604\u001b[0m     out \u001b[38;5;241m=\u001b[39m check_array(X, input_name\u001b[38;5;241m=\u001b[39m\u001b[38;5;124m\"\u001b[39m\u001b[38;5;124mX\u001b[39m\u001b[38;5;124m\"\u001b[39m, \u001b[38;5;241m*\u001b[39m\u001b[38;5;241m*\u001b[39mcheck_params)\n\u001b[1;32m    605\u001b[0m \u001b[38;5;28;01melif\u001b[39;00m no_val_X \u001b[38;5;129;01mand\u001b[39;00m \u001b[38;5;129;01mnot\u001b[39;00m no_val_y:\n\u001b[1;32m    606\u001b[0m     out \u001b[38;5;241m=\u001b[39m _check_y(y, \u001b[38;5;241m*\u001b[39m\u001b[38;5;241m*\u001b[39mcheck_params)\n",
      "File \u001b[0;32m~/anaconda3/lib/python3.11/site-packages/sklearn/utils/validation.py:917\u001b[0m, in \u001b[0;36mcheck_array\u001b[0;34m(array, accept_sparse, accept_large_sparse, dtype, order, copy, force_all_finite, ensure_2d, allow_nd, ensure_min_samples, ensure_min_features, estimator, input_name)\u001b[0m\n\u001b[1;32m    915\u001b[0m         array \u001b[38;5;241m=\u001b[39m xp\u001b[38;5;241m.\u001b[39mastype(array, dtype, copy\u001b[38;5;241m=\u001b[39m\u001b[38;5;28;01mFalse\u001b[39;00m)\n\u001b[1;32m    916\u001b[0m     \u001b[38;5;28;01melse\u001b[39;00m:\n\u001b[0;32m--> 917\u001b[0m         array \u001b[38;5;241m=\u001b[39m _asarray_with_order(array, order\u001b[38;5;241m=\u001b[39morder, dtype\u001b[38;5;241m=\u001b[39mdtype, xp\u001b[38;5;241m=\u001b[39mxp)\n\u001b[1;32m    918\u001b[0m \u001b[38;5;28;01mexcept\u001b[39;00m ComplexWarning \u001b[38;5;28;01mas\u001b[39;00m complex_warning:\n\u001b[1;32m    919\u001b[0m     \u001b[38;5;28;01mraise\u001b[39;00m \u001b[38;5;167;01mValueError\u001b[39;00m(\n\u001b[1;32m    920\u001b[0m         \u001b[38;5;124m\"\u001b[39m\u001b[38;5;124mComplex data not supported\u001b[39m\u001b[38;5;130;01m\\n\u001b[39;00m\u001b[38;5;132;01m{}\u001b[39;00m\u001b[38;5;130;01m\\n\u001b[39;00m\u001b[38;5;124m\"\u001b[39m\u001b[38;5;241m.\u001b[39mformat(array)\n\u001b[1;32m    921\u001b[0m     ) \u001b[38;5;28;01mfrom\u001b[39;00m \u001b[38;5;21;01mcomplex_warning\u001b[39;00m\n",
      "File \u001b[0;32m~/anaconda3/lib/python3.11/site-packages/sklearn/utils/_array_api.py:380\u001b[0m, in \u001b[0;36m_asarray_with_order\u001b[0;34m(array, dtype, order, copy, xp)\u001b[0m\n\u001b[1;32m    378\u001b[0m     array \u001b[38;5;241m=\u001b[39m numpy\u001b[38;5;241m.\u001b[39marray(array, order\u001b[38;5;241m=\u001b[39morder, dtype\u001b[38;5;241m=\u001b[39mdtype)\n\u001b[1;32m    379\u001b[0m \u001b[38;5;28;01melse\u001b[39;00m:\n\u001b[0;32m--> 380\u001b[0m     array \u001b[38;5;241m=\u001b[39m numpy\u001b[38;5;241m.\u001b[39masarray(array, order\u001b[38;5;241m=\u001b[39morder, dtype\u001b[38;5;241m=\u001b[39mdtype)\n\u001b[1;32m    382\u001b[0m \u001b[38;5;66;03m# At this point array is a NumPy ndarray. We convert it to an array\u001b[39;00m\n\u001b[1;32m    383\u001b[0m \u001b[38;5;66;03m# container that is consistent with the input's namespace.\u001b[39;00m\n\u001b[1;32m    384\u001b[0m \u001b[38;5;28;01mreturn\u001b[39;00m xp\u001b[38;5;241m.\u001b[39masarray(array)\n",
      "\u001b[0;31mValueError\u001b[0m: could not convert string to float: 'ROW_ID'"
     ]
    }
   ],
   "source": [
    "# scaler = MinMaxScaler()\n",
    "# scaled = scaler.fit_transform(feature_names)\n",
    "\n",
    "# x = scaled\n",
    "# y = df.iloc[:,-1].values\n",
    "\n",
    "# X_train, X_test, y_train, y_test = train_test_split(x, y, test_size = 0.2, random_state=42)\n",
    "# k=5\n",
    "# knn = NearestNeighbors(n_neighbors=k, algorithm='ball_tree').fit(X_train)\n",
    "# dist, indices = knn.kneighbors(X_test)\n",
    "# y_pred=[]\n",
    "# for i in range(len(X_test)):\n",
    "#     d={0:0,1:1}\n",
    "#     for j in range(k):\n",
    "#         d[y_train[indices[i][j]]]+=1\n",
    "#     Key_max = max(zip(d.values(), d.keys()))[1]  \n",
    "#     y_pred.append(Key_max)\n",
    "# y_pred= np.array(y_pred)\n",
    "# accuracy_score(y_test,y_pred)"
   ]
  },
  {
   "cell_type": "code",
   "execution_count": null,
   "id": "2f09f717",
   "metadata": {},
   "outputs": [],
   "source": []
  },
  {
   "cell_type": "code",
   "execution_count": null,
   "id": "03105fe7",
   "metadata": {},
   "outputs": [],
   "source": []
  },
  {
   "cell_type": "markdown",
   "id": "7101940f",
   "metadata": {},
   "source": [
    "LOGISTIC REGRESSION"
   ]
  },
  {
   "cell_type": "code",
   "execution_count": null,
   "id": "63833b15",
   "metadata": {},
   "outputs": [],
   "source": []
  },
  {
   "cell_type": "code",
   "execution_count": 26,
   "id": "89b24338",
   "metadata": {},
   "outputs": [],
   "source": [
    "from sklearn.linear_model import LogisticRegression\n",
    "clf=LogisticRegression(C = 0.0005, penalty = 'l2', random_state = 42)\n",
    "clf.fit(X_train, y_train)\n",
    "\n",
    "model = clf\n",
    "y_train_preds = model.predict_proba(X_train)[:,1]\n",
    "y_valid_preds = model.predict_proba(X_valid)[:,1]"
   ]
  },
  {
   "cell_type": "code",
   "execution_count": 27,
   "id": "f5631a6f",
   "metadata": {
    "scrolled": true
   },
   "outputs": [
    {
     "name": "stdout",
     "output_type": "stream",
     "text": [
      "0.7301552106430155\n",
      "0.7281564372103538\n",
      "0.7334388424146507\n"
     ]
    }
   ],
   "source": [
    "X_test = vect.transform(test_data['TEXT'].values)\n",
    "y_test = test_data['READMISSION']\n",
    "y_test_preds = model.predict_proba(X_test)[:,1]\n",
    "\n",
    "train_acc = np.mean(y_train == (y_train_preds > 0.5))\n",
    "valid_acc = np.mean(y_valid == (y_valid_preds > 0.5))\n",
    "test_acc = np.mean(y_test == (y_test_preds > 0.5))\n",
    "print(train_acc)\n",
    "print(valid_acc)\n",
    "print(test_acc)"
   ]
  },
  {
   "cell_type": "markdown",
   "id": "66670b20",
   "metadata": {},
   "source": [
    "TRYING TO MAKE THE MODEL BETTER (UP UNTIL NOW IS JUST USING 'TEXT' COLUMN)"
   ]
  },
  {
   "cell_type": "code",
   "execution_count": 70,
   "id": "3ff949a4",
   "metadata": {},
   "outputs": [
    {
     "name": "stdout",
     "output_type": "stream",
     "text": [
      "0.7319290465631929\n",
      "0.728382502543235\n",
      "0.7340040696359936\n"
     ]
    },
    {
     "name": "stderr",
     "output_type": "stream",
     "text": [
      "/Users/kobo/anaconda3/lib/python3.11/site-packages/sklearn/linear_model/_logistic.py:460: ConvergenceWarning: lbfgs failed to converge (status=1):\n",
      "STOP: TOTAL NO. of ITERATIONS REACHED LIMIT.\n",
      "\n",
      "Increase the number of iterations (max_iter) or scale the data as shown in:\n",
      "    https://scikit-learn.org/stable/modules/preprocessing.html\n",
      "Please also refer to the documentation for alternative solver options:\n",
      "    https://scikit-learn.org/stable/modules/linear_model.html#logistic-regression\n",
      "  n_iter_i = _check_optimize_result(\n"
     ]
    }
   ],
   "source": [
    "#** Trying with adding AGE **\n",
    "\n",
    "# Extract the 'AGE' column and convert it to a sparse matrix\n",
    "train_age_column = (train_data['AGE']).values.reshape(-1, 1)\n",
    "valid_age_column = (valid_data['AGE']).values.reshape(-1, 1)\n",
    "test_age_column = (test_data['AGE']).values.reshape(-1, 1)\n",
    "\n",
    "\n",
    "# Concatenate days_stay_column with X horizontally (ADDING ON TO PREVIOUS DAYSTAY)\n",
    "X_train_age = hstack((X_train, train_age_column))\n",
    "X_valid_age = hstack((X_valid, valid_age_column))\n",
    "X_test_age = hstack((X_test, test_age_column))\n",
    "\n",
    "clf3=LogisticRegression(C = 0.0005, penalty = 'l2', random_state = 42)\n",
    "clf3.fit(X_train_age, y_train)\n",
    "model3 = clf3\n",
    "\n",
    "Y_train_age = model3.predict_proba(X_train_age)[:,1]\n",
    "Y_valid_age = model3.predict_proba(X_valid_age)[:,1]\n",
    "Y_test_age = model3.predict_proba(X_test_age)[:,1]\n",
    "\n",
    "train_with_age_acc = np.mean(y_train == (Y_train_age > 0.5))\n",
    "valid_with_age_acc = np.mean(y_valid == (Y_valid_age > 0.5))\n",
    "test_with_age_acc = np.mean(y_test == (Y_test_age > 0.5))\n",
    "print(train_with_age_acc)\n",
    "print(valid_with_age_acc)\n",
    "print(test_with_age_acc)"
   ]
  },
  {
   "cell_type": "code",
   "execution_count": 37,
   "id": "4a8517c8",
   "metadata": {},
   "outputs": [
    {
     "name": "stdout",
     "output_type": "stream",
     "text": [
      "0.7339246119733924\n",
      "0.7263479145473042\n",
      "0.7326475243047705\n"
     ]
    }
   ],
   "source": [
    "#** Trying with adding DAYS_STAY **\n",
    "\n",
    "# Extract the 'DAYS_STAY' column and convert it to a sparse matrix\n",
    "train_days_stay = train_data['DAYS_STAY'].values.reshape(-1, 1)\n",
    "valid_days_stay = valid_data['DAYS_STAY'].values.reshape(-1, 1)\n",
    "test_days_stay = test_data['DAYS_STAY'].values.reshape(-1, 1)\n",
    "\n",
    "\n",
    "# Concatenate days_stay_column with X horizontally\n",
    "X_train_with_days_stay = hstack((X_train, train_days_stay))\n",
    "X_valid_with_days_stay = hstack((X_valid, valid_days_stay))\n",
    "X_test_with_days_stay = hstack((X_test, test_days_stay))\n",
    "\n",
    "clf2=LogisticRegression(C = 0.0005, penalty = 'l2', random_state = 42)\n",
    "clf2.fit(X_train_with_days_stay, y_train)\n",
    "model2 = clf2\n",
    "\n",
    "y_train_with_days_stay_preds = model2.predict_proba(X_train_with_days_stay)[:,1]\n",
    "y_valid_with_days_stay_preds = model2.predict_proba(X_valid_with_days_stay)[:,1]\n",
    "y_test_with_days_stay_preds = model2.predict_proba(X_test_with_days_stay)[:,1]\n",
    "\n",
    "train_with_daystay_acc = np.mean(y_train == (y_train_with_days_stay_preds > 0.5))\n",
    "valid_with_daystay_acc = np.mean(y_valid == (y_valid_with_days_stay_preds > 0.5))\n",
    "test_with_daystay_acc = np.mean(y_test == (y_test_with_days_stay_preds > 0.5))\n",
    "print(train_with_daystay_acc)\n",
    "print(valid_with_daystay_acc)\n",
    "print(test_with_daystay_acc)"
   ]
  },
  {
   "cell_type": "code",
   "execution_count": 38,
   "id": "24ad079f",
   "metadata": {},
   "outputs": [
    {
     "name": "stdout",
     "output_type": "stream",
     "text": [
      "0.0037694013303769536\n",
      "-0.0018085226630496498\n",
      "-0.0007913181098802013\n"
     ]
    }
   ],
   "source": [
    "print(train_with_daystay_acc - train_acc)\n",
    "print(valid_with_daystay_acc - valid_acc)\n",
    "print(test_with_daystay_acc - test_acc)"
   ]
  },
  {
   "cell_type": "markdown",
   "id": "a588ac67",
   "metadata": {},
   "source": [
    "USING patient data (age, gender)"
   ]
  },
  {
   "cell_type": "code",
   "execution_count": 44,
   "id": "389b01dd",
   "metadata": {},
   "outputs": [
    {
     "name": "stdout",
     "output_type": "stream",
     "text": [
      "0.7348115299334812\n",
      "0.7263479145473042\n",
      "0.7333257969703821\n"
     ]
    }
   ],
   "source": [
    "#** Trying with adding GENDER **\n",
    "\n",
    "# Extract the 'GENDER' column and convert it to a sparse matrix\n",
    "train_gender_column = (train_data['GENDER']=='M').values.reshape(-1, 1)\n",
    "valid_gender_column = (valid_data['GENDER']=='M').values.reshape(-1, 1)\n",
    "test_gender_column = (test_data['GENDER']=='M').values.reshape(-1, 1)\n",
    "\n",
    "\n",
    "# Concatenate days_stay_column with X horizontally (ADDING ON TO PREVIOUS DAYSTAY)\n",
    "newX_train = hstack((X_train_with_days_stay, train_gender_column))\n",
    "newX_valid = hstack((X_valid_with_days_stay, valid_gender_column))\n",
    "newX_test = hstack((X_test_with_days_stay, test_gender_column))\n",
    "\n",
    "clf3=LogisticRegression(C = 0.0005, penalty = 'l2', random_state = 42)\n",
    "clf3.fit(newX_train, y_train)\n",
    "model3 = clf3\n",
    "\n",
    "newy_train = model3.predict_proba(newX_train)[:,1]\n",
    "newy_valid = model3.predict_proba(newX_valid)[:,1]\n",
    "newy_test = model3.predict_proba(newX_test)[:,1]\n",
    "\n",
    "train_with_gender_acc = np.mean(y_train == (newy_train > 0.5))\n",
    "valid_with_gender_acc = np.mean(y_valid == (newy_valid > 0.5))\n",
    "test_with_gender_acc = np.mean(y_test == (newy_test > 0.5))\n",
    "print(train_with_gender_acc)\n",
    "print(valid_with_gender_acc)\n",
    "print(test_with_gender_acc)"
   ]
  },
  {
   "cell_type": "code",
   "execution_count": null,
   "id": "6c4a5628",
   "metadata": {},
   "outputs": [],
   "source": []
  }
 ],
 "metadata": {
  "kernelspec": {
   "display_name": "Python 3 (ipykernel)",
   "language": "python",
   "name": "python3"
  },
  "language_info": {
   "codemirror_mode": {
    "name": "ipython",
    "version": 3
   },
   "file_extension": ".py",
   "mimetype": "text/x-python",
   "name": "python",
   "nbconvert_exporter": "python",
   "pygments_lexer": "ipython3",
   "version": "3.11.5"
  }
 },
 "nbformat": 4,
 "nbformat_minor": 5
}
