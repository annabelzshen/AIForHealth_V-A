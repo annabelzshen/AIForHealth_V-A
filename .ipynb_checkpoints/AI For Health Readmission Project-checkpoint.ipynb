{
 "cells": [
  {
   "cell_type": "markdown",
   "id": "94e5bc68",
   "metadata": {},
   "source": [
    "Import Data:"
   ]
  },
  {
   "cell_type": "code",
   "execution_count": 39,
   "id": "8885f528",
   "metadata": {},
   "outputs": [],
   "source": [
    "import pandas as pd\n",
    "import numpy as np\n",
    "import datetime\n",
    "pd.set_option('display.max_columns', 999)\n",
    "import pandas.io.sql as psql\n",
    "# plot a figure directly on Notebook\n",
    "import matplotlib.pyplot as plt"
   ]
  },
  {
   "cell_type": "code",
   "execution_count": 30,
   "id": "de052ea2",
   "metadata": {},
   "outputs": [
    {
     "name": "stdout",
     "output_type": "stream",
     "text": [
      "Admissions Table\t(58976, 19)\n",
      "Index(['ROW_ID', 'SUBJECT_ID', 'HADM_ID', 'ADMITTIME', 'DISCHTIME',\n",
      "       'DEATHTIME', 'ADMISSION_TYPE', 'ADMISSION_LOCATION',\n",
      "       'DISCHARGE_LOCATION', 'INSURANCE', 'LANGUAGE', 'RELIGION',\n",
      "       'MARITAL_STATUS', 'ETHNICITY', 'EDREGTIME', 'EDOUTTIME', 'DIAGNOSIS',\n",
      "       'HOSPITAL_EXPIRE_FLAG', 'HAS_CHARTEVENTS_DATA'],\n",
      "      dtype='object')\n",
      "\n",
      "Diagnoses Table\t\t(651047, 5)\n",
      "Index(['ROW_ID', 'SUBJECT_ID', 'HADM_ID', 'SEQ_NUM', 'ICD9_CODE'], dtype='object')\n",
      "\n",
      "Patients Table\t\t(46520, 8)\n",
      "Index(['ROW_ID', 'SUBJECT_ID', 'GENDER', 'DOB', 'DOD', 'DOD_HOSP', 'DOD_SSN',\n",
      "       'EXPIRE_FLAG'],\n",
      "      dtype='object')\n"
     ]
    }
   ],
   "source": [
    "admissions = pd.read_csv(\"data/ADMISSIONS.csv.gz\", compression='gzip')\n",
    "diagnoses = pd.read_csv(\"data/DIAGNOSES_ICD.csv.gz\", compression='gzip')\n",
    "patients = pd.read_csv(\"data/PATIENTS.csv.gz\", compression='gzip')\n",
    "\n",
    "# admissions = pd.read_csv(\"demo-data/ADMISSIONS.csv\")\n",
    "# diagnoses = pd.read_csv(\"demo-data/DIAGNOSES_ICD.csv\")\n",
    "# patients = pd.read_csv(\"demo-data/PATIENTS.csv\")\n",
    "\n",
    "print(\"Admissions Table\\t\" + str(admissions.shape))\n",
    "print(admissions.columns)\n",
    "print(\"\\nDiagnoses Table\\t\\t\" + str(diagnoses.shape))\n",
    "print(diagnoses.columns)\n",
    "print(\"\\nPatients Table\\t\\t\" + str(patients.shape))\n",
    "print(patients.columns)"
   ]
  },
  {
   "cell_type": "code",
   "execution_count": 13,
   "id": "b3ad7652",
   "metadata": {
    "scrolled": true
   },
   "outputs": [],
   "source": [
    "# # Iterate through table\n",
    "# # Regular Table: subect_id: the whole row that is their first admssion\n",
    "# # During iteration, if subject_id is already in the newTableWeAreCreating, then we have seen the subject, we are doing a readmission right now\n",
    "#     # But, we have to check the time frame, because if its 30 days after the dictionary value, this is a new set of admission to consider\n",
    "# # first_admission_dataframe = pd.DataFrame(columns=admission_table.columns)\n",
    "# first_admission_dataframe = pd.DataFrame(columns=admission_table.columns)\n",
    "\n",
    "# # Iterate over rows\n",
    "# for index, row in admission_table.iterrows():\n",
    "#     # check if the subject_id has been admitted before\n",
    "#     if row['subject_id'] not in first_admission_dataframe['subject_id'].values:\n",
    "#         # Append the row to the new DataFrame\n",
    "#         first_admission_dataframe = pd.concat([first_admission_dataframe, pd.DataFrame([row])], \n",
    "#                                               axis=0, ignore_index=True)\n",
    "\n",
    "# print(first_admission_dataframe['admittime'])\n",
    "# # # Reset the index of the new DataFrame\n",
    "# # first_admission_dataframe.reset_index(drop=True, inplace=True)"
   ]
  },
  {
   "cell_type": "code",
   "execution_count": 48,
   "id": "e43bc76d",
   "metadata": {},
   "outputs": [
    {
     "name": "stdout",
     "output_type": "stream",
     "text": [
      "        ROW_ID_x  SUBJECT_ID  HADM_ID           ADMITTIME           DISCHTIME  \\\n",
      "2058           1           2   163353 2138-07-17 19:04:00 2138-07-21 15:48:00   \n",
      "2059           1           2   163353 2138-07-17 19:04:00 2138-07-21 15:48:00   \n",
      "2060           1           2   163353 2138-07-17 19:04:00 2138-07-21 15:48:00   \n",
      "2061           2           3   145834 2101-10-20 19:08:00 2101-10-31 13:58:00   \n",
      "2062           2           3   145834 2101-10-20 19:08:00 2101-10-31 13:58:00   \n",
      "...          ...         ...      ...                 ...                 ...   \n",
      "616663     58976       99999   113369 2117-12-30 07:15:00 2118-01-04 16:30:00   \n",
      "616664     58976       99999   113369 2117-12-30 07:15:00 2118-01-04 16:30:00   \n",
      "616665     58976       99999   113369 2117-12-30 07:15:00 2118-01-04 16:30:00   \n",
      "616666     58976       99999   113369 2117-12-30 07:15:00 2118-01-04 16:30:00   \n",
      "616667     58976       99999   113369 2117-12-30 07:15:00 2118-01-04 16:30:00   \n",
      "\n",
      "       DEATHTIME ADMISSION_TYPE         ADMISSION_LOCATION DISCHARGE_LOCATION  \\\n",
      "2058         NaN        NEWBORN  PHYS REFERRAL/NORMAL DELI               HOME   \n",
      "2059         NaN        NEWBORN  PHYS REFERRAL/NORMAL DELI               HOME   \n",
      "2060         NaN        NEWBORN  PHYS REFERRAL/NORMAL DELI               HOME   \n",
      "2061         NaN      EMERGENCY       EMERGENCY ROOM ADMIT                SNF   \n",
      "2062         NaN      EMERGENCY       EMERGENCY ROOM ADMIT                SNF   \n",
      "...          ...            ...                        ...                ...   \n",
      "616663       NaN       ELECTIVE  PHYS REFERRAL/NORMAL DELI                SNF   \n",
      "616664       NaN       ELECTIVE  PHYS REFERRAL/NORMAL DELI                SNF   \n",
      "616665       NaN       ELECTIVE  PHYS REFERRAL/NORMAL DELI                SNF   \n",
      "616666       NaN       ELECTIVE  PHYS REFERRAL/NORMAL DELI                SNF   \n",
      "616667       NaN       ELECTIVE  PHYS REFERRAL/NORMAL DELI                SNF   \n",
      "\n",
      "       INSURANCE  ... ROW_ID_y GENDER                  DOB  \\\n",
      "2058     Private  ...        1      M  2138-07-17 00:00:00   \n",
      "2059     Private  ...        1      M  2138-07-17 00:00:00   \n",
      "2060     Private  ...        1      M  2138-07-17 00:00:00   \n",
      "2061    Medicare  ...        2      M  2025-04-11 00:00:00   \n",
      "2062    Medicare  ...        2      M  2025-04-11 00:00:00   \n",
      "...          ...  ...      ...    ...                  ...   \n",
      "616663  Medicare  ...    46520      F  2054-01-06 00:00:00   \n",
      "616664  Medicare  ...    46520      F  2054-01-06 00:00:00   \n",
      "616665  Medicare  ...    46520      F  2054-01-06 00:00:00   \n",
      "616666  Medicare  ...    46520      F  2054-01-06 00:00:00   \n",
      "616667  Medicare  ...    46520      F  2054-01-06 00:00:00   \n",
      "\n",
      "                        DOD DOD_HOSP              DOD_SSN EXPIRE_FLAG  ROW_ID  \\\n",
      "2058                    NaN      NaN                  NaN           0       1   \n",
      "2059                    NaN      NaN                  NaN           0       2   \n",
      "2060                    NaN      NaN                  NaN           0       3   \n",
      "2061    2102-06-14 00:00:00      NaN  2102-06-14 00:00:00           1       4   \n",
      "2062    2102-06-14 00:00:00      NaN  2102-06-14 00:00:00           1       5   \n",
      "...                     ...      ...                  ...         ...     ...   \n",
      "616663                  NaN      NaN                  NaN           0  651043   \n",
      "616664                  NaN      NaN                  NaN           0  651044   \n",
      "616665                  NaN      NaN                  NaN           0  651045   \n",
      "616666                  NaN      NaN                  NaN           0  651046   \n",
      "616667                  NaN      NaN                  NaN           0  651047   \n",
      "\n",
      "        SEQ_NUM  ICD9_CODE  \n",
      "2058        1.0      V3001  \n",
      "2059        2.0       V053  \n",
      "2060        3.0       V290  \n",
      "2061        1.0       0389  \n",
      "2062        2.0      78559  \n",
      "...         ...        ...  \n",
      "616663      1.0      75612  \n",
      "616664      2.0       7861  \n",
      "616665      3.0       4019  \n",
      "616666      4.0      25000  \n",
      "616667      5.0       4139  \n",
      "\n",
      "[651047 rows x 29 columns]\n"
     ]
    }
   ],
   "source": [
    "# Merge Tables\n",
    "merged = admissions.merge(patients, on=\"SUBJECT_ID\").merge(diagnoses, \n",
    "            left_on=[\"SUBJECT_ID\",\"HADM_ID\"], right_on=[\"SUBJECT_ID\",\"HADM_ID\"])\n",
    "\n",
    "#\n",
    "# PROBLEM: there are multiple entries now for one admission time, each entry represents a different diagnoses\n",
    "    # Counts for diagnoses for one admittime range from 1 to 57\n",
    "        # print(merged['ADMITTIME'].value_counts())\n",
    "# Possible Fixes: merge them all together and make a new column that holds each diagnoses in an array\n",
    "\n",
    "# Convert time to objects\n",
    "merged[\"ADMITTIME\"] = pd.to_datetime(merged[\"ADMITTIME\"], format = '%Y-%m-%d %H:%M:%S', errors = 'coerce')\n",
    "merged[\"DISCHTIME\"] = pd.to_datetime(merged[\"DISCHTIME\"], format = '%Y-%m-%d %H:%M:%S', errors = 'coerce')\n",
    "\n",
    "merged = merged.sort_values(['SUBJECT_ID', 'ADMITTIME'], ascending=[True, True])\n",
    "\n",
    "print(merged)"
   ]
  },
  {
   "cell_type": "markdown",
   "id": "14fc855b",
   "metadata": {},
   "source": [
    "Case to consider: If there are three admission back to back less than 30 days apart\n",
    "\n",
    "Important features:\n",
    "\n",
    "    Admissions table\n",
    "        diagnosis\n",
    "        admission_type"
   ]
  }
 ],
 "metadata": {
  "kernelspec": {
   "display_name": "Python 3 (ipykernel)",
   "language": "python",
   "name": "python3"
  },
  "language_info": {
   "codemirror_mode": {
    "name": "ipython",
    "version": 3
   },
   "file_extension": ".py",
   "mimetype": "text/x-python",
   "name": "python",
   "nbconvert_exporter": "python",
   "pygments_lexer": "ipython3",
   "version": "3.11.5"
  }
 },
 "nbformat": 4,
 "nbformat_minor": 5
}
